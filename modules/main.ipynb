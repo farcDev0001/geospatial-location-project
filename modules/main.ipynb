{
 "cells": [
  {
   "cell_type": "markdown",
   "metadata": {},
   "source": [
    "### 1º Voy a priorizar en primer lugar a los  diseñadores y desarrolladores (lugares con aglomeración de empresas de videojuegos y tecnológicas que hayan facturado más de 1M en su historia, las de videojuegos cumplen el perfil en este caso)"
   ]
  },
  {
   "cell_type": "markdown",
   "metadata": {},
   "source": [
    "Me quedo de la base de datos Companies con las empresas de videojuegos que han facturado más de 1M, ejecuto el script que escribe el json con la consulta filtrando la base de datos todo con el formato adecuado"
   ]
  },
  {
   "cell_type": "code",
   "execution_count": 1,
   "metadata": {},
   "outputs": [],
   "source": [
    "from getJsonGames1M import writeJsonOffice\n",
    "writeJsonOffice()"
   ]
  },
  {
   "cell_type": "markdown",
   "metadata": {},
   "source": [
    "Hago el mongoimport e importo la colección a la base de datos,indexo el campo position como índice geoespacial. Ahora puedo buscar los lugares donde se aglomeran estas empresas, y buscar la lista de ciudades. El scrip devuelve una lista de ciudades donde hay empresas que a 100km a la redonda tienen más de 27 empresas de videojuegos que han facturado más de 1M, creo que es suficiente para satisfacer a los desarrolladores y a los diseñadores. "
   ]
  },
  {
   "cell_type": "code",
   "execution_count": 2,
   "metadata": {},
   "outputs": [],
   "source": [
    "from getCitiesDevNDesigner import citiesDevNDesignerOK\n",
    "citiesDevNDes = citiesDevNDesignerOK()"
   ]
  },
  {
   "cell_type": "code",
   "execution_count": 3,
   "metadata": {},
   "outputs": [
    {
     "name": "stdout",
     "output_type": "stream",
     "text": [
      "{'city': 'Brooklyn', 'lat': 40.714952833333335, 'long': -73.9684315}\n"
     ]
    }
   ],
   "source": [
    "print(citiesDevNDes[1])"
   ]
  },
  {
   "cell_type": "markdown",
   "metadata": {},
   "source": [
    "### 2º En las anteriores ciudades voy a buscar qué tal son las comunicaciones, así cumplo con el requisito de los ejecutivos, para ello ejecuto el script que buscará aeropuertos, estaciones de tren y autobús con la api de google place pasándole el diccionario de las ciudades con sus coordenadas. El criterio va a ser que al menos haya 1 aeropuerto y 10 estaciones de tren o metro en 20 km a la redonda. Es de suponer que todas las ciudades que cumplan el criterio también tendrán buenas comunicaciones por carretera."
   ]
  },
  {
   "cell_type": "code",
   "execution_count": 4,
   "metadata": {},
   "outputs": [],
   "source": [
    "from filterCitiesForExecutive import getCities"
   ]
  },
  {
   "cell_type": "code",
   "execution_count": 5,
   "metadata": {},
   "outputs": [
    {
     "name": "stderr",
     "output_type": "stream",
     "text": [
      "/usr/lib/python3/dist-packages/requests/__init__.py:80: RequestsDependencyWarning: urllib3 (1.25.3) or chardet (3.0.4) doesn't match a supported version!\n",
      "  RequestsDependencyWarning)\n"
     ]
    }
   ],
   "source": [
    "cities = getCities(citiesDevNDes)"
   ]
  },
  {
   "cell_type": "code",
   "execution_count": 6,
   "metadata": {},
   "outputs": [
    {
     "data": {
      "text/plain": [
       "38"
      ]
     },
     "execution_count": 6,
     "metadata": {},
     "output_type": "execute_result"
    }
   ],
   "source": [
    "len(cities)"
   ]
  },
  {
   "cell_type": "markdown",
   "metadata": {},
   "source": [
    "### 3º Ahora voy a buscar ciudades con una buena aglomeración de Starbucks, pienso que 10 en 10 km a la redonda es adecuado"
   ]
  },
  {
   "cell_type": "code",
   "execution_count": 9,
   "metadata": {},
   "outputs": [],
   "source": [
    "from filterCitiesStarbucks import filterStarbucks"
   ]
  },
  {
   "cell_type": "code",
   "execution_count": 10,
   "metadata": {},
   "outputs": [],
   "source": [
    "cities = list(filter(filterStarbucks,cities))"
   ]
  },
  {
   "cell_type": "markdown",
   "metadata": {},
   "source": [
    "### 4º El siguiente filtro que voy a aplicar a mi lista es uno que satisfaga a las familias, me ha parecido que el criterio de que haya más de 5 lugares con la palabra universidad en 10 km cuadrados es un buen criterio, si hay universidades también hay colegios y guarderías para los niños"
   ]
  },
  {
   "cell_type": "code",
   "execution_count": 11,
   "metadata": {},
   "outputs": [],
   "source": [
    "from filterCitiesSchool import filterUniversity\n",
    "cities = list(filter(filterUniversity,cities))\n"
   ]
  },
  {
   "cell_type": "code",
   "execution_count": 12,
   "metadata": {},
   "outputs": [
    {
     "data": {
      "text/plain": [
       "31"
      ]
     },
     "execution_count": 12,
     "metadata": {},
     "output_type": "execute_result"
    }
   ],
   "source": [
    "len(cities)"
   ]
  },
  {
   "cell_type": "code",
   "execution_count": 8,
   "metadata": {},
   "outputs": [],
   "source": [
    "import pandas as pd\n",
    "#pd.DataFrame(cities).to_csv('../outputs/citiesStepUni.csv')\"\"\"\n",
    "#(pd.read_csv('../outputs/citiesStepUni.csv'))[['city','lat','long']].to_json('../outputs/citiesStepUni.csv')"
   ]
  },
  {
   "cell_type": "code",
   "execution_count": 12,
   "metadata": {},
   "outputs": [
    {
     "name": "stdout",
     "output_type": "stream",
     "text": [
      "{'city': {'0': 'New York', '1': 'Brooklyn', '2': 'NYC', '3': 'Los Angeles', '4': 'Santa Monica', '5': 'Culver City', '6': 'Torrance', '7': 'West Hollywood', '8': 'Brea', '9': 'Century City', '10': 'Beverly Hills', '11': 'Palo Alto', '12': 'El Segundo', '13': 'Boston', '14': 'Cambridge', '15': 'Waltham', '16': 'San Diego', '17': 'La Jolla', '18': 'London', '19': 'Philadelphia', '20': 'King of Prussia', '21': 'Las Vegas', '22': 'Montreal', '23': 'Austin', '24': 'Vancouver', '25': 'Rockville', '26': 'Plano', '27': 'Helsinki', '28': 'Tardeo,Mumbai', '29': 'Chicago', '30': 'Madrid'}, 'lat': {'0': 40.7357815562, '1': 40.7149528333, '2': 40.801358, '3': 34.0192926667, '4': 34.019315225, '5': 34.01004855, '6': 33.8231, '7': 34.0906409, '8': 33.9133208, '9': 34.057646, '10': 34.067554, '11': 34.007967, '12': 34.048857, '13': 42.34914935, '14': 42.3721995, '15': 42.417268, '16': 32.9196195, '17': 32.841791, '18': 53.344104, '19': 39.9525762, '20': 40.099703, '21': 36.1062, '22': 45.51799995, '23': 30.3302716667, '24': 49.28235205, '25': 39.105555, '26': 33.075067, '27': 60.171821, '28': 18.9742904, '29': 41.889183, '30': 40.4273082}, 'long': {'0': -73.97903525, '1': -73.9684315, '2': -74.3372, '3': -118.3379412, '4': -118.4875935, '5': -118.39790865, '6': -118.328584, '7': -118.3740745, '8': -117.8789031, '9': -118.417382, '10': -118.395658, '11': -118.489681, '12': -118.251343, '13': -71.062173275, '14': -71.1143815, '15': -71.258466, '16': -117.2243855, '17': -117.274602, '18': -6.267494, '19': -75.1652518, '20': -75.39599, '21': -115.1374, '22': -73.58168965, '23': -97.7393703333, '24': -123.1088365, '25': -77.179772, '26': -96.823962, '27': 24.945167, '28': 72.8127265, '29': -87.632519, '30': -3.6895115}}\n"
     ]
    }
   ],
   "source": [
    "import json\n",
    "with open('../outputs/citiesStepUni.csv', 'r') as myfile:\n",
    "    data=myfile.read()\n",
    "    obj = json.loads(data)\n",
    "print(obj)"
   ]
  },
  {
   "cell_type": "markdown",
   "metadata": {},
   "source": [
    "### 5º Ahora voy a buscar que haya una buenna aglomeración de bares en la ciudad, si hay bares habrá discotecas y demás establecimientos de ocio nocturno y diurno. 100 bares en 10 km"
   ]
  },
  {
   "cell_type": "code",
   "execution_count": 13,
   "metadata": {},
   "outputs": [],
   "source": [
    "from filterCitiesBar import filterBar\n",
    "c = list(filter(filterBar,cities))"
   ]
  },
  {
   "cell_type": "code",
   "execution_count": 14,
   "metadata": {},
   "outputs": [
    {
     "data": {
      "text/plain": [
       "30"
      ]
     },
     "execution_count": 14,
     "metadata": {},
     "output_type": "execute_result"
    }
   ],
   "source": [
    "len(c)"
   ]
  },
  {
   "cell_type": "code",
   "execution_count": null,
   "metadata": {},
   "outputs": [],
   "source": []
  },
  {
   "cell_type": "code",
   "execution_count": null,
   "metadata": {},
   "outputs": [],
   "source": []
  },
  {
   "cell_type": "code",
   "execution_count": null,
   "metadata": {},
   "outputs": [],
   "source": []
  }
 ],
 "metadata": {
  "kernelspec": {
   "display_name": "Python 3",
   "language": "python",
   "name": "python3"
  },
  "language_info": {
   "codemirror_mode": {
    "name": "ipython",
    "version": 3
   },
   "file_extension": ".py",
   "mimetype": "text/x-python",
   "name": "python",
   "nbconvert_exporter": "python",
   "pygments_lexer": "ipython3",
   "version": "3.6.8"
  }
 },
 "nbformat": 4,
 "nbformat_minor": 2
}
