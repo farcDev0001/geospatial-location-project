{
 "cells": [
  {
   "cell_type": "markdown",
   "metadata": {},
   "source": [
    "### 1º Voy a priorizar en primer lugar a los  diseñadores y desarrolladores (lugares con aglomeración de empresas de videojuegos y tecnológicas que hayan facturado más de 1M en su historia, las de videojuegos cumplen el perfil en este caso)"
   ]
  },
  {
   "cell_type": "markdown",
   "metadata": {},
   "source": [
    "Me quedo de la base de datos Companies con las empresas de videojuegos que han facturado más de 1M, ejecuto el script que escribe el json con la consulta filtrando la base de datos todo con el formato adecuado"
   ]
  },
  {
   "cell_type": "code",
   "execution_count": 9,
   "metadata": {},
   "outputs": [],
   "source": [
    "from getJsonGames1M import writeJsonOffice\n",
    "writeJsonOffice()"
   ]
  },
  {
   "cell_type": "markdown",
   "metadata": {},
   "source": [
    "Hago el mongoimport e importo la colección a la base de datos,indexo el campo position como índice geoespacial. Ahora puedo buscar los lugares donde se aglomeran estas empresas, y buscar la lista de ciudades. El scrip devuelve una lista de ciudades donde hay empresas que a 100km a la redonda tienen más de 27 empresas de videojuegos que han facturado más de 1M, creo que es suficiente para satisfacer a los desarrolladores y a los diseñadores. "
   ]
  },
  {
   "cell_type": "code",
   "execution_count": 10,
   "metadata": {},
   "outputs": [],
   "source": [
    "from getCitiesDevNDesigner import citiesDevNDesignerOK\n",
    "citiesDevNDes = citiesDevNDesignerOK()"
   ]
  },
  {
   "cell_type": "code",
   "execution_count": 11,
   "metadata": {},
   "outputs": [
    {
     "name": "stdout",
     "output_type": "stream",
     "text": [
      "{'New York': [40.735781556250004, -73.97903525000001], 'Brooklyn': [40.714952833333335, -73.9684315], 'NYC': [40.801358, -74.3372], '46395 Bocholt': [51.808933, 6.553452], 'Cologne': [50.945289, 6.921546], 'Seattle': [47.61063543333333, -122.33923198333333], 'Bellevue': [47.579208, -122.155668], 'Los Angeles': [34.019292666666665, -118.3379412], 'Santa Monica': [34.019315225, -118.48759349999999], 'Sherman Oaks': [34.153206999999995, -118.4440385], 'Culver City': [34.01004854999999, -118.39790865], 'Torrance': [33.8231, -118.328584], 'Brea': [33.9133208, -117.8789031], 'Beverly Hills': [34.067554, -118.395658], 'Calabasas': [34.1549426, -118.6545471], 'El Segundo': [34.048857, -118.251343], 'Century City': [34.057646, -118.417382], 'Palo Alto': [34.007967, -118.489681], 'West Hollywood': [34.0906409, -118.3740745], 'Ramat Gan': [31.046051, 34.851612], '': [31.046051, 34.851612], 'Boston': [42.349149350000005, -71.06217327499999], 'Cambridge': [42.3721995, -71.11438150000001], 'Waltham': [42.417268, -71.258466], 'Westwood': [42.214483, -71.185964], 'Andover': [42.656621, -71.140538], 'San Diego': [32.919619499999996, -117.22438550000001], 'Solana Beach': [33.020832, -117.077311], 'La Jolla': [32.841791, -117.274602], 'Doylestown': [40.3321202, -75.1184485], 'London': [53.344104, -6.267494], 'Redmond': [37.09024, -95.712891], 'West Palm Beach': [43.67084, -83.913153], 'Boothwyn': [39.8728373, -75.4784988], 'Malvern': [40.054547, -75.515376], 'King of Prussia': [40.099703, -75.39599], 'Philadelphia': [39.9525762, -75.1652518], 'Paris': [46.227638, 2.213749], 'Las Vegas': [36.1062, -115.1374], 'Cork': [51.8717115, -8.5010032], 'Limerick': [52.6638571, -8.6267726], 'Aachen': [50.791481, 6.066681], 'Boca Raton': [26.38748095, -80.11585625000001], 'Montreal': [45.517999950000004, -73.58168965], 'Dundee': [56.461723, -2.969416], 'Austin': [30.330271666666665, -97.73937033333334], 'Vancouver': [49.28235205, -123.1088365], 'Rockville': [39.105555, -77.179772], 'Plano': [33.075067, -96.823962], 'Tel Aviv': [32.0554, 34.7595], 'Newcastle Upon Tyne': [54.971346, -1.611141], 'Champaign': [40.1128, -88.271074], 'Helsinki': [60.171821, 24.945167], 'Tardeo,Mumbai': [18.9742904, 72.8127265], 'Dayton': [39.7605421, -84.1949463], 'Chicago': [41.889183, -87.632519], 'Madrid': [40.4273082, -3.6895115], 'Mississauga, ON': [43.5351549, -79.6735074]}\n"
     ]
    }
   ],
   "source": [
    "print(citiesDevNDes)"
   ]
  },
  {
   "cell_type": "markdown",
   "metadata": {},
   "source": [
    "### 2º En las anteriores ciudades voy a buscar qué tal son las comunicaciones, así cumplo con el requisito de los ejecutivos, para ello ejecuto el script que buscará aeropuertos, estaciones de tren y autobús con la api de google place pasándole el diccionario de las ciudades con sus coordenadas. El criterio va a ser que al menos haya 1 aeropuerto, 3 estaciones de tren y 5 de autobus en 50 km a la redonda. Es de suponer que todas las ciudades que cumplan el criterio también tendrán buenas comunicaciones por carretera."
   ]
  },
  {
   "cell_type": "code",
   "execution_count": null,
   "metadata": {},
   "outputs": [],
   "source": []
  }
 ],
 "metadata": {
  "kernelspec": {
   "display_name": "Python 3",
   "language": "python",
   "name": "python3"
  },
  "language_info": {
   "codemirror_mode": {
    "name": "ipython",
    "version": 3
   },
   "file_extension": ".py",
   "mimetype": "text/x-python",
   "name": "python",
   "nbconvert_exporter": "python",
   "pygments_lexer": "ipython3",
   "version": "3.6.8"
  }
 },
 "nbformat": 4,
 "nbformat_minor": 2
}
