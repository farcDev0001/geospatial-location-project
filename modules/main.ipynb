{
 "cells": [
  {
   "cell_type": "markdown",
   "metadata": {},
   "source": [
    "### 1º Voy a priorizar en primer lugar a los  diseñadores y desarrolladores (lugares con aglomeración de empresas de videojuegos y tecnológicas que hayan facturado más de 1M en su historia, las de videojuegos cumplen el perfil en este caso)"
   ]
  },
  {
   "cell_type": "markdown",
   "metadata": {},
   "source": [
    "Me quedo de la base de datos Companies con las empresas de videojuegos que han facturado más de 1M, ejecuto el script que escribe el json con la consulta filtrando la base de datos todo con el formato adecuado"
   ]
  },
  {
   "cell_type": "code",
   "execution_count": 1,
   "metadata": {},
   "outputs": [],
   "source": [
    "from getJsonGames1M import writeJsonOffice\n",
    "writeJsonOffice()"
   ]
  },
  {
   "cell_type": "markdown",
   "metadata": {},
   "source": [
    "Hago el mongoimport e importo la colección a la base de datos,indexo el campo position como índice geoespacial. Ahora puedo buscar los lugares donde se aglomeran estas empresas, y buscar la lista de ciudades. El scrip devuelve una lista de ciudades donde hay empresas que a 100km a la redonda tienen más de 27 empresas de videojuegos que han facturado más de 1M, creo que es suficiente para satisfacer a los desarrolladores y a los diseñadores. "
   ]
  },
  {
   "cell_type": "code",
   "execution_count": 2,
   "metadata": {},
   "outputs": [],
   "source": [
    "from getCitiesDevNDesigner import citiesDevNDesignerOK\n",
    "citiesDevNDes = citiesDevNDesignerOK()"
   ]
  },
  {
   "cell_type": "code",
   "execution_count": 3,
   "metadata": {},
   "outputs": [
    {
     "name": "stdout",
     "output_type": "stream",
     "text": [
      "{'city': 'Brooklyn', 'lat': 40.714952833333335, 'long': -73.9684315}\n"
     ]
    }
   ],
   "source": [
    "print(citiesDevNDes[1])"
   ]
  },
  {
   "cell_type": "markdown",
   "metadata": {},
   "source": [
    "### 2º En las anteriores ciudades voy a buscar qué tal son las comunicaciones, así cumplo con el requisito de los ejecutivos, para ello ejecuto el script que buscará aeropuertos, estaciones de tren y autobús con la api de google place pasándole el diccionario de las ciudades con sus coordenadas. El criterio va a ser que al menos haya 1 aeropuerto y 10 estaciones de tren o metro en 20 km a la redonda. Es de suponer que todas las ciudades que cumplan el criterio también tendrán buenas comunicaciones por carretera."
   ]
  },
  {
   "cell_type": "code",
   "execution_count": 4,
   "metadata": {},
   "outputs": [],
   "source": [
    "from filterCitiesForExecutive import getCities"
   ]
  },
  {
   "cell_type": "code",
   "execution_count": 5,
   "metadata": {},
   "outputs": [],
   "source": [
    "cities = getCities(citiesDevNDes)"
   ]
  },
  {
   "cell_type": "code",
   "execution_count": 6,
   "metadata": {},
   "outputs": [
    {
     "data": {
      "text/plain": [
       "42"
      ]
     },
     "execution_count": 6,
     "metadata": {},
     "output_type": "execute_result"
    }
   ],
   "source": [
    "len(cities)"
   ]
  },
  {
   "cell_type": "markdown",
   "metadata": {},
   "source": [
    "### 3º Ahora voy a buscar ciudades con una buena aglomeración de Starbucks, pienso que 10 en 10 km a la redonda es adecuado"
   ]
  },
  {
   "cell_type": "code",
   "execution_count": 7,
   "metadata": {},
   "outputs": [],
   "source": [
    "from filterCitiesStarbucks import filterStarbucks"
   ]
  },
  {
   "cell_type": "code",
   "execution_count": 10,
   "metadata": {},
   "outputs": [],
   "source": [
    "cities = list(filter(filterStarbucks,cities))"
   ]
  },
  {
   "cell_type": "code",
   "execution_count": 15,
   "metadata": {},
   "outputs": [
    {
     "data": {
      "text/plain": [
       "[{'city': 'New York', 'lat': 40.735781556250004, 'long': -73.97903525000001},\n",
       " {'city': 'Brooklyn', 'lat': 40.714952833333335, 'long': -73.9684315},\n",
       " {'city': 'NYC', 'lat': 40.801358, 'long': -74.3372},\n",
       " {'city': 'Seattle', 'lat': 47.61063543333333, 'long': -122.33923198333333},\n",
       " {'city': 'Bellevue', 'lat': 47.579208, 'long': -122.155668},\n",
       " {'city': 'Los Angeles', 'lat': 34.019292666666665, 'long': -118.3379412},\n",
       " {'city': 'Santa Monica', 'lat': 34.019315225, 'long': -118.48759349999999},\n",
       " {'city': 'Sherman Oaks', 'lat': 34.153206999999995, 'long': -118.4440385},\n",
       " {'city': 'Culver City', 'lat': 34.01004854999999, 'long': -118.39790865},\n",
       " {'city': 'Torrance', 'lat': 33.8231, 'long': -118.328584},\n",
       " {'city': 'Beverly Hills', 'lat': 34.067554, 'long': -118.395658},\n",
       " {'city': 'Palo Alto', 'lat': 34.007967, 'long': -118.489681},\n",
       " {'city': 'Calabasas', 'lat': 34.1549426, 'long': -118.6545471},\n",
       " {'city': 'El Segundo', 'lat': 34.048857, 'long': -118.251343},\n",
       " {'city': 'Century City', 'lat': 34.057646, 'long': -118.417382},\n",
       " {'city': 'West Hollywood', 'lat': 34.0906409, 'long': -118.3740745},\n",
       " {'city': 'Brea', 'lat': 33.9133208, 'long': -117.8789031},\n",
       " {'city': 'Boston', 'lat': 42.349149350000005, 'long': -71.06217327499999},\n",
       " {'city': 'Cambridge', 'lat': 42.3721995, 'long': -71.11438150000001},\n",
       " {'city': 'Westwood', 'lat': 42.214483, 'long': -71.185964},\n",
       " {'city': 'Waltham', 'lat': 42.417268, 'long': -71.258466},\n",
       " {'city': 'San Diego', 'lat': 32.919619499999996, 'long': -117.22438550000001},\n",
       " {'city': 'Solana Beach', 'lat': 33.020832, 'long': -117.077311},\n",
       " {'city': 'La Jolla', 'lat': 32.841791, 'long': -117.274602},\n",
       " {'city': 'London', 'lat': 53.344104, 'long': -6.267494},\n",
       " {'city': 'Philadelphia', 'lat': 39.9525762, 'long': -75.1652518},\n",
       " {'city': 'King of Prussia', 'lat': 40.099703, 'long': -75.39599},\n",
       " {'city': 'Las Vegas', 'lat': 36.1062, 'long': -115.1374},\n",
       " {'city': 'Montreal', 'lat': 45.517999950000004, 'long': -73.58168965},\n",
       " {'city': 'Austin', 'lat': 30.330271666666665, 'long': -97.73937033333334},\n",
       " {'city': 'Vancouver', 'lat': 49.28235205, 'long': -123.1088365},\n",
       " {'city': 'Rockville', 'lat': 39.105555, 'long': -77.179772},\n",
       " {'city': 'Plano', 'lat': 33.075067, 'long': -96.823962},\n",
       " {'city': 'Helsinki', 'lat': 60.171821, 'long': 24.945167},\n",
       " {'city': 'Tardeo,Mumbai', 'lat': 18.9742904, 'long': 72.8127265},\n",
       " {'city': 'Chicago', 'lat': 41.889183, 'long': -87.632519},\n",
       " {'city': 'Madrid', 'lat': 40.4273082, 'long': -3.6895115},\n",
       " {'city': 'Mississauga, ON', 'lat': 43.5351549, 'long': -79.6735074}]"
      ]
     },
     "execution_count": 15,
     "metadata": {},
     "output_type": "execute_result"
    }
   ],
   "source": [
    "cities"
   ]
  },
  {
   "cell_type": "code",
   "execution_count": 14,
   "metadata": {},
   "outputs": [
    {
     "data": {
      "text/plain": [
       "[]"
      ]
     },
     "execution_count": 14,
     "metadata": {},
     "output_type": "execute_result"
    }
   ],
   "source": [
    "from filterCitiesSchool import filterSchool\n",
    "list(filter(filterSchool,cities))\n"
   ]
  },
  {
   "cell_type": "code",
   "execution_count": 16,
   "metadata": {},
   "outputs": [],
   "source": [
    "def getJsonFourSquare(lat,long,query,radius,lim=1000):\n",
    "    from getEnv import getVariable\n",
    "    import requests as re\n",
    "    url = 'https://api.foursquare.com/v2/venues/explore'\n",
    "\n",
    "    params = {\n",
    "    'client_id':getVariable('fourid'),\n",
    "    'client_secret':getVariable('foursecret'),\n",
    "    'v':'20180323',\n",
    "    'll':'{},{}'.format(lat,long),\n",
    "    'query':query,\n",
    "    'radius':radius,\n",
    "    'limit':lim\n",
    "    }\n",
    "    return re.get(url=url, params=params).json()"
   ]
  },
  {
   "cell_type": "code",
   "execution_count": null,
   "metadata": {},
   "outputs": [],
   "source": []
  },
  {
   "cell_type": "code",
   "execution_count": 19,
   "metadata": {},
   "outputs": [],
   "source": [
    "json = getJsonFourSquare(40.714952833333335,-73.9684315,'school',10000,lim=500)"
   ]
  },
  {
   "cell_type": "code",
   "execution_count": 22,
   "metadata": {},
   "outputs": [
    {
     "data": {
      "text/plain": [
       "{'reasons': {'count': 0,\n",
       "  'items': [{'summary': 'This spot is popular',\n",
       "    'type': 'general',\n",
       "    'reasonName': 'globalInteractionReason'}]},\n",
       " 'venue': {'id': '4b1ee6fef964a520552124e3',\n",
       "  'name': 'Lycée Français de New York',\n",
       "  'contact': {},\n",
       "  'location': {'address': '505 E 75th St',\n",
       "   'crossStreet': 'btwn York Ave. & FDR Dr.',\n",
       "   'lat': 40.76867121028199,\n",
       "   'lng': -73.95172135979784,\n",
       "   'labeledLatLngs': [{'label': 'display',\n",
       "     'lat': 40.76867121028199,\n",
       "     'lng': -73.95172135979784}],\n",
       "   'distance': 6143,\n",
       "   'postalCode': '10021',\n",
       "   'cc': 'US',\n",
       "   'city': 'New York',\n",
       "   'state': 'NY',\n",
       "   'country': 'United States',\n",
       "   'formattedAddress': ['505 E 75th St (btwn York Ave. & FDR Dr.)',\n",
       "    'New York, NY 10021',\n",
       "    'United States']},\n",
       "  'categories': [{'id': '4bf58dd8d48988d13b941735',\n",
       "    'name': 'School',\n",
       "    'pluralName': 'Schools',\n",
       "    'shortName': 'School',\n",
       "    'icon': {'prefix': 'https://ss3.4sqi.net/img/categories_v2/building/school_',\n",
       "     'suffix': '.png'},\n",
       "    'primary': True}],\n",
       "  'verified': False,\n",
       "  'stats': {'tipCount': 0,\n",
       "   'usersCount': 0,\n",
       "   'checkinsCount': 0,\n",
       "   'visitsCount': 0},\n",
       "  'beenHere': {'count': 0,\n",
       "   'lastCheckinExpiredAt': 0,\n",
       "   'marked': False,\n",
       "   'unconfirmedCount': 0},\n",
       "  'photos': {'count': 0, 'groups': []},\n",
       "  'hereNow': {'count': 0, 'summary': 'Nobody here', 'groups': []}},\n",
       " 'referralId': 'e-0-4b1ee6fef964a520552124e3-3'}"
      ]
     },
     "execution_count": 22,
     "metadata": {},
     "output_type": "execute_result"
    }
   ],
   "source": [
    "json['response']['groups'][0]['items'][3]"
   ]
  },
  {
   "cell_type": "code",
   "execution_count": null,
   "metadata": {},
   "outputs": [],
   "source": []
  }
 ],
 "metadata": {
  "kernelspec": {
   "display_name": "Python 3",
   "language": "python",
   "name": "python3"
  },
  "language_info": {
   "codemirror_mode": {
    "name": "ipython",
    "version": 3
   },
   "file_extension": ".py",
   "mimetype": "text/x-python",
   "name": "python",
   "nbconvert_exporter": "python",
   "pygments_lexer": "ipython3",
   "version": "3.6.8"
  }
 },
 "nbformat": 4,
 "nbformat_minor": 2
}
