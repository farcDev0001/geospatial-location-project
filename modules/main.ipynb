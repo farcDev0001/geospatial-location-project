{
 "cells": [
  {
   "cell_type": "markdown",
   "metadata": {},
   "source": [
    "### 1º Voy a priorizar en primer lugar a los  diseñadores y desarrolladores (lugares con aglomeración de empresas de videojuegos y tecnológicas que hayan facturado más de 1M en su historia, las de videojuegos cumplen el perfil en este caso)"
   ]
  },
  {
   "cell_type": "markdown",
   "metadata": {},
   "source": [
    "Me quedo de la base de datos Companies con las empresas de videojuegos que han facturado más de 1M, ejecuto el script que escribe el json con la consulta filtrando la base de datos todo con el formato adecuado"
   ]
  },
  {
   "cell_type": "code",
   "execution_count": 1,
   "metadata": {},
   "outputs": [],
   "source": [
    "from getJsonGames1M import writeJsonOffice\n",
    "writeJsonOffice()"
   ]
  },
  {
   "cell_type": "markdown",
   "metadata": {},
   "source": [
    "Hago el mongoimport e importo la colección a la base de datos,indexo el campo position como índice geoespacial. Ahora puedo buscar los lugares donde se aglomeran estas empresas, y buscar la lista de ciudades. El scrip devuelve una lista de ciudades donde hay empresas que a 100km a la redonda tienen más de 27 empresas de videojuegos que han facturado más de 1M, creo que es suficiente para satisfacer a los desarrolladores y a los diseñadores. "
   ]
  },
  {
   "cell_type": "code",
   "execution_count": 2,
   "metadata": {},
   "outputs": [],
   "source": [
    "from getCitiesDevNDesigner import citiesDevNDesignerOK\n",
    "citiesDevNDes = citiesDevNDesignerOK()"
   ]
  },
  {
   "cell_type": "code",
   "execution_count": 3,
   "metadata": {},
   "outputs": [
    {
     "name": "stdout",
     "output_type": "stream",
     "text": [
      "{'city': 'Brooklyn', 'lat': 40.714952833333335, 'long': -73.9684315}\n"
     ]
    }
   ],
   "source": [
    "print(citiesDevNDes[1])"
   ]
  },
  {
   "cell_type": "markdown",
   "metadata": {},
   "source": [
    "### 2º En las anteriores ciudades voy a buscar qué tal son las comunicaciones, así cumplo con el requisito de los ejecutivos, para ello ejecuto el script que buscará aeropuertos, estaciones de tren y autobús con la api de google place pasándole el diccionario de las ciudades con sus coordenadas. El criterio va a ser que al menos haya 1 aeropuerto y 10 estaciones de tren o metro en 20 km a la redonda. Es de suponer que todas las ciudades que cumplan el criterio también tendrán buenas comunicaciones por carretera."
   ]
  },
  {
   "cell_type": "code",
   "execution_count": 4,
   "metadata": {},
   "outputs": [],
   "source": [
    "from filterCitiesForExecutive import getCities"
   ]
  },
  {
   "cell_type": "code",
   "execution_count": 6,
   "metadata": {},
   "outputs": [],
   "source": [
    "cities = getCities(citiesDevNDes)"
   ]
  },
  {
   "cell_type": "code",
   "execution_count": 7,
   "metadata": {},
   "outputs": [
    {
     "data": {
      "text/plain": [
       "38"
      ]
     },
     "execution_count": 7,
     "metadata": {},
     "output_type": "execute_result"
    }
   ],
   "source": [
    "len(cities)"
   ]
  },
  {
   "cell_type": "markdown",
   "metadata": {},
   "source": [
    "### 3º Ahora voy a buscar ciudades con una buena aglomeración de Starbucks, pienso que 10 en 10 km a la redonda es adecuado"
   ]
  },
  {
   "cell_type": "code",
   "execution_count": 8,
   "metadata": {},
   "outputs": [],
   "source": [
    "from filterCitiesStarbucks import filterStarbucks"
   ]
  },
  {
   "cell_type": "code",
   "execution_count": 9,
   "metadata": {},
   "outputs": [],
   "source": [
    "cities = list(filter(filterStarbucks,cities))"
   ]
  },
  {
   "cell_type": "code",
   "execution_count": 10,
   "metadata": {},
   "outputs": [
    {
     "data": {
      "text/plain": [
       "34"
      ]
     },
     "execution_count": 10,
     "metadata": {},
     "output_type": "execute_result"
    }
   ],
   "source": [
    "len(cities)"
   ]
  },
  {
   "cell_type": "markdown",
   "metadata": {},
   "source": [
    "### 4º El siguiente filtro que voy a aplicar a mi lista es uno que satisfaga a las familias, me ha parecido que el criterio de que haya más de 5 lugares con la palabra universidad en 10 km cuadrados es un buen criterio, si hay universidades también hay colegios y guarderías para los niños"
   ]
  },
  {
   "cell_type": "code",
   "execution_count": 12,
   "metadata": {},
   "outputs": [],
   "source": [
    "from filterCitiesSchool import filterUniversity\n",
    "cities = list(filter(filterUniversity,cities))\n"
   ]
  },
  {
   "cell_type": "code",
   "execution_count": 13,
   "metadata": {},
   "outputs": [
    {
     "data": {
      "text/plain": [
       "31"
      ]
     },
     "execution_count": 13,
     "metadata": {},
     "output_type": "execute_result"
    }
   ],
   "source": [
    "len(cities)"
   ]
  },
  {
   "cell_type": "code",
   "execution_count": 14,
   "metadata": {},
   "outputs": [],
   "source": [
    "#import pandas as pd\n",
    "#pd.DataFrame(cities).to_csv('../outputs/citiesStepUni.csv')\"\"\"\n",
    "#(pd.read_csv('../outputs/citiesStepUni.csv'))[['city','lat','long']].to_json('../outputs/citiesStepUni.csv')"
   ]
  },
  {
   "cell_type": "code",
   "execution_count": 15,
   "metadata": {},
   "outputs": [
    {
     "data": {
      "text/plain": [
       "\"import json\\nwith open('../outputs/citiesStepUni.csv', 'r') as myfile:\\n    data=myfile.read()\\n    obj = json.loads(data)\\nprint(obj)\""
      ]
     },
     "execution_count": 15,
     "metadata": {},
     "output_type": "execute_result"
    }
   ],
   "source": [
    "\"\"\"import json\n",
    "with open('../outputs/citiesStepUni.csv', 'r') as myfile:\n",
    "    data=myfile.read()\n",
    "    obj = json.loads(data)\n",
    "print(obj)\"\"\""
   ]
  },
  {
   "cell_type": "markdown",
   "metadata": {},
   "source": [
    "### 5º Ahora voy a buscar que haya una buenna aglomeración de bares en la ciudad, si hay bares habrá discotecas y demás establecimientos de ocio nocturno y diurno. 100 bares en 10 km"
   ]
  },
  {
   "cell_type": "code",
   "execution_count": null,
   "metadata": {},
   "outputs": [],
   "source": [
    "\"\"\"from filterCitiesBar import filterBar\n",
    "c = list(filter(filterBar,cities))\"\"\""
   ]
  },
  {
   "cell_type": "code",
   "execution_count": null,
   "metadata": {},
   "outputs": [],
   "source": [
    "\"\"\"len(c)\"\"\""
   ]
  },
  {
   "cell_type": "code",
   "execution_count": null,
   "metadata": {},
   "outputs": [],
   "source": []
  },
  {
   "cell_type": "code",
   "execution_count": 25,
   "metadata": {},
   "outputs": [],
   "source": [
    "def filterBar(city):\n",
    "    from apiQueries import getJsonFourSquare\n",
    "    json = getJsonFourSquare(city['lat'],city['long'],'bar',10000,lim=100)\n",
    "    try:\n",
    "        if len(json['response']['groups'][0]['items'])>90:\n",
    "            return True\n",
    "        return False\n",
    "    except Exception():\n",
    "        return False\n"
   ]
  },
  {
   "cell_type": "code",
   "execution_count": 33,
   "metadata": {},
   "outputs": [],
   "source": [
    "def filterVegan(city):\n",
    "    from apiQueries import getJsonFourSquare\n",
    "    json = getJsonFourSquare(city['lat'],city['long'],'vegan',10000,lim=60)\n",
    "    try:\n",
    "        if len(json['response']['groups'][0]['items'])>55:\n",
    "            return True\n",
    "        return False\n",
    "    except Exception():\n",
    "        return False"
   ]
  },
  {
   "cell_type": "code",
   "execution_count": 26,
   "metadata": {},
   "outputs": [],
   "source": [
    "c = list(filter(filterBar,cities))"
   ]
  },
  {
   "cell_type": "code",
   "execution_count": 27,
   "metadata": {},
   "outputs": [
    {
     "data": {
      "text/plain": [
       "29"
      ]
     },
     "execution_count": 27,
     "metadata": {},
     "output_type": "execute_result"
    }
   ],
   "source": [
    "len(c)"
   ]
  },
  {
   "cell_type": "code",
   "execution_count": 34,
   "metadata": {},
   "outputs": [
    {
     "data": {
      "text/plain": [
       "22"
      ]
     },
     "execution_count": 34,
     "metadata": {},
     "output_type": "execute_result"
    }
   ],
   "source": [
    "c = list(filter(filterVegan,cities))\n",
    "len(c)"
   ]
  },
  {
   "cell_type": "code",
   "execution_count": 35,
   "metadata": {},
   "outputs": [
    {
     "data": {
      "text/plain": [
       "[{'city': 'New York', 'lat': 40.735781556250004, 'long': -73.97903525000001},\n",
       " {'city': 'Brooklyn', 'lat': 40.714952833333335, 'long': -73.9684315},\n",
       " {'city': 'London', 'lat': 53.344104, 'long': -6.267494},\n",
       " {'city': 'Los Angeles', 'lat': 34.019292666666665, 'long': -118.3379412},\n",
       " {'city': 'Santa Monica', 'lat': 34.019315225, 'long': -118.48759349999999},\n",
       " {'city': 'Culver City', 'lat': 34.01004854999999, 'long': -118.39790865},\n",
       " {'city': 'Palo Alto', 'lat': 34.007967, 'long': -118.489681},\n",
       " {'city': 'Century City', 'lat': 34.057646, 'long': -118.417382},\n",
       " {'city': 'Beverly Hills', 'lat': 34.067554, 'long': -118.395658},\n",
       " {'city': 'El Segundo', 'lat': 34.048857, 'long': -118.251343},\n",
       " {'city': 'West Hollywood', 'lat': 34.0906409, 'long': -118.3740745},\n",
       " {'city': 'Boston', 'lat': 42.349149350000005, 'long': -71.06217327499999},\n",
       " {'city': 'Cambridge', 'lat': 42.3721995, 'long': -71.11438150000001},\n",
       " {'city': 'Philadelphia', 'lat': 39.9525762, 'long': -75.1652518},\n",
       " {'city': 'Las Vegas', 'lat': 36.1062, 'long': -115.1374},\n",
       " {'city': 'Austin', 'lat': 30.330271666666665, 'long': -97.73937033333334},\n",
       " {'city': 'Montreal', 'lat': 45.517999950000004, 'long': -73.58168965},\n",
       " {'city': 'Vancouver', 'lat': 49.28235205, 'long': -123.1088365},\n",
       " {'city': 'Chicago', 'lat': 41.889183, 'long': -87.632519},\n",
       " {'city': 'Tardeo,Mumbai', 'lat': 18.9742904, 'long': 72.8127265},\n",
       " {'city': 'Madrid', 'lat': 40.4273082, 'long': -3.6895115},\n",
       " {'city': 'Helsinki', 'lat': 60.171821, 'long': 24.945167}]"
      ]
     },
     "execution_count": 35,
     "metadata": {},
     "output_type": "execute_result"
    }
   ],
   "source": [
    "c"
   ]
  }
 ],
 "metadata": {
  "kernelspec": {
   "display_name": "Python 3",
   "language": "python",
   "name": "python3"
  },
  "language_info": {
   "codemirror_mode": {
    "name": "ipython",
    "version": 3
   },
   "file_extension": ".py",
   "mimetype": "text/x-python",
   "name": "python",
   "nbconvert_exporter": "python",
   "pygments_lexer": "ipython3",
   "version": "3.6.8"
  }
 },
 "nbformat": 4,
 "nbformat_minor": 2
}
