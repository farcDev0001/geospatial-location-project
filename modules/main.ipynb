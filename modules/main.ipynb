{
 "cells": [
  {
   "cell_type": "markdown",
   "metadata": {},
   "source": [
    "### 1º Voy a priorizar en primer lugar a los  diseñadores y desarrolladores (lugares con aglomeración de empresas de videojuegos y tecnológicas que hayan facturado más de 1M en su historia, las de videojuegos cumplen el perfil en este caso)"
   ]
  },
  {
   "cell_type": "markdown",
   "metadata": {},
   "source": [
    "Me quedo de la base de datos Companies con las empresas de videojuegos que han facturado más de 1M, ejecuto el script que escribe el json con la consulta filtrando la base de datos todo con el formato adecuado"
   ]
  },
  {
   "cell_type": "code",
   "execution_count": 1,
   "metadata": {},
   "outputs": [],
   "source": [
    "from getJsonGames1M import writeJsonOffice\n",
    "writeJsonOffice()"
   ]
  },
  {
   "cell_type": "markdown",
   "metadata": {},
   "source": [
    "Hago el mongoimport e importo la colección a la base de datos,indexo el campo position como índice geoespacial. Ahora puedo buscar los lugares donde se aglomeran estas empresas, y buscar la lista de ciudades. El scrip devuelve una lista de ciudades donde hay empresas que a 100km a la redonda tienen más de 5 empresas de videojuegos que han facturado más de 1M, creo que es suficiente para satisfacer a los desarrolladores y a los diseñadores. "
   ]
  },
  {
   "cell_type": "code",
   "execution_count": 2,
   "metadata": {},
   "outputs": [],
   "source": [
    "from getCitiesDevNDesigner import citiesDevNDesignerOK\n",
    "citiesDevNDes = citiesDevNDesignerOK()"
   ]
  },
  {
   "cell_type": "code",
   "execution_count": 3,
   "metadata": {},
   "outputs": [
    {
     "data": {
      "text/plain": [
       "45"
      ]
     },
     "execution_count": 3,
     "metadata": {},
     "output_type": "execute_result"
    }
   ],
   "source": [
    "len(citiesDevNDes)\n"
   ]
  },
  {
   "cell_type": "markdown",
   "metadata": {},
   "source": [
    "### 2º En las anteriores ciudades voy a buscar qué tal son las comunicaciones, así cumplo con el requisito de los ejecutivos, para ello ejecuto el script que buscará aeropuertos, estaciones de tren y autobús con la api de google place pasándole el diccionario de las ciudades con sus coordenadas. El criterio va a ser que al menos haya 1 aeropuerto y 10 estaciones de tren o metro en 30 km a la redonda. Es de suponer que todas las ciudades que cumplan el criterio también tendrán buenas comunicaciones por carretera."
   ]
  },
  {
   "cell_type": "code",
   "execution_count": 4,
   "metadata": {},
   "outputs": [],
   "source": [
    "from filterCitiesForExecutive import getCities"
   ]
  },
  {
   "cell_type": "code",
   "execution_count": 5,
   "metadata": {},
   "outputs": [],
   "source": [
    "cities = getCities(citiesDevNDes)"
   ]
  },
  {
   "cell_type": "code",
   "execution_count": 6,
   "metadata": {},
   "outputs": [
    {
     "data": {
      "text/plain": [
       "37"
      ]
     },
     "execution_count": 6,
     "metadata": {},
     "output_type": "execute_result"
    }
   ],
   "source": [
    "len(cities)"
   ]
  },
  {
   "cell_type": "markdown",
   "metadata": {},
   "source": [
    "### 3º Ahora voy a buscar ciudades con una buena aglomeración de Starbucks, pienso que 5 en 10 km a la redonda es adecuado"
   ]
  },
  {
   "cell_type": "code",
   "execution_count": 7,
   "metadata": {},
   "outputs": [],
   "source": [
    "from filterCitiesStarbucks import filterStarbucks"
   ]
  },
  {
   "cell_type": "code",
   "execution_count": 8,
   "metadata": {},
   "outputs": [],
   "source": [
    "cities = list(filter(filterStarbucks,cities))"
   ]
  },
  {
   "cell_type": "code",
   "execution_count": 9,
   "metadata": {},
   "outputs": [
    {
     "data": {
      "text/plain": [
       "37"
      ]
     },
     "execution_count": 9,
     "metadata": {},
     "output_type": "execute_result"
    }
   ],
   "source": [
    "len(cities)"
   ]
  },
  {
   "cell_type": "markdown",
   "metadata": {},
   "source": [
    "### 4º El siguiente filtro que voy a aplicar a mi lista es uno que satisfaga a las familias, me ha parecido que el criterio de que haya más de 3 lugares con la palabra universidad en 10 km cuadrados es un buen criterio, si hay universidades también hay colegios y guarderías para los niños"
   ]
  },
  {
   "cell_type": "code",
   "execution_count": 10,
   "metadata": {},
   "outputs": [],
   "source": [
    "from filterCitiesSchool import filterUniversity\n",
    "cities = list(filter(filterUniversity,cities))\n"
   ]
  },
  {
   "cell_type": "code",
   "execution_count": 11,
   "metadata": {},
   "outputs": [
    {
     "data": {
      "text/plain": [
       "35"
      ]
     },
     "execution_count": 11,
     "metadata": {},
     "output_type": "execute_result"
    }
   ],
   "source": [
    "len(cities)\n"
   ]
  },
  {
   "cell_type": "markdown",
   "metadata": {},
   "source": [
    "### 5º Ahora voy a buscar que haya una buenna aglomeración de bares en la ciudad, si hay bares habrá discotecas y demás establecimientos de ocio nocturno y diurno.40 bares en 10 km"
   ]
  },
  {
   "cell_type": "code",
   "execution_count": 12,
   "metadata": {},
   "outputs": [],
   "source": [
    "from filterCitiesBar import filterBar\n",
    "cities = list(filter(filterBar,cities))"
   ]
  },
  {
   "cell_type": "code",
   "execution_count": 13,
   "metadata": {},
   "outputs": [
    {
     "data": {
      "text/plain": [
       "35"
      ]
     },
     "execution_count": 13,
     "metadata": {},
     "output_type": "execute_result"
    }
   ],
   "source": [
    "len(cities)"
   ]
  },
  {
   "cell_type": "markdown",
   "metadata": {},
   "source": [
    "### 6º Ciudades veganas, mas de 10 sitios que contengan 'vegan' en 10km a la redonda"
   ]
  },
  {
   "cell_type": "code",
   "execution_count": 25,
   "metadata": {},
   "outputs": [
    {
     "data": {
      "text/plain": [
       "[{'city': 'New York',\n",
       "  'lat': 40.735781556250004,\n",
       "  'long': -73.97903525000001,\n",
       "  'rentIndex': 100.0},\n",
       " {'city': 'Brooklyn',\n",
       "  'lat': 40.714952833333335,\n",
       "  'long': -73.9684315,\n",
       "  'rentIndex': 80.39},\n",
       " {'city': 'NYC', 'lat': 40.801358, 'long': -74.3372},\n",
       " {'city': 'San Francisco',\n",
       "  'lat': 37.75123599565217,\n",
       "  'long': -122.38115247826084,\n",
       "  'rentIndex': 114.06},\n",
       " {'city': 'Mountain View',\n",
       "  'lat': 37.39952858333333,\n",
       "  'long': -122.06723616666666},\n",
       " {'city': 'San Mateo', 'lat': 37.514257480000005, 'long': -122.25373152},\n",
       " {'city': 'Redwood City', 'lat': 37.474702666666666, 'long': -122.216019},\n",
       " {'city': 'Palo Alto', 'lat': 37.4297035, 'long': -122.1542725},\n",
       " {'city': 'Sunnyvale', 'lat': 37.393121550000004, 'long': -122.00949084999999},\n",
       " {'city': 'Singapore',\n",
       "  'lat': 37.580304,\n",
       "  'long': -122.343679,\n",
       "  'rentIndex': 61.99},\n",
       " {'city': 'San Bruno', 'lat': 37.627971, 'long': -122.426804},\n",
       " {'city': 'Menlo Park', 'lat': 37.41924, 'long': -122.208414},\n",
       " {'city': 'Los Angeles',\n",
       "  'lat': 37.446823,\n",
       "  'long': -122.161523,\n",
       "  'rentIndex': 72.16},\n",
       " {'city': 'Emeryville', 'lat': 37.848641, 'long': -122.289498},\n",
       " {'city': 'Los Gatos', 'lat': 37.25142, 'long': -121.968687},\n",
       " {'city': 'Burlingame', 'lat': 37.590339, 'long': -122.341715},\n",
       " {'city': 'Sausalito', 'lat': 37.862592, 'long': -122.493561},\n",
       " {'city': 'Berkeley', 'lat': 37.87168, 'long': -122.269494},\n",
       " {'city': 'Mill Valley', 'lat': 37.906966, 'long': -122.545763},\n",
       " {'city': 'Santa Monica', 'lat': 34.019315225, 'long': -118.48759349999999},\n",
       " {'city': 'Culver City', 'lat': 34.01004854999999, 'long': -118.39790865},\n",
       " {'city': 'Brea', 'lat': 33.9133208, 'long': -117.8789031},\n",
       " {'city': 'El Segundo', 'lat': 34.048857, 'long': -118.251343},\n",
       " {'city': 'Beverly Hills', 'lat': 34.067554, 'long': -118.395658},\n",
       " {'city': 'Century City', 'lat': 34.057646, 'long': -118.417382},\n",
       " {'city': 'West Hollywood', 'lat': 34.0906409, 'long': -118.3740745},\n",
       " {'city': 'Torrance', 'lat': 33.8231, 'long': -118.328584},\n",
       " {'city': 'Boston',\n",
       "  'lat': 42.349149350000005,\n",
       "  'long': -71.06217327499999,\n",
       "  'rentIndex': 73.94},\n",
       " {'city': 'Cambridge',\n",
       "  'lat': 42.3721995,\n",
       "  'long': -71.11438150000001,\n",
       "  'rentIndex': 40.65},\n",
       " {'city': 'Waltham', 'lat': 42.417268, 'long': -71.258466},\n",
       " {'city': 'Westwood', 'lat': 42.214483, 'long': -71.185964},\n",
       " {'city': 'Philadelphia',\n",
       "  'lat': 39.9525762,\n",
       "  'long': -75.1652518,\n",
       "  'rentIndex': 46.51},\n",
       " {'city': 'King of Prussia', 'lat': 40.099703, 'long': -75.39599}]"
      ]
     },
     "execution_count": 25,
     "metadata": {},
     "output_type": "execute_result"
    }
   ],
   "source": [
    "from filterCitiesBar import filterVegan\n",
    "cities = list(filter(filterVegan,cities))\n",
    "len(cities)"
   ]
  },
  {
   "cell_type": "code",
   "execution_count": 26,
   "metadata": {},
   "outputs": [],
   "source": [
    "pd.DataFrame(cities).to_json('../outputs/citiesOk.json')"
   ]
  },
  {
   "cell_type": "code",
   "execution_count": 5,
   "metadata": {},
   "outputs": [],
   "source": [
    "import pandas as pd\n",
    "citiesOk = list(pd.read_json('../outputs/citiesOk.json').T.to_dict().values())"
   ]
  },
  {
   "cell_type": "markdown",
   "metadata": {},
   "source": [
    "### 7. Hago un scraping para  añadir a cada ciudad su índice de coste de vida, me quedaré con el más bajo, creo que eso es bueno tanto para los trabajadores como para la empresa, porque ese índice incluye la adquisición de bienes y servicios."
   ]
  },
  {
   "cell_type": "code",
   "execution_count": 7,
   "metadata": {},
   "outputs": [],
   "source": [
    "from getIndex import getRent\n",
    "import pandas as pd\n",
    "pd.DataFrame(getRent(citiesOk)).sort_values(by ='rentIndex' ).reset_index().drop(columns = 'index').to_csv('../outputs/okByRent.csv')\n"
   ]
  },
  {
   "cell_type": "code",
   "execution_count": 1,
   "metadata": {},
   "outputs": [
    {
     "data": {
      "text/html": [
       "<div>\n",
       "<style scoped>\n",
       "    .dataframe tbody tr th:only-of-type {\n",
       "        vertical-align: middle;\n",
       "    }\n",
       "\n",
       "    .dataframe tbody tr th {\n",
       "        vertical-align: top;\n",
       "    }\n",
       "\n",
       "    .dataframe thead th {\n",
       "        text-align: right;\n",
       "    }\n",
       "</style>\n",
       "<table border=\"1\" class=\"dataframe\">\n",
       "  <thead>\n",
       "    <tr style=\"text-align: right;\">\n",
       "      <th></th>\n",
       "      <th>city</th>\n",
       "      <th>lat</th>\n",
       "      <th>long</th>\n",
       "      <th>rentIndex</th>\n",
       "    </tr>\n",
       "  </thead>\n",
       "  <tbody>\n",
       "    <tr>\n",
       "      <td>1</td>\n",
       "      <td>Philadelphia</td>\n",
       "      <td>39.952576</td>\n",
       "      <td>-75.165252</td>\n",
       "      <td>46.51</td>\n",
       "    </tr>\n",
       "    <tr>\n",
       "      <td>2</td>\n",
       "      <td>Singapore</td>\n",
       "      <td>37.580304</td>\n",
       "      <td>-122.343679</td>\n",
       "      <td>61.99</td>\n",
       "    </tr>\n",
       "    <tr>\n",
       "      <td>3</td>\n",
       "      <td>Los Angeles</td>\n",
       "      <td>37.446823</td>\n",
       "      <td>-122.161523</td>\n",
       "      <td>72.16</td>\n",
       "    </tr>\n",
       "    <tr>\n",
       "      <td>4</td>\n",
       "      <td>Boston</td>\n",
       "      <td>42.349149</td>\n",
       "      <td>-71.062173</td>\n",
       "      <td>73.94</td>\n",
       "    </tr>\n",
       "    <tr>\n",
       "      <td>5</td>\n",
       "      <td>Brooklyn</td>\n",
       "      <td>40.714953</td>\n",
       "      <td>-73.968431</td>\n",
       "      <td>80.39</td>\n",
       "    </tr>\n",
       "    <tr>\n",
       "      <td>6</td>\n",
       "      <td>New York</td>\n",
       "      <td>40.735782</td>\n",
       "      <td>-73.979035</td>\n",
       "      <td>100.00</td>\n",
       "    </tr>\n",
       "    <tr>\n",
       "      <td>7</td>\n",
       "      <td>San Francisco</td>\n",
       "      <td>37.751236</td>\n",
       "      <td>-122.381152</td>\n",
       "      <td>114.06</td>\n",
       "    </tr>\n",
       "    <tr>\n",
       "      <td>8</td>\n",
       "      <td>NYC</td>\n",
       "      <td>40.801358</td>\n",
       "      <td>-74.337200</td>\n",
       "      <td>NaN</td>\n",
       "    </tr>\n",
       "    <tr>\n",
       "      <td>9</td>\n",
       "      <td>Mountain View</td>\n",
       "      <td>37.399529</td>\n",
       "      <td>-122.067236</td>\n",
       "      <td>NaN</td>\n",
       "    </tr>\n",
       "    <tr>\n",
       "      <td>10</td>\n",
       "      <td>San Mateo</td>\n",
       "      <td>37.514257</td>\n",
       "      <td>-122.253732</td>\n",
       "      <td>NaN</td>\n",
       "    </tr>\n",
       "    <tr>\n",
       "      <td>11</td>\n",
       "      <td>Redwood City</td>\n",
       "      <td>37.474703</td>\n",
       "      <td>-122.216019</td>\n",
       "      <td>NaN</td>\n",
       "    </tr>\n",
       "    <tr>\n",
       "      <td>12</td>\n",
       "      <td>Palo Alto</td>\n",
       "      <td>37.429703</td>\n",
       "      <td>-122.154273</td>\n",
       "      <td>NaN</td>\n",
       "    </tr>\n",
       "    <tr>\n",
       "      <td>13</td>\n",
       "      <td>Sunnyvale</td>\n",
       "      <td>37.393122</td>\n",
       "      <td>-122.009491</td>\n",
       "      <td>NaN</td>\n",
       "    </tr>\n",
       "    <tr>\n",
       "      <td>14</td>\n",
       "      <td>San Bruno</td>\n",
       "      <td>37.627971</td>\n",
       "      <td>-122.426804</td>\n",
       "      <td>NaN</td>\n",
       "    </tr>\n",
       "    <tr>\n",
       "      <td>15</td>\n",
       "      <td>Menlo Park</td>\n",
       "      <td>37.419240</td>\n",
       "      <td>-122.208414</td>\n",
       "      <td>NaN</td>\n",
       "    </tr>\n",
       "    <tr>\n",
       "      <td>16</td>\n",
       "      <td>Emeryville</td>\n",
       "      <td>37.848641</td>\n",
       "      <td>-122.289498</td>\n",
       "      <td>NaN</td>\n",
       "    </tr>\n",
       "    <tr>\n",
       "      <td>17</td>\n",
       "      <td>Los Gatos</td>\n",
       "      <td>37.251420</td>\n",
       "      <td>-121.968687</td>\n",
       "      <td>NaN</td>\n",
       "    </tr>\n",
       "    <tr>\n",
       "      <td>18</td>\n",
       "      <td>Burlingame</td>\n",
       "      <td>37.590339</td>\n",
       "      <td>-122.341715</td>\n",
       "      <td>NaN</td>\n",
       "    </tr>\n",
       "    <tr>\n",
       "      <td>19</td>\n",
       "      <td>Sausalito</td>\n",
       "      <td>37.862592</td>\n",
       "      <td>-122.493561</td>\n",
       "      <td>NaN</td>\n",
       "    </tr>\n",
       "    <tr>\n",
       "      <td>20</td>\n",
       "      <td>Berkeley</td>\n",
       "      <td>37.871680</td>\n",
       "      <td>-122.269494</td>\n",
       "      <td>NaN</td>\n",
       "    </tr>\n",
       "    <tr>\n",
       "      <td>21</td>\n",
       "      <td>Mill Valley</td>\n",
       "      <td>37.906966</td>\n",
       "      <td>-122.545763</td>\n",
       "      <td>NaN</td>\n",
       "    </tr>\n",
       "    <tr>\n",
       "      <td>22</td>\n",
       "      <td>Santa Monica</td>\n",
       "      <td>34.019315</td>\n",
       "      <td>-118.487594</td>\n",
       "      <td>NaN</td>\n",
       "    </tr>\n",
       "    <tr>\n",
       "      <td>23</td>\n",
       "      <td>Culver City</td>\n",
       "      <td>34.010049</td>\n",
       "      <td>-118.397909</td>\n",
       "      <td>NaN</td>\n",
       "    </tr>\n",
       "    <tr>\n",
       "      <td>24</td>\n",
       "      <td>Brea</td>\n",
       "      <td>33.913321</td>\n",
       "      <td>-117.878903</td>\n",
       "      <td>NaN</td>\n",
       "    </tr>\n",
       "    <tr>\n",
       "      <td>25</td>\n",
       "      <td>El Segundo</td>\n",
       "      <td>34.048857</td>\n",
       "      <td>-118.251343</td>\n",
       "      <td>NaN</td>\n",
       "    </tr>\n",
       "    <tr>\n",
       "      <td>26</td>\n",
       "      <td>Beverly Hills</td>\n",
       "      <td>34.067554</td>\n",
       "      <td>-118.395658</td>\n",
       "      <td>NaN</td>\n",
       "    </tr>\n",
       "    <tr>\n",
       "      <td>27</td>\n",
       "      <td>Century City</td>\n",
       "      <td>34.057646</td>\n",
       "      <td>-118.417382</td>\n",
       "      <td>NaN</td>\n",
       "    </tr>\n",
       "    <tr>\n",
       "      <td>28</td>\n",
       "      <td>West Hollywood</td>\n",
       "      <td>34.090641</td>\n",
       "      <td>-118.374075</td>\n",
       "      <td>NaN</td>\n",
       "    </tr>\n",
       "    <tr>\n",
       "      <td>29</td>\n",
       "      <td>Torrance</td>\n",
       "      <td>33.823100</td>\n",
       "      <td>-118.328584</td>\n",
       "      <td>NaN</td>\n",
       "    </tr>\n",
       "    <tr>\n",
       "      <td>30</td>\n",
       "      <td>Waltham</td>\n",
       "      <td>42.417268</td>\n",
       "      <td>-71.258466</td>\n",
       "      <td>NaN</td>\n",
       "    </tr>\n",
       "    <tr>\n",
       "      <td>31</td>\n",
       "      <td>Westwood</td>\n",
       "      <td>42.214483</td>\n",
       "      <td>-71.185964</td>\n",
       "      <td>NaN</td>\n",
       "    </tr>\n",
       "    <tr>\n",
       "      <td>32</td>\n",
       "      <td>King of Prussia</td>\n",
       "      <td>40.099703</td>\n",
       "      <td>-75.395990</td>\n",
       "      <td>NaN</td>\n",
       "    </tr>\n",
       "  </tbody>\n",
       "</table>\n",
       "</div>"
      ],
      "text/plain": [
       "               city        lat        long  rentIndex\n",
       "1      Philadelphia  39.952576  -75.165252      46.51\n",
       "2         Singapore  37.580304 -122.343679      61.99\n",
       "3       Los Angeles  37.446823 -122.161523      72.16\n",
       "4            Boston  42.349149  -71.062173      73.94\n",
       "5          Brooklyn  40.714953  -73.968431      80.39\n",
       "6          New York  40.735782  -73.979035     100.00\n",
       "7     San Francisco  37.751236 -122.381152     114.06\n",
       "8               NYC  40.801358  -74.337200        NaN\n",
       "9     Mountain View  37.399529 -122.067236        NaN\n",
       "10        San Mateo  37.514257 -122.253732        NaN\n",
       "11     Redwood City  37.474703 -122.216019        NaN\n",
       "12        Palo Alto  37.429703 -122.154273        NaN\n",
       "13        Sunnyvale  37.393122 -122.009491        NaN\n",
       "14        San Bruno  37.627971 -122.426804        NaN\n",
       "15       Menlo Park  37.419240 -122.208414        NaN\n",
       "16       Emeryville  37.848641 -122.289498        NaN\n",
       "17        Los Gatos  37.251420 -121.968687        NaN\n",
       "18       Burlingame  37.590339 -122.341715        NaN\n",
       "19        Sausalito  37.862592 -122.493561        NaN\n",
       "20         Berkeley  37.871680 -122.269494        NaN\n",
       "21      Mill Valley  37.906966 -122.545763        NaN\n",
       "22     Santa Monica  34.019315 -118.487594        NaN\n",
       "23      Culver City  34.010049 -118.397909        NaN\n",
       "24             Brea  33.913321 -117.878903        NaN\n",
       "25       El Segundo  34.048857 -118.251343        NaN\n",
       "26    Beverly Hills  34.067554 -118.395658        NaN\n",
       "27     Century City  34.057646 -118.417382        NaN\n",
       "28   West Hollywood  34.090641 -118.374075        NaN\n",
       "29         Torrance  33.823100 -118.328584        NaN\n",
       "30          Waltham  42.417268  -71.258466        NaN\n",
       "31         Westwood  42.214483  -71.185964        NaN\n",
       "32  King of Prussia  40.099703  -75.395990        NaN"
      ]
     },
     "execution_count": 1,
     "metadata": {},
     "output_type": "execute_result"
    }
   ],
   "source": [
    "import pandas as pd\n",
    "pd.read_csv('../outputs/okByRent.csv').drop(columns = 'Unnamed: 0',index = 0)"
   ]
  },
  {
   "cell_type": "markdown",
   "metadata": {},
   "source": [
    "#### Mi objetivo con esto es quedarme con la ciudad de renta más baja, solo porque supongo que a la empresa es lo que le conviene, una ciudad que dentro de que cumpla los requisitos sea lo más barata posible en temas de sueldos."
   ]
  },
  {
   "cell_type": "markdown",
   "metadata": {},
   "source": [
    "### 8. Obtengo todas la compañías de Philadelphia con el formato adecuado para indexar"
   ]
  },
  {
   "cell_type": "code",
   "execution_count": 2,
   "metadata": {},
   "outputs": [],
   "source": [
    "from getJsonPhiladelphia import writeJson\n",
    "writeJson()"
   ]
  },
  {
   "cell_type": "markdown",
   "metadata": {},
   "source": [
    "Importo el Json como una nueva colección a mi base de datos, sobre esa colección elaboraré la solución final.\n"
   ]
  },
  {
   "cell_type": "code",
   "execution_count": null,
   "metadata": {},
   "outputs": [],
   "source": [
    "def officeCambridgeOk():\n",
    "    from pymongo import MongoClient\n",
    "    import pandas as pd\n",
    "    from getMongoClient import getClient\n",
    "    from getEnv import getVariable\n",
    "    client = getClient()\n",
    "    dbCompanies = client.companies\n",
    "    cambridge1m = list(dbCompanies.cambridge.find())\n",
    "    listCambridge = getListOffice2km(cambridge1m,dbCompanies)\n",
    "\n",
    "\n",
    "    #listGame1M100K=list(filter(lambda df:True if df.name.count() in range(5,maximo+1) else False,listGame1M100K))\n",
    "\n",
    "    return listCambridge\n",
    "\n",
    "\n",
    "def getCompaniesNear(lat,long, max_Distance,db):\n",
    "    return list(db.cambridge.find({\n",
    "        \"position\": {\n",
    "            \"$near\": {\n",
    "               \"$geometry\": {\n",
    "                  \"type\": \"Point\" ,\n",
    "                  \"coordinates\": [ long , lat ]\n",
    "               },\n",
    "               \"$maxDistance\": max_Distance\n",
    "               \n",
    "             }\n",
    "       }\n",
    "    }))\n",
    "\n",
    "def getListOffice2km(listOffice,db):\n",
    "    import pandas as pd\n",
    "    listDf = []\n",
    "    for ele in listOffice:\n",
    "        if ele['founded_year'] > 2008:\n",
    "            print(ele)\n",
    "            df = pd.DataFrame(getCompaniesNear(ele['lat'],ele['long'],2000,db))\n",
    "            listDf.append(df.reset_index().drop(columns=['index','_id','position']))\n",
    "    return listDf"
   ]
  },
  {
   "cell_type": "code",
   "execution_count": null,
   "metadata": {},
   "outputs": [],
   "source": [
    "l = officeCambridgeOk()\n",
    "len(l)"
   ]
  },
  {
   "cell_type": "code",
   "execution_count": null,
   "metadata": {},
   "outputs": [],
   "source": [
    "import pandas as pd\n",
    "pd.DataFrame(l[1])"
   ]
  },
  {
   "cell_type": "code",
   "execution_count": null,
   "metadata": {},
   "outputs": [],
   "source": [
    "import plotly.express as px\n",
    "import pandas as pd\n",
    "data = pd.read_json('../outputs/cambridgeOffices.json')\n",
    "fig = px.scatter_mapbox(data, lat=\"lat\", lon=\"long\", hover_name='name', hover_data=[\"category\"],\n",
    "                        color_discrete_sequence=[\"fuchsia\"], zoom=1, height=700)\n",
    "fig.update_layout(mapbox_style=\"open-street-map\")\n",
    "fig.update_layout(margin={\"r\":0,\"t\":0,\"l\":0,\"b\":0})\n",
    "fig.show()\n"
   ]
  },
  {
   "cell_type": "code",
   "execution_count": null,
   "metadata": {},
   "outputs": [],
   "source": []
  },
  {
   "cell_type": "code",
   "execution_count": null,
   "metadata": {},
   "outputs": [],
   "source": []
  }
 ],
 "metadata": {
  "kernelspec": {
   "display_name": "Python 3",
   "language": "python",
   "name": "python3"
  },
  "language_info": {
   "codemirror_mode": {
    "name": "ipython",
    "version": 3
   },
   "file_extension": ".py",
   "mimetype": "text/x-python",
   "name": "python",
   "nbconvert_exporter": "python",
   "pygments_lexer": "ipython3",
   "version": "3.6.8"
  }
 },
 "nbformat": 4,
 "nbformat_minor": 2
}
