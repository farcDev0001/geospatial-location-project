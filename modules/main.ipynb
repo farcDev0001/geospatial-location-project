{
 "cells": [
  {
   "cell_type": "markdown",
   "metadata": {},
   "source": [
    "### 1º Voy a priorizar en primer lugar a los  diseñadores y desarrolladores (lugares con aglomeración de empresas de videojuegos y tecnológicas que hayan facturado más de 1M en su historia, las de videojuegos cumplen el perfil en este caso)"
   ]
  },
  {
   "cell_type": "markdown",
   "metadata": {},
   "source": [
    "Me quedo de la base de datos Companies con las empresas de videojuegos que han facturado más de 1M, ejecuto el script que escribe el json con la consulta filtrando la base de datos todo con el formato adecuado"
   ]
  },
  {
   "cell_type": "code",
   "execution_count": 1,
   "metadata": {},
   "outputs": [],
   "source": [
    "from getJsonGames1M import writeJsonOffice\n",
    "writeJsonOffice()"
   ]
  },
  {
   "cell_type": "markdown",
   "metadata": {},
   "source": [
    "Hago el mongoimport e importo la colección a la base de datos,indexo el campo position como índice geoespacial. Ahora puedo buscar los lugares donde se aglomeran estas empresas, y buscar la lista de ciudades. El scrip devuelve una lista de ciudades donde hay empresas que a 100km a la redonda tienen más de 5 empresas de videojuegos que han facturado más de 1M, creo que es suficiente para satisfacer a los desarrolladores y a los diseñadores. "
   ]
  },
  {
   "cell_type": "code",
   "execution_count": 2,
   "metadata": {},
   "outputs": [],
   "source": [
    "from getCitiesDevNDesigner import citiesDevNDesignerOK\n",
    "citiesDevNDes = citiesDevNDesignerOK()"
   ]
  },
  {
   "cell_type": "code",
   "execution_count": 3,
   "metadata": {},
   "outputs": [
    {
     "data": {
      "text/plain": [
       "45"
      ]
     },
     "execution_count": 3,
     "metadata": {},
     "output_type": "execute_result"
    }
   ],
   "source": [
    "len(citiesDevNDes)\n"
   ]
  },
  {
   "cell_type": "markdown",
   "metadata": {},
   "source": [
    "### 2º Buscar cómo son las comunicaciones para los viajes de los ejecutivos. El criterio va a ser que al menos haya 1 aeropuerto en 30km a la redonda. Si esto es así es de suponer que el resto de comunicaciones serán lo"
   ]
  },
  {
   "cell_type": "code",
   "execution_count": 6,
   "metadata": {},
   "outputs": [],
   "source": [
    "from filterCitiesForExecutive import getCities"
   ]
  },
  {
   "cell_type": "code",
   "execution_count": 7,
   "metadata": {},
   "outputs": [],
   "source": [
    "cities = getCities(citiesDevNDes)"
   ]
  },
  {
   "cell_type": "code",
   "execution_count": 8,
   "metadata": {},
   "outputs": [
    {
     "data": {
      "text/plain": [
       "37"
      ]
     },
     "execution_count": 8,
     "metadata": {},
     "output_type": "execute_result"
    }
   ],
   "source": [
    "len(cities)"
   ]
  },
  {
   "cell_type": "markdown",
   "metadata": {},
   "source": [
    "### 3º Busco ciudades con una buena aglomeración de Starbucks, pienso que 5 en 10 km a la redonda es adecuado"
   ]
  },
  {
   "cell_type": "code",
   "execution_count": 9,
   "metadata": {},
   "outputs": [],
   "source": [
    "from filterCitiesStarbucks import filterStarbucks"
   ]
  },
  {
   "cell_type": "code",
   "execution_count": 10,
   "metadata": {},
   "outputs": [],
   "source": [
    "cities = list(filter(filterStarbucks,cities))"
   ]
  },
  {
   "cell_type": "code",
   "execution_count": 11,
   "metadata": {},
   "outputs": [
    {
     "data": {
      "text/plain": [
       "37"
      ]
     },
     "execution_count": 11,
     "metadata": {},
     "output_type": "execute_result"
    }
   ],
   "source": [
    "len(cities)"
   ]
  },
  {
   "cell_type": "markdown",
   "metadata": {},
   "source": [
    "### 4º El siguiente filtro que voy a aplicar a mi lista es uno que satisfaga a las familias, me ha parecido que el criterio de que haya más de 3 lugares con la palabra universidad en 10 km cuadrados es suficiente, si hay universidades también habrá colegios y guarderías para los niños"
   ]
  },
  {
   "cell_type": "code",
   "execution_count": 12,
   "metadata": {},
   "outputs": [],
   "source": [
    "from filterCitiesSchool import filterUniversity\n",
    "cities = list(filter(filterUniversity,cities))\n"
   ]
  },
  {
   "cell_type": "code",
   "execution_count": 13,
   "metadata": {},
   "outputs": [
    {
     "data": {
      "text/plain": [
       "35"
      ]
     },
     "execution_count": 13,
     "metadata": {},
     "output_type": "execute_result"
    }
   ],
   "source": [
    "len(cities)\n"
   ]
  },
  {
   "cell_type": "markdown",
   "metadata": {},
   "source": [
    "### 5º Busco que haya una buena aglomeración de bares en la ciudad, si hay bares habrá discotecas y demás establecimientos de ocio nocturno y diurno. 40 bares en 10 km"
   ]
  },
  {
   "cell_type": "code",
   "execution_count": 15,
   "metadata": {},
   "outputs": [],
   "source": [
    "from filterCitiesBar import filterBar\n",
    "cities = list(filter(filterBar,cities))"
   ]
  },
  {
   "cell_type": "code",
   "execution_count": 16,
   "metadata": {},
   "outputs": [
    {
     "data": {
      "text/plain": [
       "35"
      ]
     },
     "execution_count": 16,
     "metadata": {},
     "output_type": "execute_result"
    }
   ],
   "source": [
    "len(cities)"
   ]
  },
  {
   "cell_type": "markdown",
   "metadata": {},
   "source": [
    "### 6º Ciudades veganas, mas de 10 sitios que contengan 'vegan' en 10km a la redonda"
   ]
  },
  {
   "cell_type": "code",
   "execution_count": 17,
   "metadata": {},
   "outputs": [
    {
     "data": {
      "text/plain": [
       "33"
      ]
     },
     "execution_count": 17,
     "metadata": {},
     "output_type": "execute_result"
    }
   ],
   "source": [
    "from filterCitiesBar import filterVegan\n",
    "cities = list(filter(filterVegan,cities))\n",
    "len(cities)"
   ]
  },
  {
   "cell_type": "code",
   "execution_count": 19,
   "metadata": {},
   "outputs": [],
   "source": [
    "import pandas as pd\n",
    "pd.DataFrame(cities).to_json('../outputs/citiesOk.json')"
   ]
  },
  {
   "cell_type": "code",
   "execution_count": 20,
   "metadata": {},
   "outputs": [],
   "source": [
    "import pandas as pd\n",
    "citiesOk = list(pd.read_json('../outputs/citiesOk.json').T.to_dict().values())"
   ]
  },
  {
   "cell_type": "markdown",
   "metadata": {},
   "source": [
    "### 7. Hago un scraping para  añadir a cada ciudad su índice de renta, me quedaré con la ciudad que lo tenga más bajo, pues al final es la ciudad en la que el gasto en salarios va a ser menos"
   ]
  },
  {
   "cell_type": "code",
   "execution_count": 21,
   "metadata": {},
   "outputs": [],
   "source": [
    "from getIndex import getRent\n",
    "import pandas as pd\n",
    "pd.DataFrame(getRent(citiesOk)).sort_values(by ='rentIndex' ).reset_index().drop(columns = 'index').to_csv('../outputs/okByRent.csv')\n"
   ]
  },
  {
   "cell_type": "code",
   "execution_count": 22,
   "metadata": {},
   "outputs": [
    {
     "data": {
      "text/html": [
       "<div>\n",
       "<style scoped>\n",
       "    .dataframe tbody tr th:only-of-type {\n",
       "        vertical-align: middle;\n",
       "    }\n",
       "\n",
       "    .dataframe tbody tr th {\n",
       "        vertical-align: top;\n",
       "    }\n",
       "\n",
       "    .dataframe thead th {\n",
       "        text-align: right;\n",
       "    }\n",
       "</style>\n",
       "<table border=\"1\" class=\"dataframe\">\n",
       "  <thead>\n",
       "    <tr style=\"text-align: right;\">\n",
       "      <th></th>\n",
       "      <th>city</th>\n",
       "      <th>lat</th>\n",
       "      <th>long</th>\n",
       "      <th>rentIndex</th>\n",
       "    </tr>\n",
       "  </thead>\n",
       "  <tbody>\n",
       "    <tr>\n",
       "      <td>1</td>\n",
       "      <td>Philadelphia</td>\n",
       "      <td>39.952576</td>\n",
       "      <td>-75.165252</td>\n",
       "      <td>46.51</td>\n",
       "    </tr>\n",
       "    <tr>\n",
       "      <td>2</td>\n",
       "      <td>Singapore</td>\n",
       "      <td>37.580304</td>\n",
       "      <td>-122.343679</td>\n",
       "      <td>61.99</td>\n",
       "    </tr>\n",
       "    <tr>\n",
       "      <td>3</td>\n",
       "      <td>Los Angeles</td>\n",
       "      <td>37.446823</td>\n",
       "      <td>-122.161523</td>\n",
       "      <td>72.16</td>\n",
       "    </tr>\n",
       "    <tr>\n",
       "      <td>4</td>\n",
       "      <td>Boston</td>\n",
       "      <td>42.349149</td>\n",
       "      <td>-71.062173</td>\n",
       "      <td>73.94</td>\n",
       "    </tr>\n",
       "    <tr>\n",
       "      <td>5</td>\n",
       "      <td>Brooklyn</td>\n",
       "      <td>40.714953</td>\n",
       "      <td>-73.968431</td>\n",
       "      <td>80.39</td>\n",
       "    </tr>\n",
       "    <tr>\n",
       "      <td>6</td>\n",
       "      <td>New York</td>\n",
       "      <td>40.735782</td>\n",
       "      <td>-73.979035</td>\n",
       "      <td>100.00</td>\n",
       "    </tr>\n",
       "    <tr>\n",
       "      <td>7</td>\n",
       "      <td>San Francisco</td>\n",
       "      <td>37.751236</td>\n",
       "      <td>-122.381152</td>\n",
       "      <td>114.06</td>\n",
       "    </tr>\n",
       "    <tr>\n",
       "      <td>8</td>\n",
       "      <td>NYC</td>\n",
       "      <td>40.801358</td>\n",
       "      <td>-74.337200</td>\n",
       "      <td>NaN</td>\n",
       "    </tr>\n",
       "    <tr>\n",
       "      <td>9</td>\n",
       "      <td>Mountain View</td>\n",
       "      <td>37.399529</td>\n",
       "      <td>-122.067236</td>\n",
       "      <td>NaN</td>\n",
       "    </tr>\n",
       "    <tr>\n",
       "      <td>10</td>\n",
       "      <td>San Mateo</td>\n",
       "      <td>37.514257</td>\n",
       "      <td>-122.253732</td>\n",
       "      <td>NaN</td>\n",
       "    </tr>\n",
       "    <tr>\n",
       "      <td>11</td>\n",
       "      <td>Redwood City</td>\n",
       "      <td>37.474703</td>\n",
       "      <td>-122.216019</td>\n",
       "      <td>NaN</td>\n",
       "    </tr>\n",
       "    <tr>\n",
       "      <td>12</td>\n",
       "      <td>Sunnyvale</td>\n",
       "      <td>37.393122</td>\n",
       "      <td>-122.009491</td>\n",
       "      <td>NaN</td>\n",
       "    </tr>\n",
       "    <tr>\n",
       "      <td>13</td>\n",
       "      <td>Palo Alto</td>\n",
       "      <td>37.429703</td>\n",
       "      <td>-122.154273</td>\n",
       "      <td>NaN</td>\n",
       "    </tr>\n",
       "    <tr>\n",
       "      <td>14</td>\n",
       "      <td>Menlo Park</td>\n",
       "      <td>37.419240</td>\n",
       "      <td>-122.208414</td>\n",
       "      <td>NaN</td>\n",
       "    </tr>\n",
       "    <tr>\n",
       "      <td>15</td>\n",
       "      <td>Sausalito</td>\n",
       "      <td>37.862592</td>\n",
       "      <td>-122.493561</td>\n",
       "      <td>NaN</td>\n",
       "    </tr>\n",
       "    <tr>\n",
       "      <td>16</td>\n",
       "      <td>San Bruno</td>\n",
       "      <td>37.627971</td>\n",
       "      <td>-122.426804</td>\n",
       "      <td>NaN</td>\n",
       "    </tr>\n",
       "    <tr>\n",
       "      <td>17</td>\n",
       "      <td>Mill Valley</td>\n",
       "      <td>37.906966</td>\n",
       "      <td>-122.545763</td>\n",
       "      <td>NaN</td>\n",
       "    </tr>\n",
       "    <tr>\n",
       "      <td>18</td>\n",
       "      <td>Los Gatos</td>\n",
       "      <td>37.251420</td>\n",
       "      <td>-121.968687</td>\n",
       "      <td>NaN</td>\n",
       "    </tr>\n",
       "    <tr>\n",
       "      <td>19</td>\n",
       "      <td>Burlingame</td>\n",
       "      <td>37.590339</td>\n",
       "      <td>-122.341715</td>\n",
       "      <td>NaN</td>\n",
       "    </tr>\n",
       "    <tr>\n",
       "      <td>20</td>\n",
       "      <td>Berkeley</td>\n",
       "      <td>37.871680</td>\n",
       "      <td>-122.269494</td>\n",
       "      <td>NaN</td>\n",
       "    </tr>\n",
       "    <tr>\n",
       "      <td>21</td>\n",
       "      <td>Emeryville</td>\n",
       "      <td>37.848641</td>\n",
       "      <td>-122.289498</td>\n",
       "      <td>NaN</td>\n",
       "    </tr>\n",
       "    <tr>\n",
       "      <td>22</td>\n",
       "      <td>Santa Monica</td>\n",
       "      <td>34.019315</td>\n",
       "      <td>-118.487594</td>\n",
       "      <td>NaN</td>\n",
       "    </tr>\n",
       "    <tr>\n",
       "      <td>23</td>\n",
       "      <td>Culver City</td>\n",
       "      <td>34.010049</td>\n",
       "      <td>-118.397909</td>\n",
       "      <td>NaN</td>\n",
       "    </tr>\n",
       "    <tr>\n",
       "      <td>24</td>\n",
       "      <td>Beverly Hills</td>\n",
       "      <td>34.067554</td>\n",
       "      <td>-118.395658</td>\n",
       "      <td>NaN</td>\n",
       "    </tr>\n",
       "    <tr>\n",
       "      <td>25</td>\n",
       "      <td>Torrance</td>\n",
       "      <td>33.823100</td>\n",
       "      <td>-118.328584</td>\n",
       "      <td>NaN</td>\n",
       "    </tr>\n",
       "    <tr>\n",
       "      <td>26</td>\n",
       "      <td>El Segundo</td>\n",
       "      <td>34.048857</td>\n",
       "      <td>-118.251343</td>\n",
       "      <td>NaN</td>\n",
       "    </tr>\n",
       "    <tr>\n",
       "      <td>27</td>\n",
       "      <td>West Hollywood</td>\n",
       "      <td>34.090641</td>\n",
       "      <td>-118.374075</td>\n",
       "      <td>NaN</td>\n",
       "    </tr>\n",
       "    <tr>\n",
       "      <td>28</td>\n",
       "      <td>Century City</td>\n",
       "      <td>34.057646</td>\n",
       "      <td>-118.417382</td>\n",
       "      <td>NaN</td>\n",
       "    </tr>\n",
       "    <tr>\n",
       "      <td>29</td>\n",
       "      <td>Brea</td>\n",
       "      <td>33.913321</td>\n",
       "      <td>-117.878903</td>\n",
       "      <td>NaN</td>\n",
       "    </tr>\n",
       "    <tr>\n",
       "      <td>30</td>\n",
       "      <td>Waltham</td>\n",
       "      <td>42.417268</td>\n",
       "      <td>-71.258466</td>\n",
       "      <td>NaN</td>\n",
       "    </tr>\n",
       "    <tr>\n",
       "      <td>31</td>\n",
       "      <td>Westwood</td>\n",
       "      <td>42.214483</td>\n",
       "      <td>-71.185964</td>\n",
       "      <td>NaN</td>\n",
       "    </tr>\n",
       "    <tr>\n",
       "      <td>32</td>\n",
       "      <td>King of Prussia</td>\n",
       "      <td>40.099703</td>\n",
       "      <td>-75.395990</td>\n",
       "      <td>NaN</td>\n",
       "    </tr>\n",
       "  </tbody>\n",
       "</table>\n",
       "</div>"
      ],
      "text/plain": [
       "               city        lat        long  rentIndex\n",
       "1      Philadelphia  39.952576  -75.165252      46.51\n",
       "2         Singapore  37.580304 -122.343679      61.99\n",
       "3       Los Angeles  37.446823 -122.161523      72.16\n",
       "4            Boston  42.349149  -71.062173      73.94\n",
       "5          Brooklyn  40.714953  -73.968431      80.39\n",
       "6          New York  40.735782  -73.979035     100.00\n",
       "7     San Francisco  37.751236 -122.381152     114.06\n",
       "8               NYC  40.801358  -74.337200        NaN\n",
       "9     Mountain View  37.399529 -122.067236        NaN\n",
       "10        San Mateo  37.514257 -122.253732        NaN\n",
       "11     Redwood City  37.474703 -122.216019        NaN\n",
       "12        Sunnyvale  37.393122 -122.009491        NaN\n",
       "13        Palo Alto  37.429703 -122.154273        NaN\n",
       "14       Menlo Park  37.419240 -122.208414        NaN\n",
       "15        Sausalito  37.862592 -122.493561        NaN\n",
       "16        San Bruno  37.627971 -122.426804        NaN\n",
       "17      Mill Valley  37.906966 -122.545763        NaN\n",
       "18        Los Gatos  37.251420 -121.968687        NaN\n",
       "19       Burlingame  37.590339 -122.341715        NaN\n",
       "20         Berkeley  37.871680 -122.269494        NaN\n",
       "21       Emeryville  37.848641 -122.289498        NaN\n",
       "22     Santa Monica  34.019315 -118.487594        NaN\n",
       "23      Culver City  34.010049 -118.397909        NaN\n",
       "24    Beverly Hills  34.067554 -118.395658        NaN\n",
       "25         Torrance  33.823100 -118.328584        NaN\n",
       "26       El Segundo  34.048857 -118.251343        NaN\n",
       "27   West Hollywood  34.090641 -118.374075        NaN\n",
       "28     Century City  34.057646 -118.417382        NaN\n",
       "29             Brea  33.913321 -117.878903        NaN\n",
       "30          Waltham  42.417268  -71.258466        NaN\n",
       "31         Westwood  42.214483  -71.185964        NaN\n",
       "32  King of Prussia  40.099703  -75.395990        NaN"
      ]
     },
     "execution_count": 22,
     "metadata": {},
     "output_type": "execute_result"
    }
   ],
   "source": [
    "import pandas as pd\n",
    "pd.read_csv('../outputs/okByRent.csv').drop(columns = 'Unnamed: 0',index = 0)"
   ]
  },
  {
   "cell_type": "markdown",
   "metadata": {},
   "source": [
    "#### Las ciudades NaN enrealidad son barrios o distritos de ciudades de la parte alta de la tabla"
   ]
  },
  {
   "cell_type": "markdown",
   "metadata": {},
   "source": [
    "### 8. Obtengo todas la compañías de Philadelphia con el formato adecuado para indexar"
   ]
  },
  {
   "cell_type": "code",
   "execution_count": 23,
   "metadata": {},
   "outputs": [],
   "source": [
    "from getJsonPhiladelphia import writeJson\n",
    "writeJson()"
   ]
  },
  {
   "cell_type": "markdown",
   "metadata": {},
   "source": [
    "Importo el Json como una nueva colección a mi base de datos, sobre esa colección elaboraré la solución final.\n"
   ]
  },
  {
   "cell_type": "markdown",
   "metadata": {},
   "source": [
    "### 9. Voy a comprobar entre las compañías de Philadelphia si hay alguna que cumpla que no tiene 10 años y q no tenga otra a menos de 2km, si hay suerte ese será un buen punto geográfico para localizar la empresa porque cumplirá todos los requisitos. Usé near + min_distance"
   ]
  },
  {
   "cell_type": "code",
   "execution_count": 24,
   "metadata": {},
   "outputs": [
    {
     "data": {
      "text/plain": [
       "1"
      ]
     },
     "execution_count": 24,
     "metadata": {},
     "output_type": "execute_result"
    }
   ],
   "source": [
    "from getPoint import officePhilaOk\n",
    "listOffice = officePhilaOk()\n",
    "len(listOffice)"
   ]
  },
  {
   "cell_type": "code",
   "execution_count": 25,
   "metadata": {},
   "outputs": [
    {
     "data": {
      "text/plain": [
       "{'office': {'_id': ObjectId('5d87b359f8c6279b54439c73'),\n",
       "  'name': 'ZIPQODE',\n",
       "  'category': 'web',\n",
       "  'city': 'Philadelphia',\n",
       "  'money_raised': '$0',\n",
       "  'founded_year': 2009,\n",
       "  'lat': 39.951639,\n",
       "  'long': -75.163808,\n",
       "  'position': {'type': 'Point', 'coordinates': [-75.163808, 39.951639]}},\n",
       " 'df': Empty DataFrame\n",
       " Columns: []\n",
       " Index: []}"
      ]
     },
     "execution_count": 25,
     "metadata": {},
     "output_type": "execute_result"
    }
   ],
   "source": [
    "listOffice[0]"
   ]
  },
  {
   "cell_type": "markdown",
   "metadata": {},
   "source": [
    "Hubo suerte, el punto de esa oficina será mi centro"
   ]
  },
  {
   "cell_type": "markdown",
   "metadata": {},
   "source": [
    "### 10. A partir de ahora sólo voy a enriquecer el dataframe de oficinas de Philadelphia con puntos de interés desde mi centro"
   ]
  },
  {
   "cell_type": "code",
   "execution_count": 26,
   "metadata": {},
   "outputs": [],
   "source": [
    "import pandas as pd\n",
    "myOffice = {'name':'CENTER','category':'CENTER','lat':39.951639,'long':-75.163808}\n",
    "data = pd.read_json('../outputs/philaOffices.json')[['name','category','lat','long']]\n",
    "data = data.drop(index=28)"
   ]
  },
  {
   "cell_type": "code",
   "execution_count": 27,
   "metadata": {},
   "outputs": [],
   "source": [
    "from addRowsFinalDf import addRows\n",
    "finalDf=addRows(data,myOffice['lat'],myOffice['long'])"
   ]
  },
  {
   "cell_type": "code",
   "execution_count": 28,
   "metadata": {},
   "outputs": [],
   "source": [
    "finalDf = finalDf.append(myOffice,ignore_index=True)"
   ]
  },
  {
   "cell_type": "code",
   "execution_count": 29,
   "metadata": {},
   "outputs": [],
   "source": [
    "finalDf.to_json('../outputs/finalDf.json')"
   ]
  },
  {
   "cell_type": "markdown",
   "metadata": {},
   "source": [
    "### 11. Para la representación voy a usar plotly y los mapas de open-street"
   ]
  },
  {
   "cell_type": "markdown",
   "metadata": {},
   "source": [
    "Añadí museos para los diseñadores e instalaciones deportivas que tienen que ver con los Philadelphia 76ers para el amigo de mantenimiento"
   ]
  },
  {
   "cell_type": "code",
   "execution_count": 31,
   "metadata": {},
   "outputs": [
    {
     "data": {
      "application/vnd.plotly.v1+json": {
       "config": {
        "plotlyServerURL": "https://plot.ly"
       },
       "data": [
        {
         "customdata": [
          [
           "mobile"
          ],
          [
           "web"
          ],
          [
           "software"
          ],
          [
           "web"
          ],
          [
           "web"
          ],
          [
           "games_video"
          ],
          [
           "ecommerce"
          ],
          [
           "advertising"
          ],
          [
           "games_video"
          ],
          [
           "web"
          ],
          [
           "web"
          ],
          [
           "web"
          ],
          [
           "other"
          ],
          [
           "other"
          ],
          [
           "search"
          ],
          [
           "other"
          ],
          [
           "software"
          ],
          [
           "software"
          ],
          [
           "games_video"
          ],
          [
           "advertising"
          ],
          [
           "other"
          ],
          [
           "biotech"
          ],
          [
           "ecommerce"
          ],
          [
           "software"
          ],
          [
           "other"
          ],
          [
           "mobile"
          ],
          [
           "software"
          ],
          [
           "consulting"
          ],
          [
           "software"
          ],
          [
           "Starbucks"
          ],
          [
           "Starbucks"
          ],
          [
           "Starbucks"
          ],
          [
           "Starbucks"
          ],
          [
           "Starbucks"
          ],
          [
           "Starbucks"
          ],
          [
           "Starbucks"
          ],
          [
           "Starbucks"
          ],
          [
           "Starbucks"
          ],
          [
           "Starbucks"
          ],
          [
           "Starbucks"
          ],
          [
           "Starbucks"
          ],
          [
           "Starbucks"
          ],
          [
           "Starbucks"
          ],
          [
           "Starbucks"
          ],
          [
           "Starbucks"
          ],
          [
           "Starbucks"
          ],
          [
           "Starbucks"
          ],
          [
           "Starbucks"
          ],
          [
           "Starbucks"
          ],
          [
           "Starbucks"
          ],
          [
           "Starbucks"
          ],
          [
           "Starbucks"
          ],
          [
           "Starbucks"
          ],
          [
           "Starbucks"
          ],
          [
           "Starbucks"
          ],
          [
           "Starbucks"
          ],
          [
           "Starbucks"
          ],
          [
           "Starbucks"
          ],
          [
           "Starbucks"
          ],
          [
           "Starbucks"
          ],
          [
           "Starbucks"
          ],
          [
           "Starbucks"
          ],
          [
           "Starbucks"
          ],
          [
           "Starbucks"
          ],
          [
           "Starbucks"
          ],
          [
           "Starbucks"
          ],
          [
           "Starbucks"
          ],
          [
           "Starbucks"
          ],
          [
           "Starbucks"
          ],
          [
           "Starbucks"
          ],
          [
           "Starbucks"
          ],
          [
           "Starbucks"
          ],
          [
           "Starbucks"
          ],
          [
           "Starbucks"
          ],
          [
           "Starbucks"
          ],
          [
           "Starbucks"
          ],
          [
           "Starbucks"
          ],
          [
           "Starbucks"
          ],
          [
           "University"
          ],
          [
           "University"
          ],
          [
           "University"
          ],
          [
           "University"
          ],
          [
           "University"
          ],
          [
           "University"
          ],
          [
           "University"
          ],
          [
           "University"
          ],
          [
           "University"
          ],
          [
           "University"
          ],
          [
           "University"
          ],
          [
           "University"
          ],
          [
           "University"
          ],
          [
           "University"
          ],
          [
           "University"
          ],
          [
           "University"
          ],
          [
           "University"
          ],
          [
           "University"
          ],
          [
           "University"
          ],
          [
           "University"
          ],
          [
           "University"
          ],
          [
           "University"
          ],
          [
           "University"
          ],
          [
           "University"
          ],
          [
           "University"
          ],
          [
           "University"
          ],
          [
           "University"
          ],
          [
           "University"
          ],
          [
           "University"
          ],
          [
           "University"
          ],
          [
           "University"
          ],
          [
           "University"
          ],
          [
           "University"
          ],
          [
           "University"
          ],
          [
           "University"
          ],
          [
           "University"
          ],
          [
           "University"
          ],
          [
           "University"
          ],
          [
           "University"
          ],
          [
           "University"
          ],
          [
           "University"
          ],
          [
           "University"
          ],
          [
           "University"
          ],
          [
           "University"
          ],
          [
           "University"
          ],
          [
           "University"
          ],
          [
           "University"
          ],
          [
           "University"
          ],
          [
           "University"
          ],
          [
           "University"
          ],
          [
           "Bar"
          ],
          [
           "Bar"
          ],
          [
           "Bar"
          ],
          [
           "Bar"
          ],
          [
           "Bar"
          ],
          [
           "Bar"
          ],
          [
           "Bar"
          ],
          [
           "Bar"
          ],
          [
           "Bar"
          ],
          [
           "Bar"
          ],
          [
           "Bar"
          ],
          [
           "Bar"
          ],
          [
           "Bar"
          ],
          [
           "Bar"
          ],
          [
           "Bar"
          ],
          [
           "Bar"
          ],
          [
           "Bar"
          ],
          [
           "Bar"
          ],
          [
           "Bar"
          ],
          [
           "Bar"
          ],
          [
           "Bar"
          ],
          [
           "Bar"
          ],
          [
           "Bar"
          ],
          [
           "Bar"
          ],
          [
           "Bar"
          ],
          [
           "Bar"
          ],
          [
           "Bar"
          ],
          [
           "Bar"
          ],
          [
           "Bar"
          ],
          [
           "Bar"
          ],
          [
           "Bar"
          ],
          [
           "Bar"
          ],
          [
           "Bar"
          ],
          [
           "Bar"
          ],
          [
           "Bar"
          ],
          [
           "Bar"
          ],
          [
           "Bar"
          ],
          [
           "Bar"
          ],
          [
           "Bar"
          ],
          [
           "Bar"
          ],
          [
           "Bar"
          ],
          [
           "Bar"
          ],
          [
           "Bar"
          ],
          [
           "Bar"
          ],
          [
           "Bar"
          ],
          [
           "Bar"
          ],
          [
           "Bar"
          ],
          [
           "Bar"
          ],
          [
           "Bar"
          ],
          [
           "Bar"
          ],
          [
           "Vegan"
          ],
          [
           "Vegan"
          ],
          [
           "Vegan"
          ],
          [
           "Vegan"
          ],
          [
           "Vegan"
          ],
          [
           "Vegan"
          ],
          [
           "Vegan"
          ],
          [
           "Vegan"
          ],
          [
           "Vegan"
          ],
          [
           "Vegan"
          ],
          [
           "Vegan"
          ],
          [
           "Vegan"
          ],
          [
           "Vegan"
          ],
          [
           "Vegan"
          ],
          [
           "Vegan"
          ],
          [
           "Vegan"
          ],
          [
           "Vegan"
          ],
          [
           "Vegan"
          ],
          [
           "Vegan"
          ],
          [
           "Vegan"
          ],
          [
           "Vegan"
          ],
          [
           "Vegan"
          ],
          [
           "Vegan"
          ],
          [
           "Vegan"
          ],
          [
           "Vegan"
          ],
          [
           "Vegan"
          ],
          [
           "Vegan"
          ],
          [
           "Vegan"
          ],
          [
           "Vegan"
          ],
          [
           "Vegan"
          ],
          [
           "Vegan"
          ],
          [
           "Vegan"
          ],
          [
           "Vegan"
          ],
          [
           "Vegan"
          ],
          [
           "Vegan"
          ],
          [
           "Vegan"
          ],
          [
           "Vegan"
          ],
          [
           "Vegan"
          ],
          [
           "Vegan"
          ],
          [
           "Vegan"
          ],
          [
           "Vegan"
          ],
          [
           "Vegan"
          ],
          [
           "Vegan"
          ],
          [
           "Vegan"
          ],
          [
           "Vegan"
          ],
          [
           "Vegan"
          ],
          [
           "Vegan"
          ],
          [
           "Vegan"
          ],
          [
           "Vegan"
          ],
          [
           "Vegan"
          ],
          [
           "Airport"
          ],
          [
           "Airport"
          ],
          [
           "Airport"
          ],
          [
           "Airport"
          ],
          [
           "Airport"
          ],
          [
           "Airport"
          ],
          [
           "Airport"
          ],
          [
           "Airport"
          ],
          [
           "Airport"
          ],
          [
           "Airport"
          ],
          [
           "Airport"
          ],
          [
           "Airport"
          ],
          [
           "Airport"
          ],
          [
           "Airport"
          ],
          [
           "Airport"
          ],
          [
           "Airport"
          ],
          [
           "Airport"
          ],
          [
           "Airport"
          ],
          [
           "Airport"
          ],
          [
           "Airport"
          ],
          [
           "Airport"
          ],
          [
           "Airport"
          ],
          [
           "Airport"
          ],
          [
           "Airport"
          ],
          [
           "Airport"
          ],
          [
           "Airport"
          ],
          [
           "Airport"
          ],
          [
           "Airport"
          ],
          [
           "Airport"
          ],
          [
           "Airport"
          ],
          [
           "Airport"
          ],
          [
           "Airport"
          ],
          [
           "Airport"
          ],
          [
           "Airport"
          ],
          [
           "Airport"
          ],
          [
           "Airport"
          ],
          [
           "Airport"
          ],
          [
           "Airport"
          ],
          [
           "Airport"
          ],
          [
           "Airport"
          ],
          [
           "Airport"
          ],
          [
           "Airport"
          ],
          [
           "Airport"
          ],
          [
           "Airport"
          ],
          [
           "Airport"
          ],
          [
           "Airport"
          ],
          [
           "Airport"
          ],
          [
           "Airport"
          ],
          [
           "Airport"
          ],
          [
           "Airport"
          ],
          [
           "Bus Station"
          ],
          [
           "Bus Station"
          ],
          [
           "Bus Station"
          ],
          [
           "Bus Station"
          ],
          [
           "Bus Station"
          ],
          [
           "Bus Station"
          ],
          [
           "Bus Station"
          ],
          [
           "Bus Station"
          ],
          [
           "Bus Station"
          ],
          [
           "Bus Station"
          ],
          [
           "Bus Station"
          ],
          [
           "Bus Station"
          ],
          [
           "Bus Station"
          ],
          [
           "Bus Station"
          ],
          [
           "Bus Station"
          ],
          [
           "Bus Station"
          ],
          [
           "Bus Station"
          ],
          [
           "Bus Station"
          ],
          [
           "Bus Station"
          ],
          [
           "Bus Station"
          ],
          [
           "Bus Station"
          ],
          [
           "Bus Station"
          ],
          [
           "Bus Station"
          ],
          [
           "Bus Station"
          ],
          [
           "Bus Station"
          ],
          [
           "Bus Station"
          ],
          [
           "Bus Station"
          ],
          [
           "Bus Station"
          ],
          [
           "Bus Station"
          ],
          [
           "Bus Station"
          ],
          [
           "Bus Station"
          ],
          [
           "Bus Station"
          ],
          [
           "Bus Station"
          ],
          [
           "Bus Station"
          ],
          [
           "Bus Station"
          ],
          [
           "Bus Station"
          ],
          [
           "Bus Station"
          ],
          [
           "Bus Station"
          ],
          [
           "Bus Station"
          ],
          [
           "Bus Station"
          ],
          [
           "Bus Station"
          ],
          [
           "Bus Station"
          ],
          [
           "Bus Station"
          ],
          [
           "Bus Station"
          ],
          [
           "Bus Station"
          ],
          [
           "Bus Station"
          ],
          [
           "Bus Station"
          ],
          [
           "Bus Station"
          ],
          [
           "Bus Station"
          ],
          [
           "Bus Station"
          ],
          [
           "Museum"
          ],
          [
           "Museum"
          ],
          [
           "Museum"
          ],
          [
           "Museum"
          ],
          [
           "Museum"
          ],
          [
           "Museum"
          ],
          [
           "Museum"
          ],
          [
           "Museum"
          ],
          [
           "Museum"
          ],
          [
           "Museum"
          ],
          [
           "Museum"
          ],
          [
           "Museum"
          ],
          [
           "Museum"
          ],
          [
           "Museum"
          ],
          [
           "Museum"
          ],
          [
           "Museum"
          ],
          [
           "Museum"
          ],
          [
           "Museum"
          ],
          [
           "Museum"
          ],
          [
           "Museum"
          ],
          [
           "Museum"
          ],
          [
           "Museum"
          ],
          [
           "Museum"
          ],
          [
           "Museum"
          ],
          [
           "Museum"
          ],
          [
           "Museum"
          ],
          [
           "Museum"
          ],
          [
           "Museum"
          ],
          [
           "Museum"
          ],
          [
           "Museum"
          ],
          [
           "Museum"
          ],
          [
           "Museum"
          ],
          [
           "Museum"
          ],
          [
           "Museum"
          ],
          [
           "Museum"
          ],
          [
           "Museum"
          ],
          [
           "Museum"
          ],
          [
           "Museum"
          ],
          [
           "Museum"
          ],
          [
           "Museum"
          ],
          [
           "Museum"
          ],
          [
           "Museum"
          ],
          [
           "Museum"
          ],
          [
           "Museum"
          ],
          [
           "Museum"
          ],
          [
           "Museum"
          ],
          [
           "Museum"
          ],
          [
           "76ers"
          ],
          [
           "76ers"
          ],
          [
           "76ers"
          ],
          [
           "76ers"
          ],
          [
           "76ers"
          ],
          [
           "76ers"
          ],
          [
           "76ers"
          ],
          [
           "76ers"
          ],
          [
           "76ers"
          ],
          [
           "76ers"
          ],
          [
           "76ers"
          ],
          [
           "76ers"
          ],
          [
           "76ers"
          ],
          [
           "76ers"
          ],
          [
           "76ers"
          ],
          [
           "76ers"
          ],
          [
           "76ers"
          ],
          [
           "76ers"
          ],
          [
           "76ers"
          ],
          [
           "76ers"
          ],
          [
           "76ers"
          ],
          [
           "CENTER"
          ]
         ],
         "hoverlabel": {
          "namelength": 0
         },
         "hovertemplate": "<b>%{hovertext}</b><br><br>category=%{customdata[0]}<br>lat=%{lat}<br>long=%{lon}",
         "hovertext": [
          "Styky",
          "myfirstpaycheck",
          "Vuzit",
          "Popularo",
          "PayLoadz",
          "Comcast",
          "TicketLeap",
          "The Ad Database",
          "Sport Interactiva",
          "Anthillz",
          "The Impartial Observer",
          "The Impartial Observer",
          "Givology",
          "Alpha Channel Media",
          "MyNetResearch",
          "MacArthur Associates",
          "RJMetrics",
          "iugo",
          "Sports Reference",
          "Heavy Bubble",
          "Workbridge Associates",
          "ChronoWake",
          "Snipi",
          "Azavea",
          "Ennovance Capital",
          "Alkali Media",
          "Onthegig",
          "greenstar media labs",
          "HxTechnologies",
          "Starbucks",
          "Starbucks",
          "Starbucks",
          "Starbucks",
          "Starbucks",
          "Starbucks",
          "Starbucks",
          "Starbucks",
          "Starbucks",
          "Starbucks",
          "Starbucks",
          "Starbucks",
          "Starbucks",
          "Starbucks",
          "Starbucks",
          "Starbucks",
          "Starbucks",
          "Starbucks",
          "Starbucks",
          "Starbucks",
          "Starbucks",
          "Starbucks",
          "Starbucks",
          "Starbucks",
          "Starbucks",
          "Starbucks",
          "Starbucks",
          "Starbucks",
          "Starbucks",
          "Starbucks",
          "Starbucks",
          "Starbucks",
          "Starbucks",
          "Starbucks",
          "Starbucks",
          "Starbucks",
          "Starbucks",
          "Starbucks",
          "Starbucks",
          "Starbucks",
          "Starbucks",
          "Starbucks",
          "Coffee Express- Starbucks",
          "Starbucks",
          "Starbucks",
          "Starbucks",
          "Starbucks",
          "Starbucks",
          "Starbucks",
          "University of Pennsylvania",
          "UPenn HIV Prevention Research Division",
          "Drexel University",
          "Temple University",
          "Hamilton Hall - University of the Arts",
          "Temple University - Center City",
          "1401 Walnut Studios",
          "DeVry University Philadelphia  Campus",
          "Thomas Jefferson University",
          "Eastern university",
          "University of the Arts",
          "TJU: Alumni Hall",
          "Thomas Jefferson University - Health Services",
          "Thomas Jefferson, Edison Building",
          "thomas jefferson university hospital Dept. Of Ultrasounds And Radiology",
          "Harrisburg University - Philadelphia",
          "Scratch DJ Academy",
          "The Art Institute Of Philadelphia",
          "Drexel University School of Biomedical Engineering, Science and Health Systems",
          "Rutgers University",
          "Drexel University Police",
          "Paul Peck Alumni Center",
          "Penn Museum Native American History",
          "Drexel PD",
          "The Fishbowl",
          "University of Pennsylvania Archives and Record Center",
          "Grey Gables",
          "The office",
          "Office of University Communications",
          "Drexel University Boathouse",
          "Penn Office of International Programs",
          "School of Social Policy & Practice",
          "Girard College",
          "The Wharton School",
          "Wharton UI Conf",
          "Wharton Welcome",
          "Stouffer Commons",
          "Saint Leonard's Court",
          "Rutgers-Camden Community Park",
          "The Liacouras Center First Aid Room (Temple University)",
          "Rutgers University - Camden",
          "University of Pennsylvania School of Education",
          "Drexel University College of Engineering",
          "CURF",
          "Technology Center Lounge Hall",
          "Media Services - Samuel Paley Library",
          "Temple Made Live",
          "Montgomery Parking Garage",
          "Residential Life",
          "Temple's Stomping Ground",
          "American Sardine Bar",
          "Tattooed Mom",
          "Sassafras",
          "Fountain Porter",
          "Graffiti Bar",
          "Bottle Bar East",
          "Johnny Brenda's",
          "Double Knot",
          "McGillin's Olde Ale House",
          "Good Dog Bar & Restaurant",
          "Strangelove's",
          "Wrap Shack on The Square",
          "Monk's Cafe",
          "Ocean Prime",
          "The Bishop's Collar",
          "12 Steps Down",
          "Devil's Alley",
          "Maggiano's Little Italy",
          "Beer Love",
          "The Twisted Tail",
          "Tavern On Camac",
          "National Mechanics",
          "Race Street Cafe",
          "Triangle Tavern",
          "Jerry's Bar",
          "Ranstead Room",
          "Barcade",
          "Garage",
          "The Druid's Keep",
          "Kraftwork",
          "The Sidecar Bar & Grille",
          "Hale & True",
          "New Wave Cafe",
          "Royal Tavern",
          "The International",
          "Tavern 222",
          "Martha",
          "Finn McCools Ale House",
          "Kite & Key",
          "Saint Lazarus Bar",
          "Memphis Taproom",
          "Urban Saloon",
          "Moonshine Philly",
          "Lorraine",
          "Misconduct Tavern",
          "Rose Tattoo Cafe",
          "The Continental Mid-Town",
          "Savas Brick Oven Pizza & Bar",
          "Rogues Gallery Bar",
          "Moriarty's Restaurant & Irish Pub",
          "Vedge",
          "Charlie Was A Sinner",
          "HipCityVeg",
          "V Street",
          "Bar Bombón",
          "Pure Sweets & Co.",
          "New Harmony Vegetarian",
          "Grindcore House",
          "HipCityVeg",
          "Mama's Vegetarian",
          "The Tasty",
          "Vegan Tree",
          "Goldie",
          "Su Xing House",
          "Benna's Cafe",
          "Sazon Restaurant & Cafe",
          "Miss Rachel's Pantry",
          "Govinda's Gourmet Vegetarian",
          "Fuel",
          "HipCityVeg",
          "The Abbaye",
          "Royal Tavern",
          "Bimini Juice Bar",
          "Front Street Cafe",
          "Blackbird Pizzeria",
          "Strangelove's",
          "Magic Carpet Foods",
          "Green Line Cafe",
          "Memphis Taproom",
          "Magic Carpet Foods",
          "&pizza",
          "Triangle Tavern",
          "Essene Market & Cafe",
          "Green Eggs Cafe",
          "Cantina Los Caballitos",
          "One Shot Cafe",
          "Snap Kitchen",
          "Chapterhouse Cafe & Gallery",
          "Green Eggs Café",
          "The Kettle Black",
          "Cantina Dos Segundos",
          "Joe",
          "The Pub on Passyunk East",
          "Le Pain Quotidien",
          "FARMiCiA",
          "Ed's Buffalo Wings & Pizza",
          "White Dog Cafe",
          "OCF Coffee House",
          "Sweet Freedom Bakery",
          "Satellite Cafe",
          "Philadelphia International Airport (PHL) (Philadelphia International Airport)",
          "Northeast Philadelphia Airport",
          "Terminal F",
          "PNC GIS",
          "Taxiway N",
          "Wings Field (Wings Field Airport)",
          "Terminal B",
          "Terminal D",
          "Gate F26",
          "Gate F20",
          "Airnet PHL",
          "Gate C30",
          "Philadelphia Prom Limo",
          "Dow Chemical Corporate Hanger",
          "Bensalem International Airport",
          "Concourse 3",
          "PHL Express Hangar Pad",
          "Concourse 2",
          "Terminal F Hangar",
          "Concourse 1",
          "UPS PHL Air Hub",
          "Terminal E",
          "JetBlue Airways Ticket Counter",
          "Terminals D/E Connector",
          "PHL Remote Aircraft Parking",
          "TSA Security Checkpoint A East",
          "Private Jet Terminal",
          "Known Crew Member Line",
          "Terminal C",
          "Terminals B/C Connector",
          "Terminal A/B Connector",
          "TSA Pre✓™",
          "TSA Pre✓™",
          "Terminal A East",
          "PHL Tarmac",
          "International Arrivals Hall",
          "Terminal A West",
          "PHL Hardstand",
          "FedEx",
          "Airplane",
          "United Airlines Flight 368",
          "United Airlines UA1544",
          "American Airlines Flight 412",
          "Delta DL6220 - PHL - RDU",
          "Delta DL1561 - PHL - ATL",
          "Delta Air Lines Flight 1494",
          "American Airlines Flight 1730",
          "American Airlines AA2374",
          "Aa#2523 Phl-Rdu",
          "American Airlines Flight 2842 (PHL-DCA)",
          "Greyhound: Bus Station",
          "SEPTA: Routes 38,44,62",
          "Focus Travel Agency",
          "Drexel Dragon Route CC Shuttle Stop",
          "Yo! Bus (NYC - PHILLY)",
          "SEPTA: 10th and Walnut St. Bus Stop",
          "SEPTA 17 At 19th And JFK",
          "Bus Stop 20th & Market",
          "Gotobus to NYC",
          "Bus Stop 7th & Market",
          "Megabus Stop",
          "Bus Stop 22nd & Chestnut",
          "Bus Stop 22nd & Walnut St",
          "SEPTA Suburban Station",
          "17th & Spring Garden 2 Bus Stop",
          "Bus Stop 23rd & Chestnut",
          "Megabus Stop",
          "SEPTA: Front & Market (Rts. 5, 17, 48)",
          "Megabus: Philly -> DC",
          "Bus Stop 23rd & Washington",
          "Drexel: Dragon Route Bus Stop",
          "34th & Walnut",
          "Penn Bus Stop - Food Court",
          "Bus Stop 26th and Brown",
          "Philadelphia Phlash",
          "SEPTA: Bus Stop (15th St & J F Kennedy Bl)",
          "15 BUS LOOP",
          "Septa 17th & JFK Bus Stop",
          "22nd & Snyder",
          "GoToBus",
          "Septa: Route 12",
          "Peter Pan Bus Line | Philadelphia - NYC",
          "Septa 12 Bus (Locust)",
          "SEPTA Route 23",
          "SEPTA: 19th and Walnut Bus Stop",
          "Bus Stop N 33rd Street & W Girard Ave",
          "SEPTA: Route 40",
          "SEPTA: Route 57",
          "33 Bus Stop",
          "Avenue of the Arts",
          "Septa Bus Route 47",
          "SEPTA - Bus Stop (Market St & 7th St)",
          "Septa: 42 Bus Stop",
          "Route 33 19th & Vine Sts",
          "SEPTA Bus Stop #22273",
          "8th & Race",
          "Septa Route 47 South",
          "Septa Route 40",
          "SEPTA: 32 Bus",
          "SEPTA: Broad and Christian Sts Bus Stop",
          "Pennsylvania Academy of the Fine Arts",
          "The Franklin Institute",
          "The Academy of Natural Sciences of Drexel University",
          "The Barnes Foundation",
          "Rosenbach Museum & Library",
          "Museum of the American Revolution",
          "Rodin Museum",
          "National Museum of American Jewish History",
          "Philadelphia Art Alliance",
          "Philadelphia Museum of Art",
          "Mütter Museum",
          "Independence Visitor Center",
          "Declaration House",
          "The Philadelphia Korean War Memorial At Penn's Landing",
          "National Constitution Center",
          "Benjamin Franklin Museum",
          "Independence National Historical Park Living History Center",
          "Perelman Building",
          "African American Museum",
          "Elfreth's Alley Museum",
          "University of Pennsylvania Museum of Archaeology and Anthropology",
          "Franklin Court Printing Office",
          "Cruiser USS Olympia",
          "Battleship New Jersey Museum & Memorial",
          "Center / Architecture + Design",
          "PhilaMOCA",
          "Historic Philadelphia Center",
          "Independence Seaport Museum",
          "Independence National Park - Liberty Theater",
          "Institute of Contemporary Art",
          "Franklin Court",
          "Please Touch Museum",
          "National Liberty Museum",
          "Old City Hall",
          "Second Bank of the United States",
          "Shofuso Japanese House and Garden",
          "Carpenters' Hall",
          "Fels Planetarium",
          "Athenaeum of Philadelphia",
          "Powel House",
          "Belmont Historical Mansion",
          "Simeone Foundation Automotive Museum",
          "Fireman's Hall Museum",
          "Wagner Free Institute of Science",
          "Historic Strawberry Mansion",
          "American Swedish Historical Museum",
          "Fort Mifflin",
          "Wells Fargo Center",
          "Larry's Steaks",
          "Citizens Bank Park",
          "SEPTA BSL NRG Station",
          "Vine Street Expressway Interchange",
          "I-95 / I-676 / US-30 Interchange",
          "Interstate 76 at Exit 346A",
          "Interstate 76 at Exit 345",
          "Interstate 76 at Exit 343",
          "Soup'er Sushi",
          "Interstate 76 at Exit 346B",
          "Philadelphia 76ers Training Complex",
          "Interstate 76 at Exit 342",
          "Interstate 76 at Exit 349",
          "Interstate 76 at Exit 348",
          "Interstate 76 at Exit 351",
          "Interstate 76 at Exit 341",
          "Interstate 76 at Exit 340B",
          "Interstate 76 at Exit 339",
          "Interstate 76 at Exit 340A",
          "Interstate 76 at Exit 338",
          "CENTER"
         ],
         "lat": [
          39.956259,
          39.952229,
          39.9564403,
          39.951639,
          40.738832,
          39.9525762,
          39.9512991,
          39.964046,
          39.951053,
          39.95644,
          39.951639,
          39.951639,
          39.952332,
          39.950709,
          39.951639,
          39.9528012,
          39.9443552,
          40.032121,
          40.0450165,
          39.949433,
          39.9528012,
          39.9511019,
          39.9502045,
          39.9587169,
          40.2090785,
          39.951639,
          39.9493801,
          39.951639,
          39.9587169,
          39.95335453,
          39.95255804,
          39.949024,
          39.9520049587,
          39.947777,
          39.9539796533,
          39.954727,
          39.9501180611,
          39.9545823465,
          39.94566439,
          39.94252,
          39.95342,
          39.95202943,
          39.9491534,
          39.953074,
          39.9496551668,
          39.9609038026,
          39.947884,
          39.9476235638,
          39.938292,
          39.960042,
          40.0025999983,
          39.954762,
          39.966877,
          39.92252073,
          39.9453415568,
          39.9239102581,
          39.953064,
          39.96869,
          40.0051217292,
          40.0065181099,
          40.0321065278,
          39.94786,
          39.9524451841,
          39.948001,
          39.9520135282,
          39.8920445503,
          39.9569600581,
          39.9963377492,
          39.9468365289,
          40.004383,
          39.95083467,
          39.962028,
          39.95482252,
          39.9500094051,
          39.979696,
          39.9550813901,
          40.0377002,
          39.9911710376,
          39.9520563157,
          39.9564484746,
          39.955317115,
          39.980393517,
          39.9459925671,
          39.9529737288,
          39.9492471409,
          39.9543103069,
          39.948261532000004,
          39.954281,
          39.9460222,
          39.9472936793,
          39.9500687592,
          39.9487269515,
          39.9481773376,
          39.962114,
          39.948465,
          39.9647764914,
          39.9550006352,
          39.948536125,
          39.9577275003,
          39.954793292,
          39.9524371391,
          39.9585938,
          39.951720946500004,
          39.9524276578,
          39.9611613605,
          39.9484704064,
          39.95424,
          39.9692797902,
          39.9550739924,
          39.9525964339,
          39.9768290903,
          39.9530128741,
          39.953336875,
          39.9530896009,
          39.9507114323,
          39.9556104694,
          39.9507732765,
          39.9802316,
          39.947798378,
          39.9534444028,
          39.9593154518,
          39.953614,
          39.9805030823,
          39.9811654681,
          39.9814109802,
          39.980891,
          39.9818682508,
          39.9813938055,
          39.9366636489,
          39.941868884,
          39.9487428595,
          39.9295894226,
          39.9496129899,
          39.970517693,
          39.9689906115,
          39.9496993,
          39.9502234083,
          39.948764738,
          39.9480487841,
          39.9510845831,
          39.9476814945,
          39.9501062,
          39.9674348097,
          39.938963031,
          39.9520528944,
          39.952921608,
          39.940195352,
          39.9418679209,
          39.9472949212,
          39.9494619312,
          39.9538232161,
          39.9322027772,
          39.9651010942,
          39.9526156357,
          39.9675526484,
          39.933507413,
          39.9628465126,
          39.9714910361,
          39.9417258325,
          39.9417155598,
          39.938004107,
          39.937095447,
          39.9751989218,
          39.9412968708,
          39.9822373544,
          39.9496975468,
          39.9605345881,
          39.968792,
          39.9803417641,
          39.9671763173,
          39.9249612259,
          39.9680802335,
          39.9485216609,
          39.9607508916,
          39.9518630389,
          39.9581647745,
          39.953119,
          39.9487852764,
          39.94791088,
          39.949493,
          39.9508041191,
          39.9509711415,
          39.9506648833,
          39.948766,
          39.9544778537,
          39.9290578394,
          39.9503434041,
          39.9526430594,
          39.9322951539,
          39.942416195,
          39.9630025805,
          39.950455867,
          39.9329035269,
          39.9617045254,
          39.926458047,
          39.9437010891,
          39.9491065985,
          39.9535477713,
          39.962286291,
          39.937095447,
          39.9631367252,
          39.9702436095,
          39.9613750865,
          39.9480487841,
          39.9519969854,
          39.9496602483,
          39.9803417641,
          39.9508545792,
          39.9541463,
          39.9322027772,
          39.9400445798,
          39.9624091392,
          39.9289237431,
          39.967631,
          39.9501681538,
          39.9418281556,
          39.9482297066,
          39.9616580943,
          39.9648704957,
          39.9501850301,
          39.9309727708,
          39.9496177,
          39.9497223524,
          39.9581387998,
          39.9535481,
          39.9672901212,
          39.9437825769,
          39.9478379347,
          39.8756427788,
          40.0760458949,
          39.8804691612,
          39.876204,
          39.8615643008,
          40.1356111299,
          39.8758798725,
          39.8768483632,
          39.8814773873,
          39.8801145994,
          39.8861586379,
          39.8745587931,
          39.988760777,
          39.8830549482,
          40.1065734714,
          39.8820051236,
          39.8821374276,
          39.8789655579,
          39.8813363606,
          39.8800440148,
          39.8595040342,
          39.8785553427,
          39.8781607852,
          39.8778637366,
          39.8747013266,
          39.8755568846,
          39.8753196875,
          39.8762156534,
          39.875839308,
          39.876080448,
          39.876614000000004,
          39.8759917251,
          39.8757783031,
          39.875360723,
          39.873489,
          39.8760585421,
          39.8748924681,
          39.871633,
          39.8710642895,
          39.8791,
          39.875737,
          39.876961,
          39.876767,
          39.87567,
          39.875357,
          39.8749037656,
          39.87494,
          39.875482,
          39.875534,
          39.87423,
          39.9528863729,
          39.9521221119,
          39.9531456039,
          39.9565278927,
          39.9530462114,
          39.9484460378,
          39.9536526003,
          39.9538914927,
          39.954967,
          39.9510646626,
          39.9507973655,
          39.9526092746,
          39.9508773905,
          39.9538494141,
          39.9629835823,
          39.9542501827,
          39.9561974311,
          39.9504110661,
          39.9561872098,
          39.9396450832,
          39.9554213123,
          39.95278,
          39.9527369513,
          39.9703572306,
          39.9532735358,
          39.9536,
          39.964664027,
          39.9540041987,
          39.9272717892,
          39.9527505049,
          39.9489082269,
          39.95301,
          39.9483150588,
          39.9567472313,
          39.9502172903,
          39.9748042493,
          39.9448952651,
          39.9337484066,
          39.9511576796,
          39.9436338754,
          39.9479755796,
          39.951131314,
          39.9524047403,
          39.9591948993,
          39.945652,
          39.955234065,
          39.9426004929,
          39.9433447901,
          39.9608083522,
          39.9398384245,
          39.9554646106,
          39.9582089943,
          39.9566517921,
          39.9605874046,
          39.9474078073,
          39.9483934457,
          39.9619239242,
          39.9505595363,
          39.9482803141,
          39.9658499286,
          39.9532581732,
          39.9510693646,
          39.9507754893,
          39.9449477575,
          39.9534364957,
          39.9499926752,
          39.9482357091,
          39.9675349044,
          39.9531869591,
          39.9527690685,
          39.9495249528,
          39.9501019855,
          39.9436015643,
          39.9399617583,
          39.9540366868,
          39.9622121773,
          39.9492730358,
          39.9461024778,
          39.9509282279,
          39.9539077879,
          39.9495717678,
          39.9793743782,
          39.948776186,
          39.9489111767,
          39.9489734308,
          39.9814464206,
          39.9482987287,
          39.9588687962,
          39.9469744856,
          39.9457588416,
          39.9908544917,
          39.9106571956,
          39.9533070333,
          39.980917303,
          39.9945052113,
          39.9060758788,
          39.876340532,
          39.901122,
          39.9957470165,
          39.9057356615,
          39.9051421774,
          39.9606915303,
          39.9566413392,
          39.9474709848,
          39.9627638195,
          39.9640312155,
          39.9477656542,
          39.9431238896,
          39.9424000324,
          39.9752137072,
          39.9123614329,
          39.9132666504,
          39.9105427325,
          39.9867118819,
          40.0052154707,
          40.0100722171,
          40.0102016435,
          40.0253140754,
          39.951639
         ],
         "legendgroup": "",
         "lon": [
          -75.194657,
          -75.162644,
          -75.1961715,
          -75.163808,
          -73.981534,
          -75.1652518,
          -75.179869,
          -75.197184,
          -75.197465,
          -75.196171,
          -75.163808,
          -75.163808,
          -75.197624,
          -75.168954,
          -75.163808,
          -75.1668626,
          -75.1257381,
          -75.191867,
          -75.19373,
          -75.168399,
          -75.1668626,
          -75.197882,
          -75.1618758,
          -75.1583802,
          -75.2309109,
          -75.163808,
          -75.145782,
          -75.163808,
          -75.1583802,
          -75.1730728,
          -75.16666122,
          -75.160645,
          -75.1718899673,
          -75.16649,
          -75.200400585,
          -75.16665,
          -75.1570663916,
          -75.16856563,
          -75.16488924,
          -75.15721,
          -75.17018,
          -75.14514464,
          -75.16461682,
          -75.149703,
          -75.1674922098,
          -75.1715782306,
          -75.17129,
          -75.1933907288,
          -75.166814,
          -75.148165,
          -75.2226349711,
          -75.163129,
          -75.140192,
          -75.16985776,
          -75.1786466562,
          -75.1459100978,
          -75.19222,
          -75.13906,
          -75.2399577405,
          -75.2122712163,
          -75.214051973,
          -75.15401,
          -75.1996816001,
          -75.122455,
          -75.1606659276,
          -75.2419781956,
          -75.1912999,
          -75.234608498,
          -75.2068675922,
          -75.15253,
          -75.1619685,
          -75.165799,
          -75.18583604,
          -75.1930365007,
          -75.155255,
          -75.1880844344,
          -75.1528928,
          -75.089618272,
          -75.1950645447,
          -75.1939255277,
          -75.1892356044,
          -75.1562396449,
          -75.1657679672,
          -75.1655896901,
          -75.164250832,
          -75.1698233231,
          -75.1583088646,
          -75.170211,
          -75.165408,
          -75.1584523877,
          -75.1553161827,
          -75.1559395492,
          -75.1550674438,
          -75.164744,
          -75.144481,
          -75.1789026708,
          -75.1864171028,
          -75.1217651367,
          -75.1880157708,
          -75.1890706791,
          -75.1902614514,
          -75.1886968,
          -75.1911346996,
          -75.1918515009,
          -75.1897459306,
          -75.1930824959,
          -75.194947,
          -75.186551273,
          -75.1968723039,
          -75.1974763851,
          -75.17343294450001,
          -75.1980690663,
          -75.198098,
          -75.1985021781,
          -75.1992440578,
          -75.1995962036,
          -75.1262283325,
          -75.1572315057,
          -75.125779638,
          -75.2022120729,
          -75.2012085917,
          -75.202595,
          -75.1534500122,
          -75.1560116301,
          -75.1548690796,
          -75.151736,
          -75.1560045112,
          -75.149549451,
          -75.1735881487,
          -75.1518803404,
          -75.1440382227,
          -75.1614243728,
          -75.1620921052,
          -75.1346257396,
          -75.1342500814,
          -75.1621725,
          -75.1625793221,
          -75.1661234947,
          -75.1591726671,
          -75.1704494662,
          -75.1680031888,
          -75.1659276,
          -75.1769741492,
          -75.1577610076,
          -75.1721660097,
          -75.1600682678,
          -75.1495488733,
          -75.1453634252,
          -75.1616352765,
          -75.1458702625,
          -75.1433255092,
          -75.1610801566,
          -75.1389069738,
          -75.173657982,
          -75.1345930292,
          -75.1588867274,
          -75.1400246134,
          -75.1273456494,
          -75.1793967413,
          -75.1539682235,
          -75.1484431931,
          -75.1547042387,
          -75.1343002813,
          -75.1465173505,
          -75.1281157427,
          -75.1605067943,
          -75.1696306774,
          -75.13639,
          -75.1231858708,
          -75.1729256536,
          -75.1518159171,
          -75.1622452254,
          -75.1665450222,
          -75.1698814857,
          -75.1704606414,
          -75.1928543729,
          -75.175125,
          -75.159854873,
          -75.1614956386,
          -75.16179,
          -75.1703748107,
          -75.1721449241,
          -75.1705641854,
          -75.169628,
          -75.1544061489,
          -75.1519433615,
          -75.1640457767,
          -75.1733892784,
          -75.1641064838,
          -75.1552906963,
          -75.1742946712,
          -75.1662802432,
          -75.1575866458,
          -75.154435486,
          -75.1736646983,
          -75.165754139,
          -75.1617220706,
          -75.2026360925,
          -75.1429944628,
          -75.1547042387,
          -75.1407994161,
          -75.1355695524,
          -75.1413818536,
          -75.1591726671,
          -75.1913670789,
          -75.2092000666,
          -75.1231858708,
          -75.1954874674,
          -75.2014479,
          -75.1610801566,
          -75.1494391284,
          -75.1410025082,
          -75.1646096319,
          -75.1407,
          -75.1452579865,
          -75.1573325427,
          -75.1622783933,
          -75.1412353828,
          -75.140511198,
          -75.1713527045,
          -75.1621132039,
          -75.1652505,
          -75.1457441537,
          -75.1930970076,
          -75.1929486,
          -75.1724654019,
          -75.1664188069,
          -75.222711175,
          -75.2419326176,
          -75.0067796873,
          -75.2374954745,
          -75.265931,
          -75.2473492313,
          -75.2647590637,
          -75.243681661,
          -75.2398303211,
          -75.2372457051,
          -75.2361667464,
          -75.2128568732,
          -75.2411011929,
          -75.1371610165,
          -75.2233072175,
          -74.9551118082,
          -75.237124071,
          -75.2393574429,
          -75.2353236764,
          -75.239477087,
          -75.2388275898,
          -75.250142126,
          -75.2392244339,
          -75.238895958,
          -75.2397608757,
          -75.2345431191,
          -75.2471797355,
          -75.2406906139,
          -75.2422399299,
          -75.2418870397,
          -75.2430425963,
          -75.244156,
          -75.2438983138,
          -75.246894836,
          -75.2469062805,
          -75.24457,
          -75.2486981384,
          -75.2497091579,
          -75.256065,
          -75.2664573039,
          -75.23998,
          -75.237548,
          -75.239804,
          -75.239947,
          -75.238451,
          -75.238178,
          -75.2381837872,
          -75.241748,
          -75.243935,
          -75.244223,
          -75.24319,
          -75.1569795811,
          -75.1615047455,
          -75.1579472674,
          -75.1645594039,
          -75.1572169234,
          -75.1571652732,
          -75.171390491,
          -75.1732121421,
          -75.15293,
          -75.1520897228,
          -75.1508276031,
          -75.1770902051,
          -75.1773637862,
          -75.1672529237,
          -75.1663747103,
          -75.1785549982,
          -75.1849213188,
          -75.1427127254,
          -75.1851202277,
          -75.1816327289,
          -75.187588536,
          -75.19206,
          -75.1924726987,
          -75.1796770681,
          -75.1644659042,
          -75.164519,
          -75.1341491722,
          -75.1681609411,
          -75.1803287748,
          -75.1580694522,
          -75.169471045,
          -75.157139,
          -75.169452541,
          -75.1610848825,
          -75.171692581,
          -75.187723238,
          -75.1668043726,
          -75.1492907437,
          -75.1533438317,
          -75.1656246185,
          -75.1540905918,
          -75.1526711745,
          -75.1755978003,
          -75.1703873199,
          -75.173085,
          -75.151873103,
          -75.1585368762,
          -75.155122369,
          -75.1735564068,
          -75.1661294712,
          -75.16314124,
          -75.1731368177,
          -75.171556671,
          -75.1726061064,
          -75.1750217471,
          -75.1460217094,
          -75.1739498636,
          -75.1484723227,
          -75.1708985521,
          -75.1805726284,
          -75.17665662900001,
          -75.1500892639,
          -75.1520489667,
          -75.1434632648,
          -75.1493420493,
          -75.1465347767,
          -75.1478256778,
          -75.179443995,
          -75.1518093415,
          -75.1424722813,
          -75.1914183707,
          -75.1466233772,
          -75.1412925067,
          -75.1323589958,
          -75.1604711056,
          -75.1576205988,
          -75.1504935697,
          -75.1401963873,
          -75.150250385,
          -75.1948646181,
          -75.1466519967,
          -75.2093289939,
          -75.1470854562,
          -75.1492739826,
          -75.1484223846,
          -75.2128754605,
          -75.1471655904,
          -75.173269397,
          -75.1513414949,
          -75.1470185806,
          -75.2133665317,
          -75.226187771,
          -75.1429798144,
          -75.1627408658,
          -75.190289947,
          -75.1810570838,
          -75.2115762234,
          -75.171872,
          -75.2340249928,
          -75.1666139711,
          -75.1732149961,
          -75.1818037033,
          -75.1422947645,
          -75.18766433,
          -75.1836705208,
          -75.1845080405,
          -75.1930312046,
          -75.1929402351,
          -75.1282721758,
          -75.1945093274,
          -75.1724454761,
          -75.1819378138,
          -75.1580071449,
          -75.2079404891,
          -75.1950645447,
          -75.2078720927,
          -75.2076897025,
          -75.2289140224,
          -75.163808
         ],
         "marker": {
          "color": "blue"
         },
         "mode": "markers",
         "name": "",
         "showlegend": false,
         "subplot": "mapbox",
         "type": "scattermapbox"
        }
       ],
       "layout": {
        "height": 700,
        "legend": {
         "tracegroupgap": 0
        },
        "mapbox": {
         "center": {
          "lat": 39.94941982449748,
          "lon": -75.17311863152166
         },
         "domain": {
          "x": [
           0,
           0.98
          ],
          "y": [
           0,
           1
          ]
         },
         "style": "open-street-map",
         "zoom": 12
        },
        "margin": {
         "b": 0,
         "l": 0,
         "r": 0,
         "t": 0
        },
        "template": {
         "data": {
          "bar": [
           {
            "error_x": {
             "color": "#2a3f5f"
            },
            "error_y": {
             "color": "#2a3f5f"
            },
            "marker": {
             "line": {
              "color": "#E5ECF6",
              "width": 0.5
             }
            },
            "type": "bar"
           }
          ],
          "barpolar": [
           {
            "marker": {
             "line": {
              "color": "#E5ECF6",
              "width": 0.5
             }
            },
            "type": "barpolar"
           }
          ],
          "carpet": [
           {
            "aaxis": {
             "endlinecolor": "#2a3f5f",
             "gridcolor": "white",
             "linecolor": "white",
             "minorgridcolor": "white",
             "startlinecolor": "#2a3f5f"
            },
            "baxis": {
             "endlinecolor": "#2a3f5f",
             "gridcolor": "white",
             "linecolor": "white",
             "minorgridcolor": "white",
             "startlinecolor": "#2a3f5f"
            },
            "type": "carpet"
           }
          ],
          "choropleth": [
           {
            "colorbar": {
             "outlinewidth": 0,
             "ticks": ""
            },
            "type": "choropleth"
           }
          ],
          "contour": [
           {
            "colorbar": {
             "outlinewidth": 0,
             "ticks": ""
            },
            "colorscale": [
             [
              0,
              "#0d0887"
             ],
             [
              0.1111111111111111,
              "#46039f"
             ],
             [
              0.2222222222222222,
              "#7201a8"
             ],
             [
              0.3333333333333333,
              "#9c179e"
             ],
             [
              0.4444444444444444,
              "#bd3786"
             ],
             [
              0.5555555555555556,
              "#d8576b"
             ],
             [
              0.6666666666666666,
              "#ed7953"
             ],
             [
              0.7777777777777778,
              "#fb9f3a"
             ],
             [
              0.8888888888888888,
              "#fdca26"
             ],
             [
              1,
              "#f0f921"
             ]
            ],
            "type": "contour"
           }
          ],
          "contourcarpet": [
           {
            "colorbar": {
             "outlinewidth": 0,
             "ticks": ""
            },
            "type": "contourcarpet"
           }
          ],
          "heatmap": [
           {
            "colorbar": {
             "outlinewidth": 0,
             "ticks": ""
            },
            "colorscale": [
             [
              0,
              "#0d0887"
             ],
             [
              0.1111111111111111,
              "#46039f"
             ],
             [
              0.2222222222222222,
              "#7201a8"
             ],
             [
              0.3333333333333333,
              "#9c179e"
             ],
             [
              0.4444444444444444,
              "#bd3786"
             ],
             [
              0.5555555555555556,
              "#d8576b"
             ],
             [
              0.6666666666666666,
              "#ed7953"
             ],
             [
              0.7777777777777778,
              "#fb9f3a"
             ],
             [
              0.8888888888888888,
              "#fdca26"
             ],
             [
              1,
              "#f0f921"
             ]
            ],
            "type": "heatmap"
           }
          ],
          "heatmapgl": [
           {
            "colorbar": {
             "outlinewidth": 0,
             "ticks": ""
            },
            "colorscale": [
             [
              0,
              "#0d0887"
             ],
             [
              0.1111111111111111,
              "#46039f"
             ],
             [
              0.2222222222222222,
              "#7201a8"
             ],
             [
              0.3333333333333333,
              "#9c179e"
             ],
             [
              0.4444444444444444,
              "#bd3786"
             ],
             [
              0.5555555555555556,
              "#d8576b"
             ],
             [
              0.6666666666666666,
              "#ed7953"
             ],
             [
              0.7777777777777778,
              "#fb9f3a"
             ],
             [
              0.8888888888888888,
              "#fdca26"
             ],
             [
              1,
              "#f0f921"
             ]
            ],
            "type": "heatmapgl"
           }
          ],
          "histogram": [
           {
            "marker": {
             "colorbar": {
              "outlinewidth": 0,
              "ticks": ""
             }
            },
            "type": "histogram"
           }
          ],
          "histogram2d": [
           {
            "colorbar": {
             "outlinewidth": 0,
             "ticks": ""
            },
            "colorscale": [
             [
              0,
              "#0d0887"
             ],
             [
              0.1111111111111111,
              "#46039f"
             ],
             [
              0.2222222222222222,
              "#7201a8"
             ],
             [
              0.3333333333333333,
              "#9c179e"
             ],
             [
              0.4444444444444444,
              "#bd3786"
             ],
             [
              0.5555555555555556,
              "#d8576b"
             ],
             [
              0.6666666666666666,
              "#ed7953"
             ],
             [
              0.7777777777777778,
              "#fb9f3a"
             ],
             [
              0.8888888888888888,
              "#fdca26"
             ],
             [
              1,
              "#f0f921"
             ]
            ],
            "type": "histogram2d"
           }
          ],
          "histogram2dcontour": [
           {
            "colorbar": {
             "outlinewidth": 0,
             "ticks": ""
            },
            "colorscale": [
             [
              0,
              "#0d0887"
             ],
             [
              0.1111111111111111,
              "#46039f"
             ],
             [
              0.2222222222222222,
              "#7201a8"
             ],
             [
              0.3333333333333333,
              "#9c179e"
             ],
             [
              0.4444444444444444,
              "#bd3786"
             ],
             [
              0.5555555555555556,
              "#d8576b"
             ],
             [
              0.6666666666666666,
              "#ed7953"
             ],
             [
              0.7777777777777778,
              "#fb9f3a"
             ],
             [
              0.8888888888888888,
              "#fdca26"
             ],
             [
              1,
              "#f0f921"
             ]
            ],
            "type": "histogram2dcontour"
           }
          ],
          "mesh3d": [
           {
            "colorbar": {
             "outlinewidth": 0,
             "ticks": ""
            },
            "type": "mesh3d"
           }
          ],
          "parcoords": [
           {
            "line": {
             "colorbar": {
              "outlinewidth": 0,
              "ticks": ""
             }
            },
            "type": "parcoords"
           }
          ],
          "scatter": [
           {
            "marker": {
             "colorbar": {
              "outlinewidth": 0,
              "ticks": ""
             }
            },
            "type": "scatter"
           }
          ],
          "scatter3d": [
           {
            "line": {
             "colorbar": {
              "outlinewidth": 0,
              "ticks": ""
             }
            },
            "marker": {
             "colorbar": {
              "outlinewidth": 0,
              "ticks": ""
             }
            },
            "type": "scatter3d"
           }
          ],
          "scattercarpet": [
           {
            "marker": {
             "colorbar": {
              "outlinewidth": 0,
              "ticks": ""
             }
            },
            "type": "scattercarpet"
           }
          ],
          "scattergeo": [
           {
            "marker": {
             "colorbar": {
              "outlinewidth": 0,
              "ticks": ""
             }
            },
            "type": "scattergeo"
           }
          ],
          "scattergl": [
           {
            "marker": {
             "colorbar": {
              "outlinewidth": 0,
              "ticks": ""
             }
            },
            "type": "scattergl"
           }
          ],
          "scattermapbox": [
           {
            "marker": {
             "colorbar": {
              "outlinewidth": 0,
              "ticks": ""
             }
            },
            "type": "scattermapbox"
           }
          ],
          "scatterpolar": [
           {
            "marker": {
             "colorbar": {
              "outlinewidth": 0,
              "ticks": ""
             }
            },
            "type": "scatterpolar"
           }
          ],
          "scatterpolargl": [
           {
            "marker": {
             "colorbar": {
              "outlinewidth": 0,
              "ticks": ""
             }
            },
            "type": "scatterpolargl"
           }
          ],
          "scatterternary": [
           {
            "marker": {
             "colorbar": {
              "outlinewidth": 0,
              "ticks": ""
             }
            },
            "type": "scatterternary"
           }
          ],
          "surface": [
           {
            "colorbar": {
             "outlinewidth": 0,
             "ticks": ""
            },
            "colorscale": [
             [
              0,
              "#0d0887"
             ],
             [
              0.1111111111111111,
              "#46039f"
             ],
             [
              0.2222222222222222,
              "#7201a8"
             ],
             [
              0.3333333333333333,
              "#9c179e"
             ],
             [
              0.4444444444444444,
              "#bd3786"
             ],
             [
              0.5555555555555556,
              "#d8576b"
             ],
             [
              0.6666666666666666,
              "#ed7953"
             ],
             [
              0.7777777777777778,
              "#fb9f3a"
             ],
             [
              0.8888888888888888,
              "#fdca26"
             ],
             [
              1,
              "#f0f921"
             ]
            ],
            "type": "surface"
           }
          ],
          "table": [
           {
            "cells": {
             "fill": {
              "color": "#EBF0F8"
             },
             "line": {
              "color": "white"
             }
            },
            "header": {
             "fill": {
              "color": "#C8D4E3"
             },
             "line": {
              "color": "white"
             }
            },
            "type": "table"
           }
          ]
         },
         "layout": {
          "annotationdefaults": {
           "arrowcolor": "#2a3f5f",
           "arrowhead": 0,
           "arrowwidth": 1
          },
          "colorscale": {
           "diverging": [
            [
             0,
             "#8e0152"
            ],
            [
             0.1,
             "#c51b7d"
            ],
            [
             0.2,
             "#de77ae"
            ],
            [
             0.3,
             "#f1b6da"
            ],
            [
             0.4,
             "#fde0ef"
            ],
            [
             0.5,
             "#f7f7f7"
            ],
            [
             0.6,
             "#e6f5d0"
            ],
            [
             0.7,
             "#b8e186"
            ],
            [
             0.8,
             "#7fbc41"
            ],
            [
             0.9,
             "#4d9221"
            ],
            [
             1,
             "#276419"
            ]
           ],
           "sequential": [
            [
             0,
             "#0d0887"
            ],
            [
             0.1111111111111111,
             "#46039f"
            ],
            [
             0.2222222222222222,
             "#7201a8"
            ],
            [
             0.3333333333333333,
             "#9c179e"
            ],
            [
             0.4444444444444444,
             "#bd3786"
            ],
            [
             0.5555555555555556,
             "#d8576b"
            ],
            [
             0.6666666666666666,
             "#ed7953"
            ],
            [
             0.7777777777777778,
             "#fb9f3a"
            ],
            [
             0.8888888888888888,
             "#fdca26"
            ],
            [
             1,
             "#f0f921"
            ]
           ],
           "sequentialminus": [
            [
             0,
             "#0d0887"
            ],
            [
             0.1111111111111111,
             "#46039f"
            ],
            [
             0.2222222222222222,
             "#7201a8"
            ],
            [
             0.3333333333333333,
             "#9c179e"
            ],
            [
             0.4444444444444444,
             "#bd3786"
            ],
            [
             0.5555555555555556,
             "#d8576b"
            ],
            [
             0.6666666666666666,
             "#ed7953"
            ],
            [
             0.7777777777777778,
             "#fb9f3a"
            ],
            [
             0.8888888888888888,
             "#fdca26"
            ],
            [
             1,
             "#f0f921"
            ]
           ]
          },
          "colorway": [
           "#636efa",
           "#EF553B",
           "#00cc96",
           "#ab63fa",
           "#FFA15A",
           "#19d3f3",
           "#FF6692",
           "#B6E880",
           "#FF97FF",
           "#FECB52"
          ],
          "font": {
           "color": "#2a3f5f"
          },
          "geo": {
           "bgcolor": "white",
           "lakecolor": "white",
           "landcolor": "#E5ECF6",
           "showlakes": true,
           "showland": true,
           "subunitcolor": "white"
          },
          "hoverlabel": {
           "align": "left"
          },
          "hovermode": "closest",
          "mapbox": {
           "style": "light"
          },
          "paper_bgcolor": "white",
          "plot_bgcolor": "#E5ECF6",
          "polar": {
           "angularaxis": {
            "gridcolor": "white",
            "linecolor": "white",
            "ticks": ""
           },
           "bgcolor": "#E5ECF6",
           "radialaxis": {
            "gridcolor": "white",
            "linecolor": "white",
            "ticks": ""
           }
          },
          "scene": {
           "xaxis": {
            "backgroundcolor": "#E5ECF6",
            "gridcolor": "white",
            "gridwidth": 2,
            "linecolor": "white",
            "showbackground": true,
            "ticks": "",
            "zerolinecolor": "white"
           },
           "yaxis": {
            "backgroundcolor": "#E5ECF6",
            "gridcolor": "white",
            "gridwidth": 2,
            "linecolor": "white",
            "showbackground": true,
            "ticks": "",
            "zerolinecolor": "white"
           },
           "zaxis": {
            "backgroundcolor": "#E5ECF6",
            "gridcolor": "white",
            "gridwidth": 2,
            "linecolor": "white",
            "showbackground": true,
            "ticks": "",
            "zerolinecolor": "white"
           }
          },
          "shapedefaults": {
           "line": {
            "color": "#2a3f5f"
           }
          },
          "ternary": {
           "aaxis": {
            "gridcolor": "white",
            "linecolor": "white",
            "ticks": ""
           },
           "baxis": {
            "gridcolor": "white",
            "linecolor": "white",
            "ticks": ""
           },
           "bgcolor": "#E5ECF6",
           "caxis": {
            "gridcolor": "white",
            "linecolor": "white",
            "ticks": ""
           }
          },
          "title": {
           "x": 0.05
          },
          "xaxis": {
           "automargin": true,
           "gridcolor": "white",
           "linecolor": "white",
           "ticks": "",
           "zerolinecolor": "white",
           "zerolinewidth": 2
          },
          "yaxis": {
           "automargin": true,
           "gridcolor": "white",
           "linecolor": "white",
           "ticks": "",
           "zerolinecolor": "white",
           "zerolinewidth": 2
          }
         }
        }
       }
      },
      "text/html": [
       "<div>\n",
       "        \n",
       "        \n",
       "            <div id=\"e3f28df9-1160-4ee8-959a-203a51003fc0\" class=\"plotly-graph-div\" style=\"height:700px; width:100%;\"></div>\n",
       "            <script type=\"text/javascript\">\n",
       "                require([\"plotly\"], function(Plotly) {\n",
       "                    window.PLOTLYENV=window.PLOTLYENV || {};\n",
       "                    \n",
       "                if (document.getElementById(\"e3f28df9-1160-4ee8-959a-203a51003fc0\")) {\n",
       "                    Plotly.newPlot(\n",
       "                        'e3f28df9-1160-4ee8-959a-203a51003fc0',\n",
       "                        [{\"customdata\": [[\"mobile\"], [\"web\"], [\"software\"], [\"web\"], [\"web\"], [\"games_video\"], [\"ecommerce\"], [\"advertising\"], [\"games_video\"], [\"web\"], [\"web\"], [\"web\"], [\"other\"], [\"other\"], [\"search\"], [\"other\"], [\"software\"], [\"software\"], [\"games_video\"], [\"advertising\"], [\"other\"], [\"biotech\"], [\"ecommerce\"], [\"software\"], [\"other\"], [\"mobile\"], [\"software\"], [\"consulting\"], [\"software\"], [\"Starbucks\"], [\"Starbucks\"], [\"Starbucks\"], [\"Starbucks\"], [\"Starbucks\"], [\"Starbucks\"], [\"Starbucks\"], [\"Starbucks\"], [\"Starbucks\"], [\"Starbucks\"], [\"Starbucks\"], [\"Starbucks\"], [\"Starbucks\"], [\"Starbucks\"], [\"Starbucks\"], [\"Starbucks\"], [\"Starbucks\"], [\"Starbucks\"], [\"Starbucks\"], [\"Starbucks\"], [\"Starbucks\"], [\"Starbucks\"], [\"Starbucks\"], [\"Starbucks\"], [\"Starbucks\"], [\"Starbucks\"], [\"Starbucks\"], [\"Starbucks\"], [\"Starbucks\"], [\"Starbucks\"], [\"Starbucks\"], [\"Starbucks\"], [\"Starbucks\"], [\"Starbucks\"], [\"Starbucks\"], [\"Starbucks\"], [\"Starbucks\"], [\"Starbucks\"], [\"Starbucks\"], [\"Starbucks\"], [\"Starbucks\"], [\"Starbucks\"], [\"Starbucks\"], [\"Starbucks\"], [\"Starbucks\"], [\"Starbucks\"], [\"Starbucks\"], [\"Starbucks\"], [\"Starbucks\"], [\"University\"], [\"University\"], [\"University\"], [\"University\"], [\"University\"], [\"University\"], [\"University\"], [\"University\"], [\"University\"], [\"University\"], [\"University\"], [\"University\"], [\"University\"], [\"University\"], [\"University\"], [\"University\"], [\"University\"], [\"University\"], [\"University\"], [\"University\"], [\"University\"], [\"University\"], [\"University\"], [\"University\"], [\"University\"], [\"University\"], [\"University\"], [\"University\"], [\"University\"], [\"University\"], [\"University\"], [\"University\"], [\"University\"], [\"University\"], [\"University\"], [\"University\"], [\"University\"], [\"University\"], [\"University\"], [\"University\"], [\"University\"], [\"University\"], [\"University\"], [\"University\"], [\"University\"], [\"University\"], [\"University\"], [\"University\"], [\"University\"], [\"University\"], [\"Bar\"], [\"Bar\"], [\"Bar\"], [\"Bar\"], [\"Bar\"], [\"Bar\"], [\"Bar\"], [\"Bar\"], [\"Bar\"], [\"Bar\"], [\"Bar\"], [\"Bar\"], [\"Bar\"], [\"Bar\"], [\"Bar\"], [\"Bar\"], [\"Bar\"], [\"Bar\"], [\"Bar\"], [\"Bar\"], [\"Bar\"], [\"Bar\"], [\"Bar\"], [\"Bar\"], [\"Bar\"], [\"Bar\"], [\"Bar\"], [\"Bar\"], [\"Bar\"], [\"Bar\"], [\"Bar\"], [\"Bar\"], [\"Bar\"], [\"Bar\"], [\"Bar\"], [\"Bar\"], [\"Bar\"], [\"Bar\"], [\"Bar\"], [\"Bar\"], [\"Bar\"], [\"Bar\"], [\"Bar\"], [\"Bar\"], [\"Bar\"], [\"Bar\"], [\"Bar\"], [\"Bar\"], [\"Bar\"], [\"Bar\"], [\"Vegan\"], [\"Vegan\"], [\"Vegan\"], [\"Vegan\"], [\"Vegan\"], [\"Vegan\"], [\"Vegan\"], [\"Vegan\"], [\"Vegan\"], [\"Vegan\"], [\"Vegan\"], [\"Vegan\"], [\"Vegan\"], [\"Vegan\"], [\"Vegan\"], [\"Vegan\"], [\"Vegan\"], [\"Vegan\"], [\"Vegan\"], [\"Vegan\"], [\"Vegan\"], [\"Vegan\"], [\"Vegan\"], [\"Vegan\"], [\"Vegan\"], [\"Vegan\"], [\"Vegan\"], [\"Vegan\"], [\"Vegan\"], [\"Vegan\"], [\"Vegan\"], [\"Vegan\"], [\"Vegan\"], [\"Vegan\"], [\"Vegan\"], [\"Vegan\"], [\"Vegan\"], [\"Vegan\"], [\"Vegan\"], [\"Vegan\"], [\"Vegan\"], [\"Vegan\"], [\"Vegan\"], [\"Vegan\"], [\"Vegan\"], [\"Vegan\"], [\"Vegan\"], [\"Vegan\"], [\"Vegan\"], [\"Vegan\"], [\"Airport\"], [\"Airport\"], [\"Airport\"], [\"Airport\"], [\"Airport\"], [\"Airport\"], [\"Airport\"], [\"Airport\"], [\"Airport\"], [\"Airport\"], [\"Airport\"], [\"Airport\"], [\"Airport\"], [\"Airport\"], [\"Airport\"], [\"Airport\"], [\"Airport\"], [\"Airport\"], [\"Airport\"], [\"Airport\"], [\"Airport\"], [\"Airport\"], [\"Airport\"], [\"Airport\"], [\"Airport\"], [\"Airport\"], [\"Airport\"], [\"Airport\"], [\"Airport\"], [\"Airport\"], [\"Airport\"], [\"Airport\"], [\"Airport\"], [\"Airport\"], [\"Airport\"], [\"Airport\"], [\"Airport\"], [\"Airport\"], [\"Airport\"], [\"Airport\"], [\"Airport\"], [\"Airport\"], [\"Airport\"], [\"Airport\"], [\"Airport\"], [\"Airport\"], [\"Airport\"], [\"Airport\"], [\"Airport\"], [\"Airport\"], [\"Bus Station\"], [\"Bus Station\"], [\"Bus Station\"], [\"Bus Station\"], [\"Bus Station\"], [\"Bus Station\"], [\"Bus Station\"], [\"Bus Station\"], [\"Bus Station\"], [\"Bus Station\"], [\"Bus Station\"], [\"Bus Station\"], [\"Bus Station\"], [\"Bus Station\"], [\"Bus Station\"], [\"Bus Station\"], [\"Bus Station\"], [\"Bus Station\"], [\"Bus Station\"], [\"Bus Station\"], [\"Bus Station\"], [\"Bus Station\"], [\"Bus Station\"], [\"Bus Station\"], [\"Bus Station\"], [\"Bus Station\"], [\"Bus Station\"], [\"Bus Station\"], [\"Bus Station\"], [\"Bus Station\"], [\"Bus Station\"], [\"Bus Station\"], [\"Bus Station\"], [\"Bus Station\"], [\"Bus Station\"], [\"Bus Station\"], [\"Bus Station\"], [\"Bus Station\"], [\"Bus Station\"], [\"Bus Station\"], [\"Bus Station\"], [\"Bus Station\"], [\"Bus Station\"], [\"Bus Station\"], [\"Bus Station\"], [\"Bus Station\"], [\"Bus Station\"], [\"Bus Station\"], [\"Bus Station\"], [\"Bus Station\"], [\"Museum\"], [\"Museum\"], [\"Museum\"], [\"Museum\"], [\"Museum\"], [\"Museum\"], [\"Museum\"], [\"Museum\"], [\"Museum\"], [\"Museum\"], [\"Museum\"], [\"Museum\"], [\"Museum\"], [\"Museum\"], [\"Museum\"], [\"Museum\"], [\"Museum\"], [\"Museum\"], [\"Museum\"], [\"Museum\"], [\"Museum\"], [\"Museum\"], [\"Museum\"], [\"Museum\"], [\"Museum\"], [\"Museum\"], [\"Museum\"], [\"Museum\"], [\"Museum\"], [\"Museum\"], [\"Museum\"], [\"Museum\"], [\"Museum\"], [\"Museum\"], [\"Museum\"], [\"Museum\"], [\"Museum\"], [\"Museum\"], [\"Museum\"], [\"Museum\"], [\"Museum\"], [\"Museum\"], [\"Museum\"], [\"Museum\"], [\"Museum\"], [\"Museum\"], [\"Museum\"], [\"76ers\"], [\"76ers\"], [\"76ers\"], [\"76ers\"], [\"76ers\"], [\"76ers\"], [\"76ers\"], [\"76ers\"], [\"76ers\"], [\"76ers\"], [\"76ers\"], [\"76ers\"], [\"76ers\"], [\"76ers\"], [\"76ers\"], [\"76ers\"], [\"76ers\"], [\"76ers\"], [\"76ers\"], [\"76ers\"], [\"76ers\"], [\"CENTER\"]], \"hoverlabel\": {\"namelength\": 0}, \"hovertemplate\": \"<b>%{hovertext}</b><br><br>category=%{customdata[0]}<br>lat=%{lat}<br>long=%{lon}\", \"hovertext\": [\"Styky\", \"myfirstpaycheck\", \"Vuzit\", \"Popularo\", \"PayLoadz\", \"Comcast\", \"TicketLeap\", \"The Ad Database\", \"Sport Interactiva\", \"Anthillz\", \"The Impartial Observer\", \"The Impartial Observer\", \"Givology\", \"Alpha Channel Media\", \"MyNetResearch\", \"MacArthur Associates\", \"RJMetrics\", \"iugo\", \"Sports Reference\", \"Heavy Bubble\", \"Workbridge Associates\", \"ChronoWake\", \"Snipi\", \"Azavea\", \"Ennovance Capital\", \"Alkali Media\", \"Onthegig\", \"greenstar media labs\", \"HxTechnologies\", \"Starbucks\", \"Starbucks\", \"Starbucks\", \"Starbucks\", \"Starbucks\", \"Starbucks\", \"Starbucks\", \"Starbucks\", \"Starbucks\", \"Starbucks\", \"Starbucks\", \"Starbucks\", \"Starbucks\", \"Starbucks\", \"Starbucks\", \"Starbucks\", \"Starbucks\", \"Starbucks\", \"Starbucks\", \"Starbucks\", \"Starbucks\", \"Starbucks\", \"Starbucks\", \"Starbucks\", \"Starbucks\", \"Starbucks\", \"Starbucks\", \"Starbucks\", \"Starbucks\", \"Starbucks\", \"Starbucks\", \"Starbucks\", \"Starbucks\", \"Starbucks\", \"Starbucks\", \"Starbucks\", \"Starbucks\", \"Starbucks\", \"Starbucks\", \"Starbucks\", \"Starbucks\", \"Starbucks\", \"Coffee Express- Starbucks\", \"Starbucks\", \"Starbucks\", \"Starbucks\", \"Starbucks\", \"Starbucks\", \"Starbucks\", \"University of Pennsylvania\", \"UPenn HIV Prevention Research Division\", \"Drexel University\", \"Temple University\", \"Hamilton Hall - University of the Arts\", \"Temple University - Center City\", \"1401 Walnut Studios\", \"DeVry University Philadelphia  Campus\", \"Thomas Jefferson University\", \"Eastern university\", \"University of the Arts\", \"TJU: Alumni Hall\", \"Thomas Jefferson University - Health Services\", \"Thomas Jefferson, Edison Building\", \"thomas jefferson university hospital Dept. Of Ultrasounds And Radiology\", \"Harrisburg University - Philadelphia\", \"Scratch DJ Academy\", \"The Art Institute Of Philadelphia\", \"Drexel University School of Biomedical Engineering, Science and Health Systems\", \"Rutgers University\", \"Drexel University Police\", \"Paul Peck Alumni Center\", \"Penn Museum Native American History\", \"Drexel PD\", \"The Fishbowl\", \"University of Pennsylvania Archives and Record Center\", \"Grey Gables\", \"The office\", \"Office of University Communications\", \"Drexel University Boathouse\", \"Penn Office of International Programs\", \"School of Social Policy & Practice\", \"Girard College\", \"The Wharton School\", \"Wharton UI Conf\", \"Wharton Welcome\", \"Stouffer Commons\", \"Saint Leonard's Court\", \"Rutgers-Camden Community Park\", \"The Liacouras Center First Aid Room (Temple University)\", \"Rutgers University - Camden\", \"University of Pennsylvania School of Education\", \"Drexel University College of Engineering\", \"CURF\", \"Technology Center Lounge Hall\", \"Media Services - Samuel Paley Library\", \"Temple Made Live\", \"Montgomery Parking Garage\", \"Residential Life\", \"Temple's Stomping Ground\", \"American Sardine Bar\", \"Tattooed Mom\", \"Sassafras\", \"Fountain Porter\", \"Graffiti Bar\", \"Bottle Bar East\", \"Johnny Brenda's\", \"Double Knot\", \"McGillin's Olde Ale House\", \"Good Dog Bar & Restaurant\", \"Strangelove's\", \"Wrap Shack on The Square\", \"Monk's Cafe\", \"Ocean Prime\", \"The Bishop's Collar\", \"12 Steps Down\", \"Devil's Alley\", \"Maggiano's Little Italy\", \"Beer Love\", \"The Twisted Tail\", \"Tavern On Camac\", \"National Mechanics\", \"Race Street Cafe\", \"Triangle Tavern\", \"Jerry's Bar\", \"Ranstead Room\", \"Barcade\", \"Garage\", \"The Druid's Keep\", \"Kraftwork\", \"The Sidecar Bar & Grille\", \"Hale & True\", \"New Wave Cafe\", \"Royal Tavern\", \"The International\", \"Tavern 222\", \"Martha\", \"Finn McCools Ale House\", \"Kite & Key\", \"Saint Lazarus Bar\", \"Memphis Taproom\", \"Urban Saloon\", \"Moonshine Philly\", \"Lorraine\", \"Misconduct Tavern\", \"Rose Tattoo Cafe\", \"The Continental Mid-Town\", \"Savas Brick Oven Pizza & Bar\", \"Rogues Gallery Bar\", \"Moriarty's Restaurant & Irish Pub\", \"Vedge\", \"Charlie Was A Sinner\", \"HipCityVeg\", \"V Street\", \"Bar Bomb\\u00f3n\", \"Pure Sweets & Co.\", \"New Harmony Vegetarian\", \"Grindcore House\", \"HipCityVeg\", \"Mama's Vegetarian\", \"The Tasty\", \"Vegan Tree\", \"Goldie\", \"Su Xing House\", \"Benna's Cafe\", \"Sazon Restaurant & Cafe\", \"Miss Rachel's Pantry\", \"Govinda's Gourmet Vegetarian\", \"Fuel\", \"HipCityVeg\", \"The Abbaye\", \"Royal Tavern\", \"Bimini Juice Bar\", \"Front Street Cafe\", \"Blackbird Pizzeria\", \"Strangelove's\", \"Magic Carpet Foods\", \"Green Line Cafe\", \"Memphis Taproom\", \"Magic Carpet Foods\", \"&pizza\", \"Triangle Tavern\", \"Essene Market & Cafe\", \"Green Eggs Cafe\", \"Cantina Los Caballitos\", \"One Shot Cafe\", \"Snap Kitchen\", \"Chapterhouse Cafe & Gallery\", \"Green Eggs Caf\\u00e9\", \"The Kettle Black\", \"Cantina Dos Segundos\", \"Joe\", \"The Pub on Passyunk East\", \"Le Pain Quotidien\", \"FARMiCiA\", \"Ed's Buffalo Wings & Pizza\", \"White Dog Cafe\", \"OCF Coffee House\", \"Sweet Freedom Bakery\", \"Satellite Cafe\", \"Philadelphia International Airport (PHL) (Philadelphia International Airport)\", \"Northeast Philadelphia Airport\", \"Terminal F\", \"PNC GIS\", \"Taxiway N\", \"Wings Field (Wings Field Airport)\", \"Terminal B\", \"Terminal D\", \"Gate F26\", \"Gate F20\", \"Airnet PHL\", \"Gate C30\", \"Philadelphia Prom Limo\", \"Dow Chemical Corporate Hanger\", \"Bensalem International Airport\", \"Concourse 3\", \"PHL Express Hangar Pad\", \"Concourse 2\", \"Terminal F Hangar\", \"Concourse 1\", \"UPS PHL Air Hub\", \"Terminal E\", \"JetBlue Airways Ticket Counter\", \"Terminals D/E Connector\", \"PHL Remote Aircraft Parking\", \"TSA Security Checkpoint A East\", \"Private Jet Terminal\", \"Known Crew Member Line\", \"Terminal C\", \"Terminals B/C Connector\", \"Terminal A/B Connector\", \"TSA Pre\\u2713\\u2122\", \"TSA Pre\\u2713\\u2122\", \"Terminal A East\", \"PHL Tarmac\", \"International Arrivals Hall\", \"Terminal A West\", \"PHL Hardstand\", \"FedEx\", \"Airplane\", \"United Airlines Flight 368\", \"United Airlines UA1544\", \"American Airlines Flight 412\", \"Delta DL6220 - PHL - RDU\", \"Delta DL1561 - PHL - ATL\", \"Delta Air Lines Flight 1494\", \"American Airlines Flight 1730\", \"American Airlines AA2374\", \"Aa#2523 Phl-Rdu\", \"American Airlines Flight 2842 (PHL-DCA)\", \"Greyhound: Bus Station\", \"SEPTA: Routes 38,44,62\", \"Focus Travel Agency\", \"Drexel Dragon Route CC Shuttle Stop\", \"Yo! Bus (NYC - PHILLY)\", \"SEPTA: 10th and Walnut St. Bus Stop\", \"SEPTA 17 At 19th And JFK\", \"Bus Stop 20th & Market\", \"Gotobus to NYC\", \"Bus Stop 7th & Market\", \"Megabus Stop\", \"Bus Stop 22nd & Chestnut\", \"Bus Stop 22nd & Walnut St\", \"SEPTA Suburban Station\", \"17th & Spring Garden 2 Bus Stop\", \"Bus Stop 23rd & Chestnut\", \"Megabus Stop\", \"SEPTA: Front & Market (Rts. 5, 17, 48)\", \"Megabus: Philly -> DC\", \"Bus Stop 23rd & Washington\", \"Drexel: Dragon Route Bus Stop\", \"34th & Walnut\", \"Penn Bus Stop - Food Court\", \"Bus Stop 26th and Brown\", \"Philadelphia Phlash\", \"SEPTA: Bus Stop (15th St & J F Kennedy Bl)\", \"15 BUS LOOP\", \"Septa 17th & JFK Bus Stop\", \"22nd & Snyder\", \"GoToBus\", \"Septa: Route 12\", \"Peter Pan Bus Line | Philadelphia - NYC\", \"Septa 12 Bus (Locust)\", \"SEPTA Route 23\", \"SEPTA: 19th and Walnut Bus Stop\", \"Bus Stop N 33rd Street & W Girard Ave\", \"SEPTA: Route 40\", \"SEPTA: Route 57\", \"33 Bus Stop\", \"Avenue of the Arts\", \"Septa Bus Route 47\", \"SEPTA - Bus Stop (Market St & 7th St)\", \"Septa: 42 Bus Stop\", \"Route 33 19th & Vine Sts\", \"SEPTA Bus Stop #22273\", \"8th & Race\", \"Septa Route 47 South\", \"Septa Route 40\", \"SEPTA: 32 Bus\", \"SEPTA: Broad and Christian Sts Bus Stop\", \"Pennsylvania Academy of the Fine Arts\", \"The Franklin Institute\", \"The Academy of Natural Sciences of Drexel University\", \"The Barnes Foundation\", \"Rosenbach Museum & Library\", \"Museum of the American Revolution\", \"Rodin Museum\", \"National Museum of American Jewish History\", \"Philadelphia Art Alliance\", \"Philadelphia Museum of Art\", \"M\\u00fctter Museum\", \"Independence Visitor Center\", \"Declaration House\", \"The Philadelphia Korean War Memorial At Penn's Landing\", \"National Constitution Center\", \"Benjamin Franklin Museum\", \"Independence National Historical Park Living History Center\", \"Perelman Building\", \"African American Museum\", \"Elfreth's Alley Museum\", \"University of Pennsylvania Museum of Archaeology and Anthropology\", \"Franklin Court Printing Office\", \"Cruiser USS Olympia\", \"Battleship New Jersey Museum & Memorial\", \"Center / Architecture + Design\", \"PhilaMOCA\", \"Historic Philadelphia Center\", \"Independence Seaport Museum\", \"Independence National Park - Liberty Theater\", \"Institute of Contemporary Art\", \"Franklin Court\", \"Please Touch Museum\", \"National Liberty Museum\", \"Old City Hall\", \"Second Bank of the United States\", \"Shofuso Japanese House and Garden\", \"Carpenters' Hall\", \"Fels Planetarium\", \"Athenaeum of Philadelphia\", \"Powel House\", \"Belmont Historical Mansion\", \"Simeone Foundation Automotive Museum\", \"Fireman's Hall Museum\", \"Wagner Free Institute of Science\", \"Historic Strawberry Mansion\", \"American Swedish Historical Museum\", \"Fort Mifflin\", \"Wells Fargo Center\", \"Larry's Steaks\", \"Citizens Bank Park\", \"SEPTA BSL NRG Station\", \"Vine Street Expressway Interchange\", \"I-95 / I-676 / US-30 Interchange\", \"Interstate 76 at Exit 346A\", \"Interstate 76 at Exit 345\", \"Interstate 76 at Exit 343\", \"Soup'er Sushi\", \"Interstate 76 at Exit 346B\", \"Philadelphia 76ers Training Complex\", \"Interstate 76 at Exit 342\", \"Interstate 76 at Exit 349\", \"Interstate 76 at Exit 348\", \"Interstate 76 at Exit 351\", \"Interstate 76 at Exit 341\", \"Interstate 76 at Exit 340B\", \"Interstate 76 at Exit 339\", \"Interstate 76 at Exit 340A\", \"Interstate 76 at Exit 338\", \"CENTER\"], \"lat\": [39.956259, 39.952229, 39.9564403, 39.951639, 40.738832, 39.9525762, 39.9512991, 39.964046, 39.951053, 39.95644, 39.951639, 39.951639, 39.952332, 39.950709, 39.951639, 39.9528012, 39.9443552, 40.032121, 40.0450165, 39.949433, 39.9528012, 39.9511019, 39.9502045, 39.9587169, 40.2090785, 39.951639, 39.9493801, 39.951639, 39.9587169, 39.95335453, 39.95255804, 39.949024, 39.9520049587, 39.947777, 39.9539796533, 39.954727, 39.9501180611, 39.9545823465, 39.94566439, 39.94252, 39.95342, 39.95202943, 39.9491534, 39.953074, 39.9496551668, 39.9609038026, 39.947884, 39.9476235638, 39.938292, 39.960042, 40.0025999983, 39.954762, 39.966877, 39.92252073, 39.9453415568, 39.9239102581, 39.953064, 39.96869, 40.0051217292, 40.0065181099, 40.0321065278, 39.94786, 39.9524451841, 39.948001, 39.9520135282, 39.8920445503, 39.9569600581, 39.9963377492, 39.9468365289, 40.004383, 39.95083467, 39.962028, 39.95482252, 39.9500094051, 39.979696, 39.9550813901, 40.0377002, 39.9911710376, 39.9520563157, 39.9564484746, 39.955317115, 39.980393517, 39.9459925671, 39.9529737288, 39.9492471409, 39.9543103069, 39.948261532000004, 39.954281, 39.9460222, 39.9472936793, 39.9500687592, 39.9487269515, 39.9481773376, 39.962114, 39.948465, 39.9647764914, 39.9550006352, 39.948536125, 39.9577275003, 39.954793292, 39.9524371391, 39.9585938, 39.951720946500004, 39.9524276578, 39.9611613605, 39.9484704064, 39.95424, 39.9692797902, 39.9550739924, 39.9525964339, 39.9768290903, 39.9530128741, 39.953336875, 39.9530896009, 39.9507114323, 39.9556104694, 39.9507732765, 39.9802316, 39.947798378, 39.9534444028, 39.9593154518, 39.953614, 39.9805030823, 39.9811654681, 39.9814109802, 39.980891, 39.9818682508, 39.9813938055, 39.9366636489, 39.941868884, 39.9487428595, 39.9295894226, 39.9496129899, 39.970517693, 39.9689906115, 39.9496993, 39.9502234083, 39.948764738, 39.9480487841, 39.9510845831, 39.9476814945, 39.9501062, 39.9674348097, 39.938963031, 39.9520528944, 39.952921608, 39.940195352, 39.9418679209, 39.9472949212, 39.9494619312, 39.9538232161, 39.9322027772, 39.9651010942, 39.9526156357, 39.9675526484, 39.933507413, 39.9628465126, 39.9714910361, 39.9417258325, 39.9417155598, 39.938004107, 39.937095447, 39.9751989218, 39.9412968708, 39.9822373544, 39.9496975468, 39.9605345881, 39.968792, 39.9803417641, 39.9671763173, 39.9249612259, 39.9680802335, 39.9485216609, 39.9607508916, 39.9518630389, 39.9581647745, 39.953119, 39.9487852764, 39.94791088, 39.949493, 39.9508041191, 39.9509711415, 39.9506648833, 39.948766, 39.9544778537, 39.9290578394, 39.9503434041, 39.9526430594, 39.9322951539, 39.942416195, 39.9630025805, 39.950455867, 39.9329035269, 39.9617045254, 39.926458047, 39.9437010891, 39.9491065985, 39.9535477713, 39.962286291, 39.937095447, 39.9631367252, 39.9702436095, 39.9613750865, 39.9480487841, 39.9519969854, 39.9496602483, 39.9803417641, 39.9508545792, 39.9541463, 39.9322027772, 39.9400445798, 39.9624091392, 39.9289237431, 39.967631, 39.9501681538, 39.9418281556, 39.9482297066, 39.9616580943, 39.9648704957, 39.9501850301, 39.9309727708, 39.9496177, 39.9497223524, 39.9581387998, 39.9535481, 39.9672901212, 39.9437825769, 39.9478379347, 39.8756427788, 40.0760458949, 39.8804691612, 39.876204, 39.8615643008, 40.1356111299, 39.8758798725, 39.8768483632, 39.8814773873, 39.8801145994, 39.8861586379, 39.8745587931, 39.988760777, 39.8830549482, 40.1065734714, 39.8820051236, 39.8821374276, 39.8789655579, 39.8813363606, 39.8800440148, 39.8595040342, 39.8785553427, 39.8781607852, 39.8778637366, 39.8747013266, 39.8755568846, 39.8753196875, 39.8762156534, 39.875839308, 39.876080448, 39.876614000000004, 39.8759917251, 39.8757783031, 39.875360723, 39.873489, 39.8760585421, 39.8748924681, 39.871633, 39.8710642895, 39.8791, 39.875737, 39.876961, 39.876767, 39.87567, 39.875357, 39.8749037656, 39.87494, 39.875482, 39.875534, 39.87423, 39.9528863729, 39.9521221119, 39.9531456039, 39.9565278927, 39.9530462114, 39.9484460378, 39.9536526003, 39.9538914927, 39.954967, 39.9510646626, 39.9507973655, 39.9526092746, 39.9508773905, 39.9538494141, 39.9629835823, 39.9542501827, 39.9561974311, 39.9504110661, 39.9561872098, 39.9396450832, 39.9554213123, 39.95278, 39.9527369513, 39.9703572306, 39.9532735358, 39.9536, 39.964664027, 39.9540041987, 39.9272717892, 39.9527505049, 39.9489082269, 39.95301, 39.9483150588, 39.9567472313, 39.9502172903, 39.9748042493, 39.9448952651, 39.9337484066, 39.9511576796, 39.9436338754, 39.9479755796, 39.951131314, 39.9524047403, 39.9591948993, 39.945652, 39.955234065, 39.9426004929, 39.9433447901, 39.9608083522, 39.9398384245, 39.9554646106, 39.9582089943, 39.9566517921, 39.9605874046, 39.9474078073, 39.9483934457, 39.9619239242, 39.9505595363, 39.9482803141, 39.9658499286, 39.9532581732, 39.9510693646, 39.9507754893, 39.9449477575, 39.9534364957, 39.9499926752, 39.9482357091, 39.9675349044, 39.9531869591, 39.9527690685, 39.9495249528, 39.9501019855, 39.9436015643, 39.9399617583, 39.9540366868, 39.9622121773, 39.9492730358, 39.9461024778, 39.9509282279, 39.9539077879, 39.9495717678, 39.9793743782, 39.948776186, 39.9489111767, 39.9489734308, 39.9814464206, 39.9482987287, 39.9588687962, 39.9469744856, 39.9457588416, 39.9908544917, 39.9106571956, 39.9533070333, 39.980917303, 39.9945052113, 39.9060758788, 39.876340532, 39.901122, 39.9957470165, 39.9057356615, 39.9051421774, 39.9606915303, 39.9566413392, 39.9474709848, 39.9627638195, 39.9640312155, 39.9477656542, 39.9431238896, 39.9424000324, 39.9752137072, 39.9123614329, 39.9132666504, 39.9105427325, 39.9867118819, 40.0052154707, 40.0100722171, 40.0102016435, 40.0253140754, 39.951639], \"legendgroup\": \"\", \"lon\": [-75.194657, -75.162644, -75.1961715, -75.163808, -73.981534, -75.1652518, -75.179869, -75.197184, -75.197465, -75.196171, -75.163808, -75.163808, -75.197624, -75.168954, -75.163808, -75.1668626, -75.1257381, -75.191867, -75.19373, -75.168399, -75.1668626, -75.197882, -75.1618758, -75.1583802, -75.2309109, -75.163808, -75.145782, -75.163808, -75.1583802, -75.1730728, -75.16666122, -75.160645, -75.1718899673, -75.16649, -75.200400585, -75.16665, -75.1570663916, -75.16856563, -75.16488924, -75.15721, -75.17018, -75.14514464, -75.16461682, -75.149703, -75.1674922098, -75.1715782306, -75.17129, -75.1933907288, -75.166814, -75.148165, -75.2226349711, -75.163129, -75.140192, -75.16985776, -75.1786466562, -75.1459100978, -75.19222, -75.13906, -75.2399577405, -75.2122712163, -75.214051973, -75.15401, -75.1996816001, -75.122455, -75.1606659276, -75.2419781956, -75.1912999, -75.234608498, -75.2068675922, -75.15253, -75.1619685, -75.165799, -75.18583604, -75.1930365007, -75.155255, -75.1880844344, -75.1528928, -75.089618272, -75.1950645447, -75.1939255277, -75.1892356044, -75.1562396449, -75.1657679672, -75.1655896901, -75.164250832, -75.1698233231, -75.1583088646, -75.170211, -75.165408, -75.1584523877, -75.1553161827, -75.1559395492, -75.1550674438, -75.164744, -75.144481, -75.1789026708, -75.1864171028, -75.1217651367, -75.1880157708, -75.1890706791, -75.1902614514, -75.1886968, -75.1911346996, -75.1918515009, -75.1897459306, -75.1930824959, -75.194947, -75.186551273, -75.1968723039, -75.1974763851, -75.17343294450001, -75.1980690663, -75.198098, -75.1985021781, -75.1992440578, -75.1995962036, -75.1262283325, -75.1572315057, -75.125779638, -75.2022120729, -75.2012085917, -75.202595, -75.1534500122, -75.1560116301, -75.1548690796, -75.151736, -75.1560045112, -75.149549451, -75.1735881487, -75.1518803404, -75.1440382227, -75.1614243728, -75.1620921052, -75.1346257396, -75.1342500814, -75.1621725, -75.1625793221, -75.1661234947, -75.1591726671, -75.1704494662, -75.1680031888, -75.1659276, -75.1769741492, -75.1577610076, -75.1721660097, -75.1600682678, -75.1495488733, -75.1453634252, -75.1616352765, -75.1458702625, -75.1433255092, -75.1610801566, -75.1389069738, -75.173657982, -75.1345930292, -75.1588867274, -75.1400246134, -75.1273456494, -75.1793967413, -75.1539682235, -75.1484431931, -75.1547042387, -75.1343002813, -75.1465173505, -75.1281157427, -75.1605067943, -75.1696306774, -75.13639, -75.1231858708, -75.1729256536, -75.1518159171, -75.1622452254, -75.1665450222, -75.1698814857, -75.1704606414, -75.1928543729, -75.175125, -75.159854873, -75.1614956386, -75.16179, -75.1703748107, -75.1721449241, -75.1705641854, -75.169628, -75.1544061489, -75.1519433615, -75.1640457767, -75.1733892784, -75.1641064838, -75.1552906963, -75.1742946712, -75.1662802432, -75.1575866458, -75.154435486, -75.1736646983, -75.165754139, -75.1617220706, -75.2026360925, -75.1429944628, -75.1547042387, -75.1407994161, -75.1355695524, -75.1413818536, -75.1591726671, -75.1913670789, -75.2092000666, -75.1231858708, -75.1954874674, -75.2014479, -75.1610801566, -75.1494391284, -75.1410025082, -75.1646096319, -75.1407, -75.1452579865, -75.1573325427, -75.1622783933, -75.1412353828, -75.140511198, -75.1713527045, -75.1621132039, -75.1652505, -75.1457441537, -75.1930970076, -75.1929486, -75.1724654019, -75.1664188069, -75.222711175, -75.2419326176, -75.0067796873, -75.2374954745, -75.265931, -75.2473492313, -75.2647590637, -75.243681661, -75.2398303211, -75.2372457051, -75.2361667464, -75.2128568732, -75.2411011929, -75.1371610165, -75.2233072175, -74.9551118082, -75.237124071, -75.2393574429, -75.2353236764, -75.239477087, -75.2388275898, -75.250142126, -75.2392244339, -75.238895958, -75.2397608757, -75.2345431191, -75.2471797355, -75.2406906139, -75.2422399299, -75.2418870397, -75.2430425963, -75.244156, -75.2438983138, -75.246894836, -75.2469062805, -75.24457, -75.2486981384, -75.2497091579, -75.256065, -75.2664573039, -75.23998, -75.237548, -75.239804, -75.239947, -75.238451, -75.238178, -75.2381837872, -75.241748, -75.243935, -75.244223, -75.24319, -75.1569795811, -75.1615047455, -75.1579472674, -75.1645594039, -75.1572169234, -75.1571652732, -75.171390491, -75.1732121421, -75.15293, -75.1520897228, -75.1508276031, -75.1770902051, -75.1773637862, -75.1672529237, -75.1663747103, -75.1785549982, -75.1849213188, -75.1427127254, -75.1851202277, -75.1816327289, -75.187588536, -75.19206, -75.1924726987, -75.1796770681, -75.1644659042, -75.164519, -75.1341491722, -75.1681609411, -75.1803287748, -75.1580694522, -75.169471045, -75.157139, -75.169452541, -75.1610848825, -75.171692581, -75.187723238, -75.1668043726, -75.1492907437, -75.1533438317, -75.1656246185, -75.1540905918, -75.1526711745, -75.1755978003, -75.1703873199, -75.173085, -75.151873103, -75.1585368762, -75.155122369, -75.1735564068, -75.1661294712, -75.16314124, -75.1731368177, -75.171556671, -75.1726061064, -75.1750217471, -75.1460217094, -75.1739498636, -75.1484723227, -75.1708985521, -75.1805726284, -75.17665662900001, -75.1500892639, -75.1520489667, -75.1434632648, -75.1493420493, -75.1465347767, -75.1478256778, -75.179443995, -75.1518093415, -75.1424722813, -75.1914183707, -75.1466233772, -75.1412925067, -75.1323589958, -75.1604711056, -75.1576205988, -75.1504935697, -75.1401963873, -75.150250385, -75.1948646181, -75.1466519967, -75.2093289939, -75.1470854562, -75.1492739826, -75.1484223846, -75.2128754605, -75.1471655904, -75.173269397, -75.1513414949, -75.1470185806, -75.2133665317, -75.226187771, -75.1429798144, -75.1627408658, -75.190289947, -75.1810570838, -75.2115762234, -75.171872, -75.2340249928, -75.1666139711, -75.1732149961, -75.1818037033, -75.1422947645, -75.18766433, -75.1836705208, -75.1845080405, -75.1930312046, -75.1929402351, -75.1282721758, -75.1945093274, -75.1724454761, -75.1819378138, -75.1580071449, -75.2079404891, -75.1950645447, -75.2078720927, -75.2076897025, -75.2289140224, -75.163808], \"marker\": {\"color\": \"blue\"}, \"mode\": \"markers\", \"name\": \"\", \"showlegend\": false, \"subplot\": \"mapbox\", \"type\": \"scattermapbox\"}],\n",
       "                        {\"height\": 700, \"legend\": {\"tracegroupgap\": 0}, \"mapbox\": {\"center\": {\"lat\": 39.94941982449748, \"lon\": -75.17311863152166}, \"domain\": {\"x\": [0.0, 0.98], \"y\": [0.0, 1.0]}, \"style\": \"open-street-map\", \"zoom\": 12}, \"margin\": {\"b\": 0, \"l\": 0, \"r\": 0, \"t\": 0}, \"template\": {\"data\": {\"bar\": [{\"error_x\": {\"color\": \"#2a3f5f\"}, \"error_y\": {\"color\": \"#2a3f5f\"}, \"marker\": {\"line\": {\"color\": \"#E5ECF6\", \"width\": 0.5}}, \"type\": \"bar\"}], \"barpolar\": [{\"marker\": {\"line\": {\"color\": \"#E5ECF6\", \"width\": 0.5}}, \"type\": \"barpolar\"}], \"carpet\": [{\"aaxis\": {\"endlinecolor\": \"#2a3f5f\", \"gridcolor\": \"white\", \"linecolor\": \"white\", \"minorgridcolor\": \"white\", \"startlinecolor\": \"#2a3f5f\"}, \"baxis\": {\"endlinecolor\": \"#2a3f5f\", \"gridcolor\": \"white\", \"linecolor\": \"white\", \"minorgridcolor\": \"white\", \"startlinecolor\": \"#2a3f5f\"}, \"type\": \"carpet\"}], \"choropleth\": [{\"colorbar\": {\"outlinewidth\": 0, \"ticks\": \"\"}, \"type\": \"choropleth\"}], \"contour\": [{\"colorbar\": {\"outlinewidth\": 0, \"ticks\": \"\"}, \"colorscale\": [[0.0, \"#0d0887\"], [0.1111111111111111, \"#46039f\"], [0.2222222222222222, \"#7201a8\"], [0.3333333333333333, \"#9c179e\"], [0.4444444444444444, \"#bd3786\"], [0.5555555555555556, \"#d8576b\"], [0.6666666666666666, \"#ed7953\"], [0.7777777777777778, \"#fb9f3a\"], [0.8888888888888888, \"#fdca26\"], [1.0, \"#f0f921\"]], \"type\": \"contour\"}], \"contourcarpet\": [{\"colorbar\": {\"outlinewidth\": 0, \"ticks\": \"\"}, \"type\": \"contourcarpet\"}], \"heatmap\": [{\"colorbar\": {\"outlinewidth\": 0, \"ticks\": \"\"}, \"colorscale\": [[0.0, \"#0d0887\"], [0.1111111111111111, \"#46039f\"], [0.2222222222222222, \"#7201a8\"], [0.3333333333333333, \"#9c179e\"], [0.4444444444444444, \"#bd3786\"], [0.5555555555555556, \"#d8576b\"], [0.6666666666666666, \"#ed7953\"], [0.7777777777777778, \"#fb9f3a\"], [0.8888888888888888, \"#fdca26\"], [1.0, \"#f0f921\"]], \"type\": \"heatmap\"}], \"heatmapgl\": [{\"colorbar\": {\"outlinewidth\": 0, \"ticks\": \"\"}, \"colorscale\": [[0.0, \"#0d0887\"], [0.1111111111111111, \"#46039f\"], [0.2222222222222222, \"#7201a8\"], [0.3333333333333333, \"#9c179e\"], [0.4444444444444444, \"#bd3786\"], [0.5555555555555556, \"#d8576b\"], [0.6666666666666666, \"#ed7953\"], [0.7777777777777778, \"#fb9f3a\"], [0.8888888888888888, \"#fdca26\"], [1.0, \"#f0f921\"]], \"type\": \"heatmapgl\"}], \"histogram\": [{\"marker\": {\"colorbar\": {\"outlinewidth\": 0, \"ticks\": \"\"}}, \"type\": \"histogram\"}], \"histogram2d\": [{\"colorbar\": {\"outlinewidth\": 0, \"ticks\": \"\"}, \"colorscale\": [[0.0, \"#0d0887\"], [0.1111111111111111, \"#46039f\"], [0.2222222222222222, \"#7201a8\"], [0.3333333333333333, \"#9c179e\"], [0.4444444444444444, \"#bd3786\"], [0.5555555555555556, \"#d8576b\"], [0.6666666666666666, \"#ed7953\"], [0.7777777777777778, \"#fb9f3a\"], [0.8888888888888888, \"#fdca26\"], [1.0, \"#f0f921\"]], \"type\": \"histogram2d\"}], \"histogram2dcontour\": [{\"colorbar\": {\"outlinewidth\": 0, \"ticks\": \"\"}, \"colorscale\": [[0.0, \"#0d0887\"], [0.1111111111111111, \"#46039f\"], [0.2222222222222222, \"#7201a8\"], [0.3333333333333333, \"#9c179e\"], [0.4444444444444444, \"#bd3786\"], [0.5555555555555556, \"#d8576b\"], [0.6666666666666666, \"#ed7953\"], [0.7777777777777778, \"#fb9f3a\"], [0.8888888888888888, \"#fdca26\"], [1.0, \"#f0f921\"]], \"type\": \"histogram2dcontour\"}], \"mesh3d\": [{\"colorbar\": {\"outlinewidth\": 0, \"ticks\": \"\"}, \"type\": \"mesh3d\"}], \"parcoords\": [{\"line\": {\"colorbar\": {\"outlinewidth\": 0, \"ticks\": \"\"}}, \"type\": \"parcoords\"}], \"scatter\": [{\"marker\": {\"colorbar\": {\"outlinewidth\": 0, \"ticks\": \"\"}}, \"type\": \"scatter\"}], \"scatter3d\": [{\"line\": {\"colorbar\": {\"outlinewidth\": 0, \"ticks\": \"\"}}, \"marker\": {\"colorbar\": {\"outlinewidth\": 0, \"ticks\": \"\"}}, \"type\": \"scatter3d\"}], \"scattercarpet\": [{\"marker\": {\"colorbar\": {\"outlinewidth\": 0, \"ticks\": \"\"}}, \"type\": \"scattercarpet\"}], \"scattergeo\": [{\"marker\": {\"colorbar\": {\"outlinewidth\": 0, \"ticks\": \"\"}}, \"type\": \"scattergeo\"}], \"scattergl\": [{\"marker\": {\"colorbar\": {\"outlinewidth\": 0, \"ticks\": \"\"}}, \"type\": \"scattergl\"}], \"scattermapbox\": [{\"marker\": {\"colorbar\": {\"outlinewidth\": 0, \"ticks\": \"\"}}, \"type\": \"scattermapbox\"}], \"scatterpolar\": [{\"marker\": {\"colorbar\": {\"outlinewidth\": 0, \"ticks\": \"\"}}, \"type\": \"scatterpolar\"}], \"scatterpolargl\": [{\"marker\": {\"colorbar\": {\"outlinewidth\": 0, \"ticks\": \"\"}}, \"type\": \"scatterpolargl\"}], \"scatterternary\": [{\"marker\": {\"colorbar\": {\"outlinewidth\": 0, \"ticks\": \"\"}}, \"type\": \"scatterternary\"}], \"surface\": [{\"colorbar\": {\"outlinewidth\": 0, \"ticks\": \"\"}, \"colorscale\": [[0.0, \"#0d0887\"], [0.1111111111111111, \"#46039f\"], [0.2222222222222222, \"#7201a8\"], [0.3333333333333333, \"#9c179e\"], [0.4444444444444444, \"#bd3786\"], [0.5555555555555556, \"#d8576b\"], [0.6666666666666666, \"#ed7953\"], [0.7777777777777778, \"#fb9f3a\"], [0.8888888888888888, \"#fdca26\"], [1.0, \"#f0f921\"]], \"type\": \"surface\"}], \"table\": [{\"cells\": {\"fill\": {\"color\": \"#EBF0F8\"}, \"line\": {\"color\": \"white\"}}, \"header\": {\"fill\": {\"color\": \"#C8D4E3\"}, \"line\": {\"color\": \"white\"}}, \"type\": \"table\"}]}, \"layout\": {\"annotationdefaults\": {\"arrowcolor\": \"#2a3f5f\", \"arrowhead\": 0, \"arrowwidth\": 1}, \"colorscale\": {\"diverging\": [[0, \"#8e0152\"], [0.1, \"#c51b7d\"], [0.2, \"#de77ae\"], [0.3, \"#f1b6da\"], [0.4, \"#fde0ef\"], [0.5, \"#f7f7f7\"], [0.6, \"#e6f5d0\"], [0.7, \"#b8e186\"], [0.8, \"#7fbc41\"], [0.9, \"#4d9221\"], [1, \"#276419\"]], \"sequential\": [[0.0, \"#0d0887\"], [0.1111111111111111, \"#46039f\"], [0.2222222222222222, \"#7201a8\"], [0.3333333333333333, \"#9c179e\"], [0.4444444444444444, \"#bd3786\"], [0.5555555555555556, \"#d8576b\"], [0.6666666666666666, \"#ed7953\"], [0.7777777777777778, \"#fb9f3a\"], [0.8888888888888888, \"#fdca26\"], [1.0, \"#f0f921\"]], \"sequentialminus\": [[0.0, \"#0d0887\"], [0.1111111111111111, \"#46039f\"], [0.2222222222222222, \"#7201a8\"], [0.3333333333333333, \"#9c179e\"], [0.4444444444444444, \"#bd3786\"], [0.5555555555555556, \"#d8576b\"], [0.6666666666666666, \"#ed7953\"], [0.7777777777777778, \"#fb9f3a\"], [0.8888888888888888, \"#fdca26\"], [1.0, \"#f0f921\"]]}, \"colorway\": [\"#636efa\", \"#EF553B\", \"#00cc96\", \"#ab63fa\", \"#FFA15A\", \"#19d3f3\", \"#FF6692\", \"#B6E880\", \"#FF97FF\", \"#FECB52\"], \"font\": {\"color\": \"#2a3f5f\"}, \"geo\": {\"bgcolor\": \"white\", \"lakecolor\": \"white\", \"landcolor\": \"#E5ECF6\", \"showlakes\": true, \"showland\": true, \"subunitcolor\": \"white\"}, \"hoverlabel\": {\"align\": \"left\"}, \"hovermode\": \"closest\", \"mapbox\": {\"style\": \"light\"}, \"paper_bgcolor\": \"white\", \"plot_bgcolor\": \"#E5ECF6\", \"polar\": {\"angularaxis\": {\"gridcolor\": \"white\", \"linecolor\": \"white\", \"ticks\": \"\"}, \"bgcolor\": \"#E5ECF6\", \"radialaxis\": {\"gridcolor\": \"white\", \"linecolor\": \"white\", \"ticks\": \"\"}}, \"scene\": {\"xaxis\": {\"backgroundcolor\": \"#E5ECF6\", \"gridcolor\": \"white\", \"gridwidth\": 2, \"linecolor\": \"white\", \"showbackground\": true, \"ticks\": \"\", \"zerolinecolor\": \"white\"}, \"yaxis\": {\"backgroundcolor\": \"#E5ECF6\", \"gridcolor\": \"white\", \"gridwidth\": 2, \"linecolor\": \"white\", \"showbackground\": true, \"ticks\": \"\", \"zerolinecolor\": \"white\"}, \"zaxis\": {\"backgroundcolor\": \"#E5ECF6\", \"gridcolor\": \"white\", \"gridwidth\": 2, \"linecolor\": \"white\", \"showbackground\": true, \"ticks\": \"\", \"zerolinecolor\": \"white\"}}, \"shapedefaults\": {\"line\": {\"color\": \"#2a3f5f\"}}, \"ternary\": {\"aaxis\": {\"gridcolor\": \"white\", \"linecolor\": \"white\", \"ticks\": \"\"}, \"baxis\": {\"gridcolor\": \"white\", \"linecolor\": \"white\", \"ticks\": \"\"}, \"bgcolor\": \"#E5ECF6\", \"caxis\": {\"gridcolor\": \"white\", \"linecolor\": \"white\", \"ticks\": \"\"}}, \"title\": {\"x\": 0.05}, \"xaxis\": {\"automargin\": true, \"gridcolor\": \"white\", \"linecolor\": \"white\", \"ticks\": \"\", \"zerolinecolor\": \"white\", \"zerolinewidth\": 2}, \"yaxis\": {\"automargin\": true, \"gridcolor\": \"white\", \"linecolor\": \"white\", \"ticks\": \"\", \"zerolinecolor\": \"white\", \"zerolinewidth\": 2}}}},\n",
       "                        {\"responsive\": true}\n",
       "                    ).then(function(){\n",
       "                            \n",
       "var gd = document.getElementById('e3f28df9-1160-4ee8-959a-203a51003fc0');\n",
       "var x = new MutationObserver(function (mutations, observer) {{\n",
       "        var display = window.getComputedStyle(gd).display;\n",
       "        if (!display || display === 'none') {{\n",
       "            console.log([gd, 'removed!']);\n",
       "            Plotly.purge(gd);\n",
       "            observer.disconnect();\n",
       "        }}\n",
       "}});\n",
       "\n",
       "// Listen for the removal of the full notebook cells\n",
       "var notebookContainer = gd.closest('#notebook-container');\n",
       "if (notebookContainer) {{\n",
       "    x.observe(notebookContainer, {childList: true});\n",
       "}}\n",
       "\n",
       "// Listen for the clearing of the current output cell\n",
       "var outputEl = gd.closest('.output');\n",
       "if (outputEl) {{\n",
       "    x.observe(outputEl, {childList: true});\n",
       "}}\n",
       "\n",
       "                        })\n",
       "                };\n",
       "                });\n",
       "            </script>\n",
       "        </div>"
      ]
     },
     "metadata": {},
     "output_type": "display_data"
    }
   ],
   "source": [
    "import plotly.express as px\n",
    "import pandas as pd\n",
    "data = pd.read_json('../outputs/finalDf.json')\n",
    "fig = px.scatter_mapbox(data, lat=\"lat\", lon=\"long\", hover_name='name', hover_data=[\"category\"],\n",
    "                        color_discrete_sequence=[\"blue\"], zoom=12, height=700)\n",
    "fig.update_layout(mapbox_style=\"open-street-map\")\n",
    "fig.update_layout(margin={\"r\":0,\"t\":0,\"l\":0,\"b\":0})\n",
    "fig.show()\n"
   ]
  },
  {
   "cell_type": "code",
   "execution_count": null,
   "metadata": {},
   "outputs": [],
   "source": []
  }
 ],
 "metadata": {
  "kernelspec": {
   "display_name": "Python 3",
   "language": "python",
   "name": "python3"
  },
  "language_info": {
   "codemirror_mode": {
    "name": "ipython",
    "version": 3
   },
   "file_extension": ".py",
   "mimetype": "text/x-python",
   "name": "python",
   "nbconvert_exporter": "python",
   "pygments_lexer": "ipython3",
   "version": "3.6.8"
  }
 },
 "nbformat": 4,
 "nbformat_minor": 2
}
