{
 "cells": [
  {
   "cell_type": "code",
   "execution_count": 2,
   "metadata": {},
   "outputs": [],
   "source": [
    "from pymongo import MongoClient\n",
    "import pandas as pd\n",
    "from getEnv import getVariable\n",
    "from getMongoClient import getClient"
   ]
  },
  {
   "cell_type": "code",
   "execution_count": 14,
   "metadata": {},
   "outputs": [
    {
     "name": "stdout",
     "output_type": "stream",
     "text": [
      "MongoClient(host=['localhost:27017'], document_class=dict, tz_aware=False, connect=True)\n"
     ]
    }
   ],
   "source": [
    "client = MongoClient(\"mongodb://localhost:27017/\",username='admin',password=getVariable('mongoPass'))\n",
    "print(client)"
   ]
  },
  {
   "cell_type": "code",
   "execution_count": 15,
   "metadata": {},
   "outputs": [
    {
     "data": {
      "text/plain": [
       "'Curro1989'"
      ]
     },
     "execution_count": 15,
     "metadata": {},
     "output_type": "execute_result"
    }
   ],
   "source": [
    "getVariable('mongoPass')"
   ]
  },
  {
   "cell_type": "code",
   "execution_count": 16,
   "metadata": {},
   "outputs": [],
   "source": [
    "dbCompanies = client.companies"
   ]
  },
  {
   "cell_type": "code",
   "execution_count": 17,
   "metadata": {},
   "outputs": [],
   "source": [
    "dfCompanies = pd.DataFrame(dbCompanies.companies.find())"
   ]
  },
  {
   "cell_type": "markdown",
   "metadata": {},
   "source": [
    "Voy a hacer una búsqueda de las compañías de videojuegos quedándome con las oficinas, el nombre y el dinero que han ganado, también las que tienen una M en el dinero ganado, así sabré cuáles han facturado un millón o más de cualquier divisa"
   ]
  },
  {
   "cell_type": "code",
   "execution_count": null,
   "metadata": {},
   "outputs": [],
   "source": []
  },
  {
   "cell_type": "code",
   "execution_count": 18,
   "metadata": {},
   "outputs": [],
   "source": [
    "videGamesMt1M = list(dbCompanies.companies.find({'category_code':{'$regex':'games_video'},\n",
    "                                            'total_money_raised':{'$regex':'M'},\n",
    "                                           \"offices.latitude\":{'$ne':None},\n",
    "                                           \"offices.longitude\":{'$ne':None}}, \n",
    "    {'name':1,'total_money_raised':1,\"offices.latitude\":1,\"offices.longitude\":1,'founded_year':1},\n",
    "                                 ))"
   ]
  },
  {
   "cell_type": "code",
   "execution_count": 19,
   "metadata": {},
   "outputs": [
    {
     "data": {
      "text/plain": [
       "\"for ele in videGamesMt1M:\\n    if ele['total_money_raised'].find('$')==-1:\\n        print(ele['total_money_raised'])\\n        con ese for sé que no necesito convertir ninguna \\n        divisa porque las pocas que hay en EUROS,Libras,Yuanes y Yenes superan ampliamente el millón de dólares\""
      ]
     },
     "execution_count": 19,
     "metadata": {},
     "output_type": "execute_result"
    }
   ],
   "source": [
    "\"\"\"for ele in videGamesMt1M:\n",
    "    if ele['total_money_raised'].find('$')==-1:\n",
    "        print(ele['total_money_raised'])\n",
    "        con ese for sé que no necesito convertir ninguna \n",
    "        divisa porque las pocas que hay en EUROS,Libras,Yuanes y Yenes superan ampliamente el millón de dólares\"\"\""
   ]
  },
  {
   "cell_type": "code",
   "execution_count": 20,
   "metadata": {},
   "outputs": [
    {
     "data": {
      "text/plain": [
       "1"
      ]
     },
     "execution_count": 20,
     "metadata": {},
     "output_type": "execute_result"
    }
   ],
   "source": [
    "len(videGamesMt1M[0]['offices'])"
   ]
  },
  {
   "cell_type": "code",
   "execution_count": 21,
   "metadata": {},
   "outputs": [],
   "source": [
    "def getDictOffice(offices):\n",
    "    listdictOffice = []\n",
    "    for ele in offices:\n",
    "        if len(ele['offices']) > 0:\n",
    "            name = ele['name'] \n",
    "            money = ele['total_money_raised']\n",
    "            year = ele['founded_year']\n",
    "            latitude = ele['offices'][0]['latitude']\n",
    "            longitude = ele['offices'][0]['longitude']\n",
    "            listdictOffice.append({'name':name,'money_raised':money,'founded_year':year,\n",
    "                                  'lat':latitude,'long':longitude})\n",
    "    return listdictOffice\n",
    "\n"
   ]
  },
  {
   "cell_type": "code",
   "execution_count": 22,
   "metadata": {},
   "outputs": [],
   "source": [
    "data = getDictOffice(videGamesMt1M)"
   ]
  },
  {
   "cell_type": "code",
   "execution_count": 23,
   "metadata": {},
   "outputs": [],
   "source": [
    "dfOffice = pd.DataFrame(data)"
   ]
  },
  {
   "cell_type": "code",
   "execution_count": 24,
   "metadata": {},
   "outputs": [],
   "source": [
    "def createGeoJson(dfOffice):\n",
    "    return {\n",
    "        \"type\":\"Point\",\n",
    "        \"coordinates\":[dfOffice[\"long\"],dfOffice[\"lat\"]]\n",
    "    }"
   ]
  },
  {
   "cell_type": "code",
   "execution_count": 25,
   "metadata": {},
   "outputs": [],
   "source": [
    "dfOffice['position']=dfOffice.apply(createGeoJson,axis = 1)"
   ]
  },
  {
   "cell_type": "code",
   "execution_count": 26,
   "metadata": {},
   "outputs": [],
   "source": [
    "dfOffice.to_json('./../outputs/jsonposition/officesVideo1M.json')"
   ]
  },
  {
   "cell_type": "code",
   "execution_count": null,
   "metadata": {},
   "outputs": [],
   "source": []
  }
 ],
 "metadata": {
  "kernelspec": {
   "display_name": "Python 3",
   "language": "python",
   "name": "python3"
  },
  "language_info": {
   "codemirror_mode": {
    "name": "ipython",
    "version": 3
   },
   "file_extension": ".py",
   "mimetype": "text/x-python",
   "name": "python",
   "nbconvert_exporter": "python",
   "pygments_lexer": "ipython3",
   "version": "3.6.8"
  }
 },
 "nbformat": 4,
 "nbformat_minor": 2
}
